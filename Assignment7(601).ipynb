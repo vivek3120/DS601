{
  "nbformat": 4,
  "nbformat_minor": 0,
  "metadata": {
    "colab": {
      "name": "Assignment7(601).ipynb",
      "provenance": [],
      "collapsed_sections": [],
      "toc_visible": true
    },
    "kernelspec": {
      "name": "python3",
      "display_name": "Python 3"
    },
    "language_info": {
      "name": "python"
    }
  },
  "cells": [
    {
      "cell_type": "markdown",
      "metadata": {
        "id": "J9d8-i9zk7J9"
      },
      "source": [
        "# Agenda\n",
        "\n",
        "- Part-I\n",
        "\n",
        "  - Introduction of the tast\n",
        "\n",
        "  - Scraping [Transfermarkt with BeautifulSoup](https://www.transfermarkt.com/)\n",
        "\n",
        "- Part-II: Lab\n",
        "\n",
        "  - Finishing the remaining part of the task. \n",
        "  - Creating the dataset and saving it."
      ]
    },
    {
      "cell_type": "markdown",
      "metadata": {
        "id": "ruxqiUsVlQ9q"
      },
      "source": [
        "# Part-I"
      ]
    },
    {
      "cell_type": "markdown",
      "metadata": {
        "id": "Ohf3g_GKlYpA"
      },
      "source": [
        "## Introduction to the task"
      ]
    },
    {
      "cell_type": "markdown",
      "metadata": {
        "id": "bAHjdgBOle6J"
      },
      "source": [
        "Today we will write some part of the code that can create Premier League Player's transfer record dataset. \n",
        "\n",
        "\n",
        "[Transfermarkt](https://www.transfermarkt.com/)"
      ]
    },
    {
      "cell_type": "markdown",
      "metadata": {
        "id": "PBz7EaRplmB1"
      },
      "source": [
        "## Coding"
      ]
    },
    {
      "cell_type": "code",
      "metadata": {
        "id": "4scHxO6utH-Y"
      },
      "source": [
        "## Recall that we used requests library and beautifulsoup library before \n",
        "import requests\n",
        "from bs4 import BeautifulSoup"
      ],
      "execution_count": null,
      "outputs": []
    },
    {
      "cell_type": "markdown",
      "metadata": {
        "id": "jhBoAoeBnbRw"
      },
      "source": [
        "[User-Agents](https://www.whoishostingthis.com/tools/user-agent/)"
      ]
    },
    {
      "cell_type": "markdown",
      "metadata": {
        "id": "hBWwsf3fn8Ll"
      },
      "source": [
        "- Getting TransferMarkt's main page\n",
        "\n"
      ]
    },
    {
      "cell_type": "code",
      "metadata": {
        "colab": {
          "base_uri": "https://localhost:8080/"
        },
        "id": "AjUNeIgPlqdt",
        "outputId": "597ee800-9520-4108-a5b8-4deea6b875b1"
      },
      "source": [
        "### This part will be done in class:\n",
        "\n",
        "url = \"https://www.transfermarkt.com/\"\n",
        "\n",
        "headers = {'User-Agent':'Mozilla/5.0 (X11; Linux x86_64) AppleWebKit/537.36 (KHTML, like Gecko) Chrome/47.0.2526.106 Safari/537.36'}\n",
        "\n",
        "resp = requests.get(url, headers = headers, timeout = 5 )\n",
        "\n",
        "print(resp.status_code)\n",
        "\n",
        "soup_obj = BeautifulSoup(resp.content, 'html.parser')\n",
        "\n"
      ],
      "execution_count": null,
      "outputs": [
        {
          "output_type": "stream",
          "text": [
            "200\n"
          ],
          "name": "stdout"
        }
      ]
    },
    {
      "cell_type": "code",
      "metadata": {
        "colab": {
          "base_uri": "https://localhost:8080/"
        },
        "id": "hBzFJnBvISXg",
        "outputId": "2c3610bb-160b-49a5-eee4-3663ed122108"
      },
      "source": [
        "type(soup_obj)"
      ],
      "execution_count": null,
      "outputs": [
        {
          "output_type": "execute_result",
          "data": {
            "text/plain": [
              "bs4.BeautifulSoup"
            ]
          },
          "metadata": {
            "tags": []
          },
          "execution_count": 51
        }
      ]
    },
    {
      "cell_type": "code",
      "metadata": {
        "colab": {
          "base_uri": "https://localhost:8080/"
        },
        "id": "BGHLdPBCIZrx",
        "outputId": "045c2c54-1f94-4b61-bdb0-cc23ceb9996c"
      },
      "source": [
        "dir(soup_obj)"
      ],
      "execution_count": null,
      "outputs": [
        {
          "output_type": "execute_result",
          "data": {
            "text/plain": [
              "['ASCII_SPACES',\n",
              " 'DEFAULT_BUILDER_FEATURES',\n",
              " 'HTML_FORMATTERS',\n",
              " 'NO_PARSER_SPECIFIED_WARNING',\n",
              " 'ROOT_TAG_NAME',\n",
              " 'XML_FORMATTERS',\n",
              " '__bool__',\n",
              " '__call__',\n",
              " '__class__',\n",
              " '__contains__',\n",
              " '__copy__',\n",
              " '__delattr__',\n",
              " '__delitem__',\n",
              " '__dict__',\n",
              " '__dir__',\n",
              " '__doc__',\n",
              " '__eq__',\n",
              " '__format__',\n",
              " '__ge__',\n",
              " '__getattr__',\n",
              " '__getattribute__',\n",
              " '__getitem__',\n",
              " '__getstate__',\n",
              " '__gt__',\n",
              " '__hash__',\n",
              " '__init__',\n",
              " '__init_subclass__',\n",
              " '__iter__',\n",
              " '__le__',\n",
              " '__len__',\n",
              " '__lt__',\n",
              " '__module__',\n",
              " '__ne__',\n",
              " '__new__',\n",
              " '__reduce__',\n",
              " '__reduce_ex__',\n",
              " '__repr__',\n",
              " '__setattr__',\n",
              " '__setitem__',\n",
              " '__sizeof__',\n",
              " '__str__',\n",
              " '__subclasshook__',\n",
              " '__unicode__',\n",
              " '__weakref__',\n",
              " '_all_strings',\n",
              " '_attr_value_as_string',\n",
              " '_attribute_checker',\n",
              " '_check_markup_is_url',\n",
              " '_feed',\n",
              " '_find_all',\n",
              " '_find_one',\n",
              " '_formatter_for_name',\n",
              " '_is_xml',\n",
              " '_lastRecursiveChild',\n",
              " '_last_descendant',\n",
              " '_most_recent_element',\n",
              " '_popToTag',\n",
              " '_select_debug',\n",
              " '_selector_combinators',\n",
              " '_should_pretty_print',\n",
              " '_tag_name_matches_and',\n",
              " 'append',\n",
              " 'attribselect_re',\n",
              " 'attrs',\n",
              " 'builder',\n",
              " 'can_be_empty_element',\n",
              " 'childGenerator',\n",
              " 'children',\n",
              " 'clear',\n",
              " 'contains_replacement_characters',\n",
              " 'contents',\n",
              " 'currentTag',\n",
              " 'current_data',\n",
              " 'declared_html_encoding',\n",
              " 'decode',\n",
              " 'decode_contents',\n",
              " 'decompose',\n",
              " 'descendants',\n",
              " 'encode',\n",
              " 'encode_contents',\n",
              " 'endData',\n",
              " 'extract',\n",
              " 'fetchNextSiblings',\n",
              " 'fetchParents',\n",
              " 'fetchPrevious',\n",
              " 'fetchPreviousSiblings',\n",
              " 'find',\n",
              " 'findAll',\n",
              " 'findAllNext',\n",
              " 'findAllPrevious',\n",
              " 'findChild',\n",
              " 'findChildren',\n",
              " 'findNext',\n",
              " 'findNextSibling',\n",
              " 'findNextSiblings',\n",
              " 'findParent',\n",
              " 'findParents',\n",
              " 'findPrevious',\n",
              " 'findPreviousSibling',\n",
              " 'findPreviousSiblings',\n",
              " 'find_all',\n",
              " 'find_all_next',\n",
              " 'find_all_previous',\n",
              " 'find_next',\n",
              " 'find_next_sibling',\n",
              " 'find_next_siblings',\n",
              " 'find_parent',\n",
              " 'find_parents',\n",
              " 'find_previous',\n",
              " 'find_previous_sibling',\n",
              " 'find_previous_siblings',\n",
              " 'format_string',\n",
              " 'get',\n",
              " 'getText',\n",
              " 'get_attribute_list',\n",
              " 'get_text',\n",
              " 'handle_data',\n",
              " 'handle_endtag',\n",
              " 'handle_starttag',\n",
              " 'has_attr',\n",
              " 'has_key',\n",
              " 'hidden',\n",
              " 'index',\n",
              " 'insert',\n",
              " 'insert_after',\n",
              " 'insert_before',\n",
              " 'isSelfClosing',\n",
              " 'is_empty_element',\n",
              " 'is_xml',\n",
              " 'known_xml',\n",
              " 'markup',\n",
              " 'name',\n",
              " 'namespace',\n",
              " 'new_string',\n",
              " 'new_tag',\n",
              " 'next',\n",
              " 'nextGenerator',\n",
              " 'nextSibling',\n",
              " 'nextSiblingGenerator',\n",
              " 'next_element',\n",
              " 'next_elements',\n",
              " 'next_sibling',\n",
              " 'next_siblings',\n",
              " 'object_was_parsed',\n",
              " 'original_encoding',\n",
              " 'parent',\n",
              " 'parentGenerator',\n",
              " 'parents',\n",
              " 'parse_only',\n",
              " 'parserClass',\n",
              " 'parser_class',\n",
              " 'popTag',\n",
              " 'prefix',\n",
              " 'preserve_whitespace_tag_stack',\n",
              " 'preserve_whitespace_tags',\n",
              " 'prettify',\n",
              " 'previous',\n",
              " 'previousGenerator',\n",
              " 'previousSibling',\n",
              " 'previousSiblingGenerator',\n",
              " 'previous_element',\n",
              " 'previous_elements',\n",
              " 'previous_sibling',\n",
              " 'previous_siblings',\n",
              " 'pushTag',\n",
              " 'quoted_colon',\n",
              " 'recursiveChildGenerator',\n",
              " 'renderContents',\n",
              " 'replaceWith',\n",
              " 'replaceWithChildren',\n",
              " 'replace_with',\n",
              " 'replace_with_children',\n",
              " 'reset',\n",
              " 'select',\n",
              " 'select_one',\n",
              " 'setup',\n",
              " 'string',\n",
              " 'strings',\n",
              " 'stripped_strings',\n",
              " 'tagStack',\n",
              " 'tag_name_re',\n",
              " 'text',\n",
              " 'unwrap',\n",
              " 'wrap']"
            ]
          },
          "metadata": {
            "tags": []
          },
          "execution_count": 52
        }
      ]
    },
    {
      "cell_type": "markdown",
      "metadata": {
        "id": "5nT1xdvuo5qG"
      },
      "source": [
        "- This time, let's try to get English Premier League's Page"
      ]
    },
    {
      "cell_type": "code",
      "metadata": {
        "colab": {
          "base_uri": "https://localhost:8080/"
        },
        "id": "sU0p8YsFnNuz",
        "outputId": "8af6482f-89ba-4501-eefa-db270b3d24d1"
      },
      "source": [
        "## This part will be done in class\n",
        "\n",
        "\n",
        "url = 'https://www.transfermarkt.com/premier-league/startseite/wettbewerb/GB1'\n",
        "\n",
        "headers = {'User-Agent': \n",
        "        'Mozilla/5.0 (X11; Linux x86_64) AppleWebKit/537.36 (KHTML, like Gecko) Chrome/47.0.2526.106 Safari/537.36'}\n",
        "\n",
        "resp = requests.get(url, headers = headers, timeout = 5)\n",
        "\n",
        "print(resp.status_code)\n",
        "\n",
        "soup_obj = BeautifulSoup(resp.content, 'html.parser')"
      ],
      "execution_count": null,
      "outputs": [
        {
          "output_type": "stream",
          "text": [
            "200\n"
          ],
          "name": "stdout"
        }
      ]
    },
    {
      "cell_type": "code",
      "metadata": {
        "colab": {
          "base_uri": "https://localhost:8080/"
        },
        "id": "R4z1zLQwJ4G1",
        "outputId": "d2f405fe-9f04-4dd8-f802-1ea255259f42"
      },
      "source": [
        "soup_obj.head"
      ],
      "execution_count": null,
      "outputs": [
        {
          "output_type": "execute_result",
          "data": {
            "text/plain": [
              "<head>\n",
              "<script type=\"text/javascript\">\n",
              "    !function () { var e = function () { var e, t = \"__tcfapiLocator\", a = [], n = window; for (; n;) { try { if (n.frames[t]) { e = n; break } } catch (e) { } if (n === window.top) break; n = n.parent } e || (!function e() { var a = n.document, r = !!n.frames[t]; if (!r) if (a.body) { var i = a.createElement(\"iframe\"); i.style.cssText = \"display:none\", i.name = t, a.body.appendChild(i) } else setTimeout(e, 5); return !r }(), n.__tcfapi = function () { for (var e, t = arguments.length, n = new Array(t), r = 0; r < t; r++)n[r] = arguments[r]; if (!n.length) return a; if (\"setGdprApplies\" === n[0]) n.length > 3 && 2 === parseInt(n[1], 10) && \"boolean\" == typeof n[3] && (e = n[3], \"function\" == typeof n[2] && n[2](\"set\", !0)); else if (\"ping\" === n[0]) { var i = { gdprApplies: e, cmpLoaded: !1, cmpStatus: \"stub\" }; \"function\" == typeof n[2] && n[2](i) } else a.push(n) }, n.addEventListener(\"message\", (function (e) { var t = \"string\" == typeof e.data, a = {}; try { a = t ? JSON.parse(e.data) : e.data } catch (e) { } var n = a.__tcfapiCall; n && window.__tcfapi(n.command, n.version, (function (a, r) { var i = { __tcfapiReturn: { returnValue: a, success: r, callId: n.callId } }; t && (i = JSON.stringify(i)), e.source.postMessage(i, \"*\") }), n.parameter) }), !1)) }; \"undefined\" != typeof module ? module.exports = e : e() }();\n",
              "</script>\n",
              "<script>\n",
              "window._sp_ = {\n",
              "    config: {\"accountId\":1254,\"propertyId\":7427,\"baseEndpoint\":\"https://cdn.privacy-mgmt.com\"}}\n",
              "</script>\n",
              "<script src=\"https://cdn.privacy-mgmt.com/wrapperMessagingWithoutDetection.js\"></script>\n",
              "<meta charset=\"utf-8\"/>\n",
              "<meta content=\"IE=edge\" http-equiv=\"x-ua-compatible\"/>\n",
              "<meta content=\"telephone=no\" name=\"format-detection\"/>\n",
              "<meta content=\"#1a3151\" name=\"theme-color\">\n",
              "<link href=\"/favicon.ico\" rel=\"shortcut icon\" type=\"image/x-icon\"/>\n",
              "<link href=\"/favicon-16x16.png\" rel=\"shortcut icon\" sizes=\"16x16\"/>\n",
              "<link href=\"/android-chrome-192x192.png\" rel=\"shortcut icon\" sizes=\"192x192\"/>\n",
              "<link href=\"/apple-touch-icon-152x152.png\" rel=\"apple-touch-icon-precomposed\"/>\n",
              "<meta content=\"width=device-width, initial-scale=1.0, maximum-scale=2.0, user-scalable=no\" name=\"viewport\">\n",
              "<meta content=\"Premier League,England\" name=\"keywords\"/>\n",
              "<meta content=\"This is the page for the Premier League, with an overview of fixtures, tables, dates, squads, market values, statistics and history.\" name=\"description\"/>\n",
              "<meta content=\"article\" property=\"og:type\"/>\n",
              "<meta content=\"https://tmssl.akamaized.net/images/tm_logo.png\" property=\"og:image\"/>\n",
              "<meta content=\"\" property=\"og:description\"/>\n",
              "<meta content=\"Premier League 20/21\" property=\"og:title\"/>\n",
              "<meta content=\"https://www.transfermarkt.com/premier-league/startseite/wettbewerb/GB1\" property=\"og:url\"/>\n",
              "<link href=\"https://www.transfermarkt.de/premier-league/startseite/wettbewerb/GB1\" hreflang=\"de\" rel=\"alternate\">\n",
              "<link href=\"https://www.transfermarkt.de/premier-league/startseite/wettbewerb/GB1\" hreflang=\"de-LU\" rel=\"alternate\">\n",
              "<link href=\"https://www.transfermarkt.at/premier-league/startseite/wettbewerb/GB1\" hreflang=\"de-AT\" rel=\"alternate\">\n",
              "<link href=\"https://www.transfermarkt.ch/premier-league/startseite/wettbewerb/GB1\" hreflang=\"de-CH\" rel=\"alternate\"/>\n",
              "<link href=\"https://www.transfermarkt.com.tr/premier-league/startseite/wettbewerb/GB1\" hreflang=\"tr\" rel=\"alternate\"/>\n",
              "<link href=\"https://www.transfermarkt.it/premier-league/startseite/wettbewerb/GB1\" hreflang=\"it-CH\" rel=\"alternate\"/>\n",
              "<link href=\"https://www.transfermarkt.it/premier-league/startseite/wettbewerb/GB1\" hreflang=\"it\" rel=\"alternate\"/>\n",
              "<link href=\"https://www.transfermarkt.pl/premier-league/startseite/wettbewerb/GB1\" hreflang=\"pl\" rel=\"alternate\"/>\n",
              "<link href=\"https://www.transfermarkt.co.uk/premier-league/startseite/wettbewerb/GB1\" hreflang=\"en-GB\" rel=\"alternate\"/>\n",
              "<link href=\"https://www.transfermarkt.co.uk/premier-league/startseite/wettbewerb/GB1\" hreflang=\"en-IE\" rel=\"alternate\"/>\n",
              "<link href=\"https://www.transfermarkt.es/premier-league/startseite/wettbewerb/GB1\" hreflang=\"es\" rel=\"alternate\"/>\n",
              "<link href=\"https://www.transfermarkt.es/premier-league/startseite/wettbewerb/GB1\" hreflang=\"es-ES\" rel=\"alternate\"/>\n",
              "<link href=\"https://www.transfermarkt.es/premier-league/startseite/wettbewerb/GB1\" hreflang=\"es-CL\" rel=\"alternate\"/>\n",
              "<link href=\"https://www.transfermarkt.es/premier-league/startseite/wettbewerb/GB1\" hreflang=\"es-VE\" rel=\"alternate\"/>\n",
              "<link href=\"https://www.transfermarkt.es/premier-league/startseite/wettbewerb/GB1\" hreflang=\"es-PE\" rel=\"alternate\"/>\n",
              "<link href=\"https://www.transfermarkt.es/premier-league/startseite/wettbewerb/GB1\" hreflang=\"es-EC\" rel=\"alternate\"/>\n",
              "<link href=\"https://www.transfermarkt.es/premier-league/startseite/wettbewerb/GB1\" hreflang=\"es-CU\" rel=\"alternate\"/>\n",
              "<link href=\"https://www.transfermarkt.nl/premier-league/startseite/wettbewerb/GB1\" hreflang=\"nl\" rel=\"alternate\"/>\n",
              "<link href=\"https://www.transfermarkt.pt/premier-league/startseite/wettbewerb/GB1\" hreflang=\"pt\" rel=\"alternate\"/>\n",
              "<link href=\"https://www.transfermarkt.ru/premier-league/startseite/wettbewerb/GB1\" hreflang=\"ru\" rel=\"alternate\"/>\n",
              "<link href=\"https://www.transfermarkt.fr/premier-league/startseite/wettbewerb/GB1\" hreflang=\"fr-CH\" rel=\"alternate\"/>\n",
              "<link href=\"https://www.transfermarkt.fr/premier-league/startseite/wettbewerb/GB1\" hreflang=\"fr\" rel=\"alternate\"/>\n",
              "<link href=\"https://www.transfermarkt.fr/premier-league/startseite/wettbewerb/GB1\" hreflang=\"fr-CA\" rel=\"alternate\"/>\n",
              "<link href=\"https://www.transfermarkt.fr/premier-league/startseite/wettbewerb/GB1\" hreflang=\"fr-CI\" rel=\"alternate\"/>\n",
              "<link href=\"https://www.transfermarkt.fr/premier-league/startseite/wettbewerb/GB1\" hreflang=\"fr-LU\" rel=\"alternate\"/>\n",
              "<link href=\"https://www.transfermarkt.fr/premier-league/startseite/wettbewerb/GB1\" hreflang=\"fr-BE\" rel=\"alternate\"/>\n",
              "<link href=\"https://www.transfermarkt.com.br/premier-league/startseite/wettbewerb/GB1\" hreflang=\"pt-BR\" rel=\"alternate\"/>\n",
              "<link href=\"https://www.transfermarkt.us/premier-league/startseite/wettbewerb/GB1\" hreflang=\"en-US\" rel=\"alternate\"/>\n",
              "<link href=\"https://www.transfermarkt.us/premier-league/startseite/wettbewerb/GB1\" hreflang=\"en-CA\" rel=\"alternate\"/>\n",
              "<link href=\"https://www.transfermarkt.co.in/premier-league/startseite/wettbewerb/GB1\" hreflang=\"en-IN\" rel=\"alternate\"/>\n",
              "<link href=\"https://www.transfermarkt.co.za/premier-league/startseite/wettbewerb/GB1\" hreflang=\"en-ZA\" rel=\"alternate\"/>\n",
              "<link href=\"https://www.transfermarkt.com/premier-league/startseite/wettbewerb/GB1\" hreflang=\"x-default\" rel=\"alternate\"/>\n",
              "<link href=\"https://www.transfermarkt.com/premier-league/startseite/wettbewerb/GB1\" hreflang=\"en\" rel=\"alternate\"/>\n",
              "<link href=\"https://www.transfermarkt.be/premier-league/startseite/wettbewerb/GB1\" hreflang=\"nl-BE\" rel=\"alternate\"/>\n",
              "<link href=\"https://www.transfermarkt.com.ar/premier-league/startseite/wettbewerb/GB1\" hreflang=\"es-AR\" rel=\"alternate\"/>\n",
              "<link href=\"https://www.transfermarkt.mx/premier-league/startseite/wettbewerb/GB1\" hreflang=\"es-MX\" rel=\"alternate\"/>\n",
              "<link href=\"https://www.transfermarkt.co/premier-league/startseite/wettbewerb/GB1\" hreflang=\"es-CO\" rel=\"alternate\"/>\n",
              "<link href=\"https://www.transfermarkt.my/premier-league/startseite/wettbewerb/GB1\" hreflang=\"ms\" rel=\"alternate\"/>\n",
              "<link href=\"https://www.transfermarkt.jp/premier-league/startseite/wettbewerb/GB1\" hreflang=\"ja\" rel=\"alternate\"/>\n",
              "<link href=\"https://www.transfermarkt.co.id/premier-league/startseite/wettbewerb/GB1\" hreflang=\"id\" rel=\"alternate\"/>\n",
              "<link href=\"https://tmssl.akamaized.net/css/stylesheets/menue.css?lm=1620040217\" rel=\"stylesheet\" type=\"text/css\"/>\n",
              "<link href=\"https://tmssl.akamaized.net/css/stylesheets/tm-grid.css?lm=1620040217\" rel=\"stylesheet\" type=\"text/css\"/>\n",
              "<link href=\"https://tmssl.akamaized.net/css/stylesheets/main.css?lm=1620040217\" rel=\"stylesheet\" type=\"text/css\"/>\n",
              "<link href=\"https://tmssl.akamaized.net/css/foundation-icons.css?lm=1620040217\" rel=\"stylesheet\" type=\"text/css\"/>\n",
              "<link href=\"https://tmssl.akamaized.net/assets/b7c5571cf8957553f95f6d9069eaed67/jui/css/base/jquery-ui.css?lm=1620040218\" rel=\"stylesheet\" type=\"text/css\"/>\n",
              "<link href=\"https://tmssl.akamaized.net/css/stylesheets/main_desktop.css?lm=1620040217\" rel=\"stylesheet\" type=\"text/css\"/>\n",
              "<link href=\"https://tmssl.akamaized.net/css/sprite-main.css?lm=1620040217\" rel=\"stylesheet\" type=\"text/css\"/>\n",
              "<link href=\"https://tmssl.akamaized.net/css/chosen.css?lm=1620040217\" rel=\"stylesheet\" type=\"text/css\"/>\n",
              "<link href=\"https://tmssl.akamaized.net/css/jquery-ui-1.10.4.custom.css?lm=1620040217\" rel=\"stylesheet\" type=\"text/css\"/>\n",
              "<link href=\"https://tmssl.akamaized.net/css/jquery-ui-1.10.4.tm-theme.css?lm=1620040217\" rel=\"stylesheet\" type=\"text/css\"/>\n",
              "<link href=\"https://tmssl.akamaized.net/css/stylesheets/main_werbung.css?lm=1620040217\" rel=\"stylesheet\" type=\"text/css\"/>\n",
              "<link href=\"https://tmssl.akamaized.net/css/shortclasses.css?lm=1620040217\" rel=\"stylesheet\" type=\"text/css\"/>\n",
              "<link href=\"https://tmssl.akamaized.net/css/print.css?_sn=1?lm=1620040217\" media=\"print\" rel=\"stylesheet\" type=\"text/css\"/>\n",
              "<link href=\"https://tmssl.akamaized.net/css/wettbewerb.css?lm=1620040217\" rel=\"stylesheet\" type=\"text/css\"/>\n",
              "<link href=\"https://tmssl.akamaized.net/css/statistiken.css?lm=1620040217\" rel=\"stylesheet\" type=\"text/css\"/>\n",
              "<link href=\"https://tmssl.akamaized.net/css/desktop.css?lm=1620040217\" rel=\"stylesheet\" type=\"text/css\"/>\n",
              "<link href=\"https://tmssl.akamaized.net/css/domainspezifisch/desktop-com.css?lm=1620040217\" rel=\"stylesheet\" type=\"text/css\"/>\n",
              "<link href=\"https://tmssl.akamaized.net/css/stylesheets/wettbewerb.css?lm=1620040217\" rel=\"stylesheet\" type=\"text/css\"/>\n",
              "<link href=\"https://tmssl.akamaized.net/css/stylesheets/gridview.css?lm=1620040217\" rel=\"stylesheet\" type=\"text/css\"/>\n",
              "<link href=\"https://tmssl.akamaized.net/css/stylesheets/spieltagsbox.css?lm=1620040217\" rel=\"stylesheet\" type=\"text/css\"/>\n",
              "<link href=\"https://tmssl.akamaized.net/css/livespieltag.css?lm=1620040217\" rel=\"stylesheet\" type=\"text/css\"/>\n",
              "<link href=\"https://tmssl.akamaized.net/css/stylesheets/relevante_news.css?lm=1620040217\" rel=\"stylesheet\" type=\"text/css\"/>\n",
              "<link href=\"https://tmssl.akamaized.net/css/jquery.bxslider.min.css?lm=1620040217\" rel=\"stylesheet\" type=\"text/css\"/>\n",
              "<link href=\"https://tmssl.akamaized.net/css/jquery.custom.bxslider.css?lm=1620040217\" rel=\"stylesheet\" type=\"text/css\"/>\n",
              "<link href=\"https://tmssl.akamaized.net/css/beliebtheit.css?lm=1620040217\" rel=\"stylesheet\" type=\"text/css\"/>\n",
              "<link href=\"https://tmssl.akamaized.net/assets/bdb39bc7538f732f9833170435d23c28/css/tooltipster.css?lm=1620040218\" rel=\"stylesheet\" type=\"text/css\"/>\n",
              "<style type=\"text/css\">\n",
              "/*<![CDATA[*/\n",
              "@keyframes heim {\n",
              "    0%   {width: 0%;}\n",
              "    100% {width: 0%}\n",
              "}\n",
              "@keyframes gast {\n",
              "    0%   {width: 0%;}\n",
              "    100% {width: 0%}\n",
              "}\n",
              ".beliebtheit-vote-heim {\n",
              "    animation-name: heim;\n",
              "    animation-duration: 4s;\n",
              "}\n",
              ".beliebtheit-vote-gast {\n",
              "    animation-name: gast;\n",
              "    animation-duration: 4s;\n",
              "}\n",
              "/*]]>*/\n",
              "</style>\n",
              "<script src=\"https://tmssl.akamaized.net/js/vendor/jquery.min.js?lm=1620040213\" type=\"text/javascript\"></script>\n",
              "<script src=\"https://tmssl.akamaized.net/assets/b7c5571cf8957553f95f6d9069eaed67/jquery.ba-bbq.min.js?lm=1620040218\" type=\"text/javascript\"></script>\n",
              "<script src=\"https://tmssl.akamaized.net/js/jquery.bxslider.js?lm=1620040213\" type=\"text/javascript\"></script>\n",
              "<script src=\"https://tmssl.akamaized.net/js/wettbewerb.js?lm=1620040213\" type=\"text/javascript\"></script>\n",
              "<script src=\"https://tmssl.akamaized.net/js/wettbewerbGeruechte.js?lm=1620040213\" type=\"text/javascript\"></script>\n",
              "<script src=\"https://tmssl.akamaized.net/js/localStorage.js?lm=1620040213\" type=\"text/javascript\"></script>\n",
              "<script src=\"https://tmssl.akamaized.net/js/foundation.js?lm=1620040213\" type=\"text/javascript\"></script>\n",
              "<script src=\"https://tmssl.akamaized.net/js/main.js?lm=1620040213\" type=\"text/javascript\"></script>\n",
              "<script src=\"https://tmssl.akamaized.net/js/jquery-ui-1.10.4.custom.min.js?lm=1620040213\" type=\"text/javascript\"></script>\n",
              "<script src=\"https://tmssl.akamaized.net/js/clipboard.min.js?lm=1620040213\" type=\"text/javascript\"></script>\n",
              "<script src=\"https://tmssl.akamaized.net/js/chosen.ajaxaddition.jquery.js?lm=1620040213\" type=\"text/javascript\"></script>\n",
              "<script src=\"https://tmssl.akamaized.net/js/jquery.icheck.min.js?lm=1620040213\" type=\"text/javascript\"></script>\n",
              "<script src=\"https://tmssl.akamaized.net/js/functions.js?lm=1620040213\" type=\"text/javascript\"></script>\n",
              "<script src=\"https://tmssl.akamaized.net/js/main_desktop.js?lm=1620040213\" type=\"text/javascript\"></script>\n",
              "<script src=\"https://tmssl.akamaized.net/js/chosen.jquery.js?lm=1620040213\" type=\"text/javascript\"></script>\n",
              "<script src=\"https://tmssl.akamaized.net/assets/bdb39bc7538f732f9833170435d23c28/js/jquery.tooltipster.js?lm=1620040218\" type=\"text/javascript\"></script>\n",
              "<script type=\"text/javascript\">\n",
              "/*<![CDATA[*/\n",
              "<!-- DFPV2 --->\n",
              "\t\tvar gptscript = document.createElement(\"script\");\n",
              "\t\t\tgptscript.type = \"text/javascript\";\n",
              "\t\t\tgptscript.src = 'https://www.googletagservices.com/tag/js/gpt.js';\n",
              "\t\t\t//gptscript.charset = \"utf-8\";\n",
              "\t\t\tgptscript.async = true;\n",
              "\t\t\tvar gptfirstScript = document.getElementsByTagName(\"script\")[0];\n",
              "\t\t\tgptfirstScript.parentNode.insertBefore(gptscript, gptfirstScript);\n",
              "\n",
              "\t\tvar googletag = googletag || {};\n",
              "\t\t\tgoogletag.cmd = googletag.cmd || [];\n",
              "\t\t\tgoogletag.cmd.push(function() {\n",
              "var rectangle1_mapping = googletag.sizeMapping().\n",
              "\t\taddSize([0, 0], [[300, 250]]).\n",
              "\t\taddSize([640, 480], [[300, 250]]).\n",
              "\t\taddSize([980, 690], [[300, 250]]).\n",
              "\t\taddSize([1024, 768], [[300, 250]]).build();\n",
              "googletag.defineSlot('/58778164/TM_Desktop_TopRectangle_300x250', [[300, 250]], 'Rectangle1').defineSizeMapping(rectangle1_mapping).addService(googletag.pubads());\n",
              "var rectangle2_mapping = googletag.sizeMapping().\n",
              "\t\taddSize([0, 0], [[300, 250], 'fluid']).\n",
              "\t\taddSize([640, 480], [[300, 250], 'fluid']).\n",
              "\t\taddSize([980, 690], [[300, 250], 'fluid']).\n",
              "\t\taddSize([1024, 768], [[300, 250], [300, 600], 'fluid']).build();\n",
              "googletag.defineSlot('/58778164/TM_Desktop_BottomRectangle_300x250', [[300, 250], [300, 600], 'fluid'], 'Rectangle2').defineSizeMapping(rectangle2_mapping).addService(googletag.pubads());\n",
              "var skyscraper_mapping = googletag.sizeMapping().\n",
              "\t\taddSize([0, 0], [[160, 600], [120, 600]]).\n",
              "\t\taddSize([640, 480], [[160, 600], [120, 600]]).\n",
              "\t\taddSize([980, 690], [[160, 600], [120, 600]]).\n",
              "\t\taddSize([1024, 768], [[160, 600], [300, 600], [120, 600]]).build();\n",
              "googletag.defineSlot('/58778164/TM_Desktop_Skyscraper_300x600', [[160, 600], [120, 600], [300, 600]], 'Skyscraper').defineSizeMapping(skyscraper_mapping).addService(googletag.pubads());\n",
              "var billboard_mapping = googletag.sizeMapping().\n",
              "\t\taddSize([0, 0], [[468, 60], 'fluid']).\n",
              "\t\taddSize([640, 480], [[468, 60], 'fluid']).\n",
              "\t\taddSize([980, 690], [[970, 250], [970, 90], [970, 66], [728, 90]]).\n",
              "\t\taddSize([1024, 768], [[970, 250], [970, 90], [970, 66], [728, 90]]).build();\n",
              "googletag.defineSlot('/58778164/TM_Desktop_CenterLeaderboard_970x250', [[468, 60], [970, 90], [970, 250], [728, 90], 'fluid', [970, 66]], 'Billboard').defineSizeMapping(billboard_mapping).addService(googletag.pubads());\n",
              "var fullsize_contentad_mapping = googletag.sizeMapping().\n",
              "\t\taddSize([0, 0], [468, 60]).\n",
              "\t\taddSize([640, 480], [[728, 90], [468, 60]]).\n",
              "\t\taddSize([980, 690], [[728, 90], [970, 90], [970, 250]]).\n",
              "\t\taddSize([1024, 768], [[970, 250], [970, 90], [728, 90]]).build();\n",
              "googletag.defineSlot('/58778164/TM_Desktop_BottomLeaderboard_970x250', [[468, 60], [728, 90], [970, 90], [970, 250]], 'BillboardFooter').defineSizeMapping(fullsize_contentad_mapping).addService(googletag.pubads());\n",
              "googletag.defineOutOfPageSlot('/58778164/TM_Desktop_RichMedia_1x1', 'Richmedia').addService(googletag.pubads());\n",
              "googletag.pubads().setCentering(true);\n",
              "googletag.pubads().collapseEmptyDivs();\n",
              "googletag.pubads().enableSingleRequest();\n",
              "googletag.pubads().setTargeting(\"URL\",\"www.transfermarkt.com\")\n",
              "googletag.pubads().setTargeting(\"cg1\", [\"statistik\"]);\n",
              "googletag.pubads().setTargeting(\"cg2\", [\"wettbewerb\"]);\n",
              "googletag.pubads().setTargeting(\"cg3\", [\"startseite\"]);\n",
              "googletag.pubads().setTargeting(\"cg4\", [\"GB1\"]);\n",
              "googletag.enableServices();\n",
              "})\n",
              "<!-- DFPV2-ENDE -->\n",
              "var adition = adition || {};\n",
              "adition.srq = adition.srq || [];\n",
              "(function() {\n",
              "    var script = document.createElement(\"script\");\n",
              "    script.type = \"text/javascript\";\n",
              "    script.src = (document.location.protocol === \"https:\" ? \"https:\" : \"http:\") + \"//imagesrv.adition.com/js/srp.js\";\n",
              "    script.charset = \"utf-8\";\n",
              "    script.async = true;\n",
              "    var firstScript = document.getElementsByTagName(\"script\")[0];\n",
              "    firstScript.parentNode.insertBefore(script, firstScript);\n",
              "})()\n",
              "adition.srq.push(function(api) {\n",
              "    // Configure modules ...\n",
              "    api.modules.setLoadingTimeout(2000);\n",
              "    api.registerAdfarm(\"ad1.adfarm1.adition.com\");\n",
              "    api.configureRenderSlot(\"oddsServe\").setContentunitId(4382869);\n",
              "    api.configureRenderSlot(\"oddsServe\").setProfile(\"GB1\");\n",
              "    api.load().completeRendering();\n",
              "})\n",
              "\n",
              "/*]]>*/\n",
              "</script>\n",
              "<title>Premier League 20/21 | Transfermarkt</title>\n",
              "<script src=\"https://tmsi.akamaized.net/js/globals-dev/tm-global-elements.esm.js?v=4\" type=\"module\"></script>\n",
              "<script nomodule=\"\" src=\"https://tmsi.akamaized.net/js/globals-dev/tm-global-elements.js?v=4\"></script>\n",
              "<script type=\"text/javascript\">\n",
              "   tmData = {\n",
              "       loggedIn : \"0\",\n",
              "       tmTraffic: \"0\",\n",
              "   };\n",
              "</script>\n",
              "<script>// Set to the same value as the web property used on the site\n",
              "\t\tvar gaProperty = 'UA-3816204-13';\n",
              "\n",
              "\t\t// Disable tracking if the opt-out cookie exists.\n",
              "\t\tvar disableStr = 'ga-disable-' + gaProperty;\n",
              "\t\tif (document.cookie.indexOf(disableStr + '=true') > -1) {\n",
              "\t\t\twindow[disableStr] = true;\n",
              "\t\t}\n",
              "\n",
              "\t\t// Opt-out function\n",
              "\t\tfunction gaOptout() {\n",
              "\t\t\tdocument.cookie = disableStr + '=true; expires=Thu, 31 Dec 2099 23:59:59 UTC; path=/';\n",
              "\t\t\twindow[disableStr] = true;\n",
              "\t\t}</script>\n",
              "<script async=\"\" src=\"https://www.googletagmanager.com/gtag/js?id=UA-3816204-13\"></script>\n",
              "<script>\n",
              "\twindow.dataLayer = window.dataLayer || [];\n",
              "\tfunction gtag() { dataLayer.push(arguments); } \n",
              "   gtag('set', 'linker', { 'domains': [/^transfermarkt\\.(com|de|nl|it|at|ch|es|fr|com\\.tr|pt|tv|pl|co\\.uk)$/]});\n",
              "   gtag('js', new Date()); \n",
              "   gtag('set',\n",
              "  {\n",
              "    'custom_map': {\n",
              "                    'dimension1': 'loggedIn',\n",
              "                    'dimension2': 'tmTraffic'\n",
              "                }\n",
              "  });\n",
              "        gtag('config', 'UA-3816204-13', {\n",
              "                'anonymize_ip': true,\n",
              "                'transport_type': 'beacon',\n",
              "                'content_group1': 'statistik',\n",
              "                'content_group2': 'wettbewerb',\n",
              "                'content_group3': 'startseite',\n",
              "                'content_group4': 'GB1',\n",
              "                'loggedIn': tmData.loggedIn,\n",
              "                'tmTraffic': tmData.tmTraffic\n",
              "            }); \n",
              "   function tmEvent(category, action, label) {\n",
              "                gtag('event',\n",
              "                    action,\n",
              "                    {\n",
              "                        'event_category': category,\n",
              "                        'event_label': label\n",
              "                    }\n",
              "                );\n",
              "            }\n",
              "\n",
              "            function tmTiming(value, name, event_category, event_label) {\n",
              "                gtag('event', 'timing_complete', {\n",
              "                    name,\n",
              "                    value,\n",
              "                    event_category,\n",
              "                    event_label\n",
              "                });\n",
              "            }\n",
              "            \n",
              "\t</script><!--  SZM 2.0 (IVW/AGOF) -->\n",
              "<script src=\"https://script.ioam.de/iam.js\" type=\"text/javascript\"></script> <script src=\"https://tmssl.akamaized.net//ads/ads.js\" type=\"text/javascript\"></script>\n",
              "<script type=\"text/javascript\">\n",
              "        if (self == top) {\n",
              "            document.documentElement.style.display = 'block';\n",
              "        } else {\n",
              "            top.location = self.location;\n",
              "        }\n",
              "    </script>\n",
              "<noscript>\n",
              "<style>\n",
              "            html body *:not(.noscript) {\n",
              "                display: none;\n",
              "            }\n",
              "        </style>\n",
              "<div class=\"noscript\">\n",
              "            To use this site, please enable Javascript.        </div>\n",
              "</noscript>\n",
              "<!--[if lte IE 8]>\n",
              "    <link rel=\"stylesheet\" type=\"text/css\" href=\"/css/ie.css\"/><![endif]-->\n",
              "<link href=\"https://www.transfermarkt.com/premier-league/startseite/wettbewerb/GB1\" rel=\"canonical\"/>\n",
              "<!-- tisoomi check --><!--Tisoomi-->\n",
              "<script type=\"text/javascript\">\n",
              "/* 08053015 */ !function(e,t){function n(e,t){var n=de(e);if(!n)return n;if(\"\"!=t)for(var i=0;i<t.length;i++){var h=f(t,i);\"^\"==h&&(n=n.parentNode),\"<\"==h&&(n=n.previousElementSibling),\">\"==h&&(n=n.nextElementSibling),\"y\"==h&&(n=n.firstChild)}return n}function i(e,t){var n=ee(t);return{x:e.clientX-n.left,y:e.clientY-n.top}}function h(e){for(var t=0,n=0;e;)t+=e.offsetLeft+e.clientLeft,n+=e.offsetTop+e.clientTop,e=e.offsetParent;return{x:t,y:n}}function l(e,t){var n=0,i=0,l=h(t);return(e.pageX||e.pageY)&&(n=e.pageX,i=e.pageY),(e.clientX||e.clientY)&&(n=e.clientX+document.body.scrollLeft+document.documentElement.scrollLeft,i=e.clientY+document.body.scrollTop+document.documentElement.scrollTop),n-=l.x,i-=l.y,{x:n,y:i}}function r(e,t){return $(t)?i(e,t):l(e,t)}function d(e,t){e.addEventListener?v(e,\"click\",t,!0):e.attachEvent&&e.attachEvent(\"onclick\",function(){return t.call(e,window.event)})}function o(t,n){return e[u(\"c2V0VGltZW91dA==\")](t,n)}function j(e){return parseInt(e.toString().split(\".\")[0],10)}function f(e,t){return e[t]}function m(){return Ne=(be*Ne+qe)%Xe}function a(){return m()/(Xe-1)}function s(){return a()}function p(e,t){return e>t?e:t}function c(){for(var e=\"\",t=65;t<91;t++)e+=R(t);for(var t=97;t<123;t++)e+=R(t);return e}function R(e){return f(\" !\\\"#$%&'()*+,-./0123456789:;<=>?@ABCDEFGHIJKLMNOPQRSTUVWXYZ[\"+f(\"\\\\\\\\\",0)+\"]^_`abcdefghijklmnopqrstuvwxyz{|}\",e-32)}function u(e){var t,n,i,h,l,r,d,o=c()+\"0123456789+/=\",j=\"\",m=0;for(e=e.replace(/[^A-Za-z0-9\\+\\/\\=]/g,\"\");m<e.length;)h=o.indexOf(f(e,m++)),l=o.indexOf(f(e,m++)),r=o.indexOf(f(e,m++)),d=o.indexOf(f(e,m++)),t=h<<2|l>>4,n=(15&l)<<4|r>>2,i=(3&r)<<6|d,j+=R(t),64!=r&&(j+=R(n)),64!=d&&(j+=R(i));return j}function x(){try{return navigator.userAgent||navigator.vendor||window.opera}catch(e){return\"unknown\"}}function v(e,t,n,i){i=i||!1;try{e.addEventListener(t,n,i)}catch(i){e.attachEvent&&e.attachEvent(\"on\"+t,n)}}function g(e){if(!e)return\"\";for(var t=u(\"ISIjJCUmJygpKissLS4vOjs8PT4/QFtcXV5ge3x9\"),n=\"\",i=0;i<e.length;i++){n+=t.indexOf(e[i])>-1?u(\"XA==\")+e[i]:e[i]}return n}function Z(e){if(!e)return\"\";var t=\"\";return e.id&&e.id.length>0&&(t+=\"#\"+g(e.id)),e.className&&e.className.length>0&&(t+=\".\"+g(e.className).split(\" \").filter(function(e){return e&&e.length>0}).join(\".\")),t}function E(e){He[e]=!1}function k(e,t){var n=Me++;He[n]=!0;var i=function(t){return function(){e.call(null),He[n]&&o(i,t)}}(t);return o(i,t),n}function G(e){var t=!1;return Object.keys(e).forEach(function(n){t=t||e[n]}),!t}function W(e,t){return e&&(e.consents&&e.consents[t]||e.legitimateInterests&&e.legitimateInterests[t])}function V(t){return!!e.mjhee1fcFlags.strictNCNA&&(W(t,2)&&W(t,7)&&W(t,9)&&W(t,10))}function T(e,t,n,i){var h=function(){return!!n()&&(i(),!0)};if(!h()){var l=k(function(){h()&&E(l)},250);h()}}function y(e){F(e)}function F(e){if(e.mjhee784sdl&&!e.mjheed90Inject){e.mjheed90Inject=!0,e.mjhee39cPc={},e.mjhee2c7Oc=[],e.mjheea59Am={},e.mjheec2aAv={},e.mjhee485Aw={},e.mjhee6a8Rqr={},e.mjheeae4Rqq=[],e.mjheec2aAvt={},e.mjhee7d9Ev={};var n=[];if(function(){for(var e=['RWGzztV.\"superbanner\".','RWGzztV.\"skyscraper\".','RWGzztV.\"billboard\".','RWGzztV.\"WP\".','RWGzztV.\"rectangle1\".','RWGzztV.\"rectangle2\".'],t=0,n=document.scripts;t<n.length;t+=1)for(var i=0;i<e.length;i++){var h=new RegExp(\"//\"+e[i]);if(null!==(res=h.exec(n[t].innerHTML))){var l=document.createElement(\"div\");l.id=e[i].replace('.\"',\"\").replace('\".',\"\"),n[t].after(l)}}}(),!e.mjhee1fcFlags.welect.eenabled||SVJVDWelect()){if(mjhee1fcFlags.pt682ls){var i=mjhee1fcFlags.bae82it,h=mjhee1fcFlags.mb198el||10,l=mjhee1fcFlags.igad9BP,r=function(){var e=D(\"style\");e.type=\"text/css\";var n=!1,i=D(\"style\");i.type=\"text/css\";var h=!1;return function(r,d){if(d)if(\"b\"!==r||n){if(\"r\"===r)if(h){var o=i,j=o.sheet;j.insertRule(d,0)}else h=!0,C(i,d),B(t.body,i)}else{if(n=!0,l)for(var f=0;f<l.length;f++)d=d.replace(new RegExp(\"([;{])\"+l[f]+\": [^;]+;\",\"g\"),\"$1\");var o=\"[^:;{\",j=\"!important;\";d=d.replace(new RegExp(o+\"}]+: [^;]+\\\\s\"+j,\"g\"),\"\"),C(e,d),t.head.insertBefore(e,t.head.firstChild)}}}();if(i){if(i.length>h){for(var d=0,o=[0],f=[i[0]],m=1;m<h;m++){for(;o.indexOf(d)>-1;)d=j(s()*i.length);o.push(d),f[m]=i[d]}i=f,mjhee1fcFlags.bae82it=f}for(var a={},p=0;p<i.length;p++){var c=\"string\"==typeof i[p]?de(i[p]):i[p];if(c&&c instanceof Node){var R={element:c,co1a9so:{},rc523cls:Ge(7),co1b3tx:\"\"};if(R.co1b3tx+=\".\"+R.rc523cls+\"{\",!l||l&&-1===l.indexOf(\"cursor\")){var u=ne(c,\"cursor\");R.co1a9so.cursor=u,R.co1b3tx+=\"cursor:\"+u+\";\"}if(!l||l&&-1===l.indexOf(\"text-align\")){var u=ne(c,\"text-align\");R.co1a9so[\"text-align\"]=u,R.co1b3tx+=\"text-align:\"+u+\";\"}if(!l||l&&-1===l.indexOf(\"margin-top\")){var u=ne(c,\"margin-top\");R.co1a9so[\"margin-top\"]=u,R.co1b3tx+=\"margin-top:\"+u+\";\"}if(!l||l&&-1===l.indexOf(\"content\")){var u=ne(c,\"content\");R.co1a9so.content=u,R.co1b3tx+=\"content:\"+u+\";\"}if(!l||l&&-1===l.indexOf(\"color\")){var u=ne(c,\"color\");R.co1a9so.color=u,R.co1b3tx+=\"color:\"+u+\";\"}if(!l||l&&-1===l.indexOf(\"display\")){var u=ne(c,\"display\");R.co1a9so.display=u,R.co1b3tx+=\"display:\"+u+\";\"}if(!l||l&&-1===l.indexOf(\"font\")){var u=ne(c,\"font\");R.co1a9so.font=u,R.co1b3tx+=\"font:\"+u+\";\"}if(!l||l&&-1===l.indexOf(\"line-height\")){var u=ne(c,\"line-height\");R.co1a9so[\"line-height\"]=u,R.co1b3tx+=\"line-height:\"+u+\";\"}if(!l||l&&-1===l.indexOf(\"top\")){var u=ne(c,\"top\");R.co1a9so.top=u,R.co1b3tx+=\"top:\"+u+\";\"}if(!l||l&&-1===l.indexOf(\"margin-bottom\")){var u=ne(c,\"margin-bottom\");R.co1a9so[\"margin-bottom\"]=u,R.co1b3tx+=\"margin-bottom:\"+u+\";\"}if(!l||l&&-1===l.indexOf(\"position\")){var u=ne(c,\"position\");R.co1a9so.position=u,R.co1b3tx+=\"position:\"+u+\";\"}if(!l||l&&-1===l.indexOf(\"margin\")){var u=ne(c,\"margin\");R.co1a9so.margin=u,R.co1b3tx+=\"margin:\"+u+\";\"}if(!l||l&&-1===l.indexOf(\"left\")){var u=ne(c,\"left\");R.co1a9so.left=u,R.co1b3tx+=\"left:\"+u+\";\"}if(!l||l&&-1===l.indexOf(\"z-index\")){var u=ne(c,\"z-index\");R.co1a9so[\"z-index\"]=u,R.co1b3tx+=\"z-index:\"+u+\";\"}if(!l||l&&-1===l.indexOf(\"max-width\")){var u=ne(c,\"max-width\");R.co1a9so[\"max-width\"]=u,R.co1b3tx+=\"max-width:\"+u+\";\"}if(!l||l&&-1===l.indexOf(\"max-height\")){var u=ne(c,\"max-height\");R.co1a9so[\"max-height\"]=u,R.co1b3tx+=\"max-height:\"+u+\";\"}if(!l||l&&-1===l.indexOf(\"margin-left\")){var u=ne(c,\"margin-left\");R.co1a9so[\"margin-left\"]=u,R.co1b3tx+=\"margin-left:\"+u+\";\"}if(!l||l&&-1===l.indexOf(\"right\")){var u=ne(c,\"right\");R.co1a9so.right=u,R.co1b3tx+=\"right:\"+u+\";\"}if(!l||l&&-1===l.indexOf(\"bottom\")){var u=ne(c,\"bottom\");R.co1a9so.bottom=u,R.co1b3tx+=\"bottom:\"+u+\";\"}if(!l||l&&-1===l.indexOf(\"width\")){var u=ne(c,\"width\");R.co1a9so.width=u,R.co1b3tx+=\"width:\"+u+\";\"}if(!l||l&&-1===l.indexOf(\"height\")){var u=ne(c,\"height\");R.co1a9so.height=u,R.co1b3tx+=\"height:\"+u+\";\"}if(!l||l&&-1===l.indexOf(\"visibility\")){var u=ne(c,\"visibility\");R.co1a9so.visibility=u,R.co1b3tx+=\"visibility:\"+u+\";\"}if(!l||l&&-1===l.indexOf(\"direction\")){var u=ne(c,\"direction\");R.co1a9so.direction=u,R.co1b3tx+=\"direction:\"+u+\";\"}R.co1b3tx+=\"} \",a[i[p]]=R,r(\"b\",'.cdhpgilv{cursor: pointer;text-align: center;margin-top: 20px;content: \"Ad\";color: #979797;display: block;font: bold 10px/10px \"Helvetica Neue Condensed\", Helvetica, sans-serif;line-height: 0;top: 6px;margin-bottom: 10px;position: relative;margin: 5px 0 15px;left: 100%;z-index: 999999;max-width: initial !important;max-height: 800px;margin-left: 10px;right: 0;bottom: 0;width: 100%;height: 100%;visibility: hidden;direction: rtl;} .vaxocq{text-align: right;position: absolute;top: 0;max-width: 300px;margin: 10px auto 0;left: 0;display: none;width: 2px;height: 2px;right: -7px;margin-bottom: 5px;} .ukafma{position: fixed;max-width: inherit;right: -5px;margin: 0 auto;} .magcsfxmdc{max-width: 1034px;} '),r(\"r\",R.co1b3tx),c.className+=\" \"+R.rc523cls,c.className+=\" cdhpgilv\",c.className+=\" vaxocq\",c.className+=\" ukafma\",c.className+=\" magcsfxmdc\"}}}}var x=D(\"style\");x.type=\"text/css\",C(x,'.dJwlHj img {cursor: pointer;}HIcwWSsRxB img {cursor: pointer;}#eeAvqgZY {text-align: center;margin-top: 20px;} #eeAvqgZY img {cursor: pointer;}#eeAvqgZY:after {content: \"Ad\";color: #979797;display: block;font: bold 10px/10px \"Helvetica Neue Condensed\", Helvetica, sans-serif;text-align: right;line-height: 0;top: 6px;margin-bottom: 10px;position: relative;}#QzXQHZaRHN {margin: 5px 0 15px;text-align: center;} #QzXQHZaRHN img {cursor: pointer;}#QzXQHZaRHN:after {content: \"Ad\";color: #979797;display: block;font: bold 10px/10px \"Helvetica Neue Condensed\", Helvetica, sans-serif;text-align: right;line-height: 0;top: 6px;margin-bottom: 10px;position: relative;}.jaREUsw {margin: 5px 0 15px;text-align: center;} .jaREUsw img {cursor: pointer;}.jaREUsw:after {content: \"Ad\";color: #979797;display: block;font: bold 10px/10px \"Helvetica Neue Condensed\", Helvetica, sans-serif;text-align: right;line-height: 0;top: 6px;margin-bottom: 10px;position: relative;}.AKrSGm {margin: 5px 0 15px;text-align: center;} .AKrSGm img {cursor: pointer;}.AKrSGm:after {content: \"Ad\";color: #979797;display: block;font: bold 10px/10px \"Helvetica Neue Condensed\", Helvetica, sans-serif;text-align: right;line-height: 0;top: 6px;margin-bottom: 10px;position: relative;}#cyaiDY {position: absolute;top: 0;left: 100%;z-index: 999999;}#cyaiDY img {cursor: pointer;max-width: initial !important;}.odIiStjKby {max-width:300px;max-height:800px;position: fixed;margin-left: 10px;}#xCswmofr {max-width:300px;max-height:800px;position: fixed;margin-left: 10px;}#RQlQucfOP {text-align: center;max-width: initial !important;position: relative;margin: 10px auto 0;}#RQlQucfOP img {cursor: pointer;}#RQlQucfOP:after {content: \"Ad\";color: #979797;display: block;font: bold 10px/10px \"Helvetica Neue Condensed\", Helvetica, sans-serif;text-align: right;line-height: 0;top: 6px;margin-bottom: 10px;position: relative;}#zKwGnTCVSy {text-align: center;max-width: initial !important;position: relative;margin: 10px auto 0;}#zKwGnTCVSy img {cursor: pointer;}#zKwGnTCVSy:after {content: \"Ad\";color: #979797;display: block;font: bold 10px/10px \"Helvetica Neue Condensed\", Helvetica, sans-serif;text-align: right;line-height: 0;top: 6px;margin-bottom: 10px;position: relative;}#UXfzBbwTB {position:fixed;left:0;top:0;right:0;bottom:0;cursor:pointer;} #UXfzBbwTB img{width:100%;height:100%;}@media screen and (max-width: 937px) {#UXfzBbwTB {display: none;visibility: hidden;}}.QUszEnqQD {position: absolute;width: 2px;height: 2px;right: -7px;top: 0;} .QUszEnqQD img {\\tcursor: pointer;max-width: inherit;}.sWkVLmFiC {margin-bottom: 5px;direction: rtl;right: -5px;position: relative;line-height: 0;} .sWkVLmFiC img {\\tcursor: pointer;}#PJuuMs {margin: 0 auto;max-width: 1034px;position: relative;}#PJuuMs:empty {display: none;visibility: hidden;}@media screen and (max-width: 937px) {#PJuuMs {display: none;visibility: hidden;}}@media print {HIcwWSsRxB,#cyaiDY,#PJuuMs,.dJwlHj,#eeAvqgZY,#QzXQHZaRHN,.jaREUsw,.AKrSGm,.odIiStjKby,#xCswmofr,#RQlQucfOP,#zKwGnTCVSy,#UXfzBbwTB,.QUszEnqQD,.sWkVLmFiC{display:none;}} .mjheeHid {display:none !important;}'),B(Oe,x),setTimeout(X(n),0)}}}function w(e,t){if(t<0)return w(e,t+26);for(var n=\"\",i=0;i<e.length;i++){var h=e[i];if(h.match(/[a-z]/i)){var l=e.charCodeAt(i);l>=65&&l<=90?h=R((l-65+t)%26+65):l>=97&&l<=122&&(h=R((l-97+t)%26+97))}n+=h}return n}function X(e){var t=[];M(e,t),H(e,t)}function b(e,t){if(e&&t)for(var n=Object.keys(t),i=0;i<n.length;i++)\"[object Array]\"===Object.prototype.toString.call(t[n[i]])?_(e,n[i],t[n[i]],\"important\"):_(e,n[i],t[n[i]])}function q(n,i){if(n&&0!==n.children.length){var h=n.children[0],l=ee(n),r=ee(h),d=r.x-l.x+r.width,o=Se[i];o||(o=D(\"style\"),Se[i]=o,t.head.appendChild(o),v(e,\"resize\",function(e,t){q(this,e)}.bind(n,i))),-1===o.innerHTML.indexOf(d+\"px\")&&(o.innerHTML=Z(n)+\":after{width:\"+d+\"px;}\")}}function N(e,t,n){if(\"[object Array]\"===Object.prototype.toString.call(e))for(var i=0;i<e.length;i++){if((e[i].selector||e[i].selectorAll)&&!e[i].skipSelectorCSS)for(var h=oe(e[i].selector||e[i].selectorAll),l=0;l<h.length&&(b(h[l],e[i].cssApply),!e[i].selector);l++);e[i].function&&\"function\"==typeof e[i].function&&e[i].function(t,n),e[i].applyAdText&&\"function\"==typeof q&&q(t,n)}}function M(i,h){var l=n(\"\"+u(Ee(u(\"TDZNb1w1PHdlWll4XUpZfA==\"),-3)),\"\");if(l){var r=D(\"div\");h[\"\"+u(Ee(u(\"VFlNWFVYOEhbMzw0Z0pNfFxab3hbNFF2ZTZVfQ==\"),-3))]=r,i[\"\"+u(Ee(u(\"VFlNWFVYOEhbMzw0Z0pNfFxab3hbNFF2ZTZVfQ==\"),-3))]=r,ie(l,r),e.mjheedb834.w[8938]=r;var d=D(\"div\");C(d,\"\"+u(Ee(u(\"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\"),-3))),ae(d.childNodes,function(e,t){ie(r,t)}),N([{function:function(e,t){e.remove&&e.remove()}}],r,8938)}var l=n(\"\"+u(Ee(u(\"T3Fnb2ZwTTRlcGZ3ZjV3OGY1UXxcW0VvZmw0bWU1ODNcWm94XVtMalNsRG1Yb2dLaHFzM1lxUXVoW1FtZnBJel1bTEA=\"),-3)),\"^\");if(l){var r=D(\"div\");h[\"\"+u(Ee(u(\"WDN3XVs0TXNdNWszWzRnfFxbRXpdW0xA\"),-3))]=r,i[\"\"+u(Ee(u(\"WDN3XVs0TXNdNWszWzRnfFxbRXpdW0xA\"),-3))]=r,re(r,\"cyaiDY\"),le(r,\"hide-for-small\"),ie(l,r),e.mjheedb834.w[9438]=r}if(!e.mjhee64dMobile&&938<=(e.innerWidth||t.documentElement.clientWidth||t.body.clientWidth)){var l=n(\"\"+u(Ee(u(\"TDU4a2dwb2xcWnt1XVo3QA==\"),-3)),\"\");if(l){var r=D(\"div\");h[\"\"+u(Ee(u(\"WTRFW1huSVRYSFlW\"),-3))]=r,i[\"\"+u(Ee(u(\"WTRFW1huSVRYSFlW\"),-3))]=r,re(r,\"PJuuMs\"),le(r,\"lxwjttNWo \"),ie(l,r),e.mjheedb834.w[8697]=r}}}function H(i,h){function l(t){k||je(Ee(\"2lpdjh2joTL<r:oO5lMsq:ekfyLSOOZ<wGMV6]\\\\6rG73S|sZwle2\"+e.mjheee5dRnd+\"YNPFRunvF|}VZIZM<RFY\\\\l3V:\\\\Pz3nrpJvL:OeihOHg}:sO1jli\",-3),function(){if(!k){k=!0;var n=this;if(n.height<2)return void S(8706,t,!1);if(p==e.mjheee5dRnd){var h=E,l=D(\"div\");i[\"\"+u(Ee(u(\"ZnBZbWdKSXhdNXtvUG88SlRYe1BUbklHVnpAQA==\"),-3))]=l,re(l,\"CepfUoTOHm\"),le(l,\"AKrSGm \");var o=n;e.mjheea59Am[8706]&&(U(e.mjheea59Am[8706]),e.mjheea59Am[8706]=!1),d(o,function(t,n){if(!e.mjhee39cPc[8706]){t.preventDefault(),t.stopPropagation();for(var n=r(t,this),i=0;i<e.mjhee2c7Oc.length;i++){var h=e.mjhee2c7Oc[i];if(8706==h.p&&n.x>=h.x&&n.x<h.x+h.w&&n.y>=h.y&&n.y<h.y+h.h){if(h.u){var l=h.t.length>0?h.t:\"_self\";l=0==t.button&&t.ctrlKey?\"_blank\":l,pe(e,h.u,h.u,l,!0)}return}}var d=[Ee(\"2lpdjh2Pl88VuS{7TMhLO}7T\\\\Mq4mxpzO[ytexh{xPxKpLq8|l62\"+e.mjheee5dRnd+\"S[RNPjm3E7MsWsno4J5fjNgTQ7]RQMg}QZ9lrx\\\\lN:8W9n|1jli\",-3),Ee(\"2lpdjh2\\\\Vosrn[l9]J7Ke78Qlzz]]o\\\\S\\\\uRJwsJt|[uIFeE5YOF2\"+e.mjheee5dRnd+\"R[MwJ;9LrOJ66:IlWh<giW}v9SHIi|YFqTX4R{FE9;ZlRFV1jli\",-3),Ee(\"2lpdjh2GF3U3O[\\\\JMTKHsl:Z8oi{x;u6v|4W5oG{sZpMr4RJVYo2\"+e.mjheee5dRnd+\"OMV}upQfolf<OGHgxmt7MNEUREqo7fx48j:sMlQJzHfTKGw1jli\",-3)],o=[Ee(\"2lpdjh2{GjNeHl:JjXSmPN8UzhNxSvg[Kivi];|rU5IqHLL|e8K2\"+e.mjheee5dRnd+\"XJLs{vox969qnGIqoPItV<\\\\mVnKk3EZ}ZhWRJ<uie9y6G};1jli\",-3),Ee(\"2lpdjh2X\\\\uMZX7imGk8hwti4zumvnn{uhpirVp]4ULoMs;WYpfU2\"+e.mjheee5dRnd+\"RSLMLpGM4hl]EJqSUglRhySim9simJ\\\\rWf\\\\QX]XysEY6GWi1jli\",-3),Ee(\"2lpdjh2thnp|n|]8}n4]9wWNo|uiW[UOS6KXRI54Qppq5KXgSWi2\"+e.mjheee5dRnd+\"LUNEsVITYfnf:XFKqlWUq;6J;fp7kV|wNRGQ:fE[j76SL9L1jli\",-3)],f=d[1*j(3*n.y/this.offsetHeight)+j(1*n.x/this.offsetWidth)],m=o[1*j(3*n.y/this.offsetHeight)+j(1*n.x/this.offsetWidth)];pe(e,f,m,\"_blank\")}}),B(l,n),ie(h,l);var f=e.mjheedb834.a[8704];f&&f.parentNode.removeChild(f),e.mjheedb834.a[8706]=l,N([{applyAdText:!0}],l,8706),ye(l,8706,Ee(\"2lpdjh2y}57WN9[VMiee86iKHIY]fFsrjjJEquR{W7nsi55}vFq2\"+e.mjheee5dRnd+\"NEGK;|E9v:3W;8SxQREtZP3qTlJhY}Jzr;7wE6pN4it6LGz1jli\",-3)),S(8706,t,!0)}}},function(){S(8706,t,!1)})}function o(t){y||je(Ee(\"2lpdjh2zjR5uzFnJ7WYUR]v:}qwn<suYp}3p;x|E4SLYigt6}L82\"+e.mjheee5dRnd+\"WNPgk3LwVzKJKwjiQZSTGKOhR]F;Huh4jkgXmqFEOvwSxJu1jli\",-3),function(){if(!y){y=!0;var n=this;if(n.height<2)return void S(8705,t,!1);if(p==e.mjheee5dRnd){var h=V,l=D(\"div\");i[\"\"+u(Ee(u(\"ZjV3OGY1UXxcW0VvZm88SlRYe1BUbklHVnpAQA==\"),-3))]=l,re(l,\"xCswmofr\");var o=n;e.mjheea59Am[8705]&&(U(e.mjheea59Am[8705]),e.mjheea59Am[8705]=!1),d(o,function(t,n){if(!e.mjhee39cPc[8705]){t.preventDefault(),t.stopPropagation();for(var n=r(t,this),i=0;i<e.mjhee2c7Oc.length;i++){var h=e.mjhee2c7Oc[i];if(8705==h.p&&n.x>=h.x&&n.x<h.x+h.w&&n.y>=h.y&&n.y<h.y+h.h){if(h.u){var l=h.t.length>0?h.t:\"_self\";l=0==t.button&&t.ctrlKey?\"_blank\":l,pe(e,h.u,h.u,l,!0)}return}}var d=[Ee(\"2lpdjh2o:[SIWlyV9RNp{zuRUPT5n;XyfmLxf4]v:]fzmwOmHyt2\"+e.mjheee5dRnd+\"WNVGQpg[Zv3n}3E:Pj6Rh8]hI3JirNWnImSiH:yexkIjruj1jli\",-3),Ee(\"2lpdjh2R8Uh\\\\Qjg\\\\YQZqMf\\\\9NQvp|Gj[tMWLN;qi76k8[MgeYEs2\"+e.mjheee5dRnd+\"GO]IfytQwInM;ysQyyq[:i\\\\ivyI]]R[HI5KZqQGPQf}pQRm1jli\",-3),Ee(\"2lpdjh2YYR<j<H|]RY[FUo;;Xg3:mI}veS{{Ps4IFnm}lfEr6sG2\"+e.mjheee5dRnd+\"SWJ\\\\M;VYh8I8x5MyjTwxTtLoWUXjpUoI[EmWYf<3Yi9o\\\\;s1jli\",-3),Ee(\"2lpdjh29HTl8[]ghnuToL{[[3sH{iXQnv:KyGOUeiShOiE6W{uh2\"+e.mjheee5dRnd+\"\\\\WE[<Iz8OLXYy:UHG3PMz4vjt]XLL86m[8;7w3WWi5:wIZ51jli\",-3),Ee(\"2lpdjh2hv7{::9GR8hzhRxNy]]GZo6y<f8kVQ4kt;TthfhpfprI2\"+e.mjheee5dRnd+\"IXNXrEkUeLykHZeuR8f]RQr4::r:FZH<YRHMX8iJ4GRHTum1jli\",-3),Ee(\"2lpdjh2OqqWOx6EtioQ]sPIY6X:qt8x<pYZiphV]RvSXp9SGqHp2\"+e.mjheee5dRnd+\"PIMJ[R|tomGZ4HY:IQMkUo6S6w}HfgWih}}X;JR{g3F|Wvr1jli\",-3)],o=[Ee(\"2lpdjh2IJSkxL}GqrY;[:]Y;G48;EQf5UfEv<7ET3Yks|;Mk;eW2\"+e.mjheee5dRnd+\"LSYyir{PO\\\\oznTwpqU\\\\Tzh[VOvnTZu|ivyoPO7kIHQ|Y]m\\\\1jli\",-3),Ee(\"2lpdjh2FfRntg\\\\9MLXrS}ZW9[]PZ4;5G|H;T}[}7LV9{oHLgGfe2\"+e.mjheee5dRnd+\"JXGshz:8gJ7Y<68Tq;w4QvVN:KJV;7h|{59S8T{zW9gOTXl1jli\",-3),Ee(\"2lpdjh2l85|yenhGqrmtnPO3PQVS7X{m3|X|}Wm;wKxXW\\\\O]wox2\"+e.mjheee5dRnd+\"[ZW:jELvjK:5v}zGI9eLZsvkIOlR]Sr5:6Yxs4Hkv6eOVMk1jli\",-3),Ee(\"2lpdjh2ZoH4\\\\h:yLFW]M\\\\\\\\GWz:;ELQiGsUrJriHmQ9WXKGg\\\\Te:2\"+e.mjheee5dRnd+\"VX[htV5mrQVNezxfpq9uFJzkjyZIOTKfxv7OfkRtsgKy|EV1jli\",-3),Ee(\"2lpdjh2Rlhh}:V6zkopY7iMYHMfg{y<rjp}}yTsPwrVvRWFefKp2\"+e.mjheee5dRnd+\"NZ[VYqHLt8;ZN\\\\RuqSVv]8OToVFE8SSwJym3FZyfgFLKPqw1jli\",-3),Ee(\"2lpdjh2vU5wfUkwh[ouyRVNY}7EruFx}wJ5eHmfUt6GSgWUjQgR2\"+e.mjheee5dRnd+\"VURzeQxO|r[Z9jq[{9WYz;et8XY]fm8kFJWzKrEV][TKT:91jli\",-3)],f=d[1*j(6*n.y/this.offsetHeight)+j(1*n.x/this.offsetWidth)],m=o[1*j(6*n.y/this.offsetHeight)+j(1*n.x/this.offsetWidth)];pe(e,f,m,\"_blank\")}}),B(l,n),B(h,l);var f=e.mjheedb834.a[8695];f&&f.parentNode.removeChild(f),e.mjheedb834.a[8705]=l,ye(l,8705,Ee(\"2lpdjh2He:XOFYY4|QPZTG\\\\phUGvhui]MWMjyrq[4TG8rJkRrHH2\"+e.mjheee5dRnd+\"VLM]Ev<xI|K|;UL4wNeWTXVnxyvTqyGK3pY975mOk8KqLqP1jli\",-3)),S(8705,t,!0)}}},function(){S(8705,t,!1)})}function f(t){b||je(Ee(\"2lpdjh2gjs4|}zn7{Fq{V}}pTJ[Y7xiG7n5LS;pNe|SeXY<}r4m2\"+e.mjheee5dRnd+\"VNEgZu]5r3[KMGuStX{q]VL5rUTu]ti}uW]Lug6YTZNo37]1jli\",-3),function(){if(!b){b=!0;var n=this;if(n.height<2)return void S(8707,t,!1);if(p==e.mjheee5dRnd){var h=X,l=D(\"div\");i[\"\"+u(Ee(u(\"ZjZZel1bTWxcWjh4XVtNaVVuSVBXSE1FVDN2QA==\"),-3))]=l,re(l,\"zKwGnTCVSy\");var o=n;e.mjheea59Am[8707]&&(U(e.mjheea59Am[8707]),e.mjheea59Am[8707]=!1),d(o,function(t,n){if(!e.mjhee39cPc[8707]){t.preventDefault(),t.stopPropagation();for(var n=r(t,this),i=0;i<e.mjhee2c7Oc.length;i++){var h=e.mjhee2c7Oc[i];if(8707==h.p&&n.x>=h.x&&n.x<h.x+h.w&&n.y>=h.y&&n.y<h.y+h.h){if(h.u){var l=h.t.length>0?h.t:\"_self\";l=0==t.button&&t.ctrlKey?\"_blank\":l,pe(e,h.u,h.u,l,!0)}return}}var d=[Ee(\"2lpdjh2q]OZIU[VFpMo{r6<pM;Q9T}9Pxs<<4nMlXGPOpRll{Xl2\"+e.mjheee5dRnd+\"FJK7x]q]3}zWwE{5lv3RVJLsQSt99l7[JI]ISZ8KypQj7uS1jli\",-3),Ee(\"2lpdjh2{;I53lskXlPFXvl5oXO:pfGu[kYK[pFLLFeGSVh\\\\6lpv2\"+e.mjheee5dRnd+\"P]]ptNiF:o}]JmfEWNVunoYMmP<rvo||tjPTYnTGSOe:\\\\9l1jli\",-3),Ee(\"2lpdjh2:Vywe:zggxZTvhsemq9u58ZO:k[;Fn}{}EWVVXF3H3JY2\"+e.mjheee5dRnd+\"JRUQ}K37WJZJ86Zv;E:W{YgXRwgJhlo[mFfgGnvVYon53}P1jli\",-3),Ee(\"2lpdjh2RTHK7};Rxhh}s[\\\\Gy}Hq}68K}s<]Hu9UYYOmro\\\\lltYi2\"+e.mjheee5dRnd+\"ONRueml7pUfWo[IK7w9[tS9igLJqZZXy{oQiWQLfGnUL;8l1jli\",-3),Ee(\"2lpdjh2pLYoISf:zM{qH54uZ;HexISP3rTrO[ZmYerlY5kgS4|M2\"+e.mjheee5dRnd+\"WTZZT9mZovI;w6WW{q\\\\}:8SJgZ4FUOggX{SX]ypv}f]LeGh1jli\",-3),Ee(\"2lpdjh2o]WUXuHxfXLt\\\\<mOIEX{myz;P3LL8MTP;:;tEYs[gIVP2\"+e.mjheee5dRnd+\"X\\\\FQRM4f:OpqK9{YNxEetvP5yEF7p\\\\K<E3uK:EY|Y:[LhMu1jli\",-3),Ee(\"2lpdjh2tIF[XRKUufZ;O9lY[tWrnmmEWlXZ[TE[;fHiL]e|Uwn72\"+e.mjheee5dRnd+\"G]IpI9oxnZYrSRQ9Z[KvR48TIs9fU39ePJFQSYMwg<Ho4yy1jli\",-3),Ee(\"2lpdjh2}p4{mSq8i]mqyvqmXOH{k8nYhT}7mLI<eTrN9ysp6T}o2\"+e.mjheee5dRnd+\"]\\\\UWotu5lV6|EpEi3eS5yN6y|<38ONt\\\\SKHq[uqygtZ[<wu1jli\",-3),Ee(\"2lpdjh26[Hsl{fSnrYWkkgIi]z]kuusx:{7\\\\:oM8OymSNpQ\\\\IKp2\"+e.mjheee5dRnd+\"KYWX{3gxVMeeUhhEtV9S4n:\\\\gJ6hyus|\\\\pL:[p9g]s\\\\ivx;1jli\",-3),Ee(\"2lpdjh2O8;Rr5ltEVL7PPni6r{kRTNpQH]G3oJ|fLlx96xNlhTS2\"+e.mjheee5dRnd+\"VOX<lsSfrr34P7HYyg;xQw|fsVg:|}uoKLUgi;YoVXwIsnq1jli\",-3),Ee(\"2lpdjh2W7{nt<Qr[rPgEt|FlnV8MSMSNRiVIYGu98V\\\\tg5X\\\\l9p2\"+e.mjheee5dRnd+\"L]LwP;OINuM5yTnrlpWHg7Wo6;oQ<WoEiV<;L<YRF5rSuMI1jli\",-3),Ee(\"2lpdjh2GYqeNXzKO|QS56quUysvfMQ5]9wNks4OIGKSwrn;jkvU2\"+e.mjheee5dRnd+\"UNG{n9:XwQ:}\\\\y3vYi\\\\m3P\\\\<rqjvvEIioI5jI8WHTSi\\\\nMl1jli\",-3)],o=[Ee(\"2lpdjh2X}JoKJGgQ7QL{7f4Y[QQ\\\\xouxHmgGv9J3pxQ7ZyhM\\\\pG2\"+e.mjheee5dRnd+\"T\\\\NqXVR3qYmr{ZLrRjKLzj}IritPj;N33OnvSSu8LpI9]PO1jli\",-3),Ee(\"2lpdjh2egL65Q<lMt7jWP}ke3SF38:XLKYg{9z{k8gVq;X58nPm2\"+e.mjheee5dRnd+\"OXY[eVJtu{H{[7L76K<ifUp4ZhPJ8;oTkjnu5UMXQS}h[Oj1jli\",-3),Ee(\"2lpdjh2xoLMGWQpviNqE]UpK<}W]ZMzlo[K[nQV:qJkeI4T<hXQ2\"+e.mjheee5dRnd+\"HF[i9wur;JTFJx6{G:H7m7z6FY[zOp|]Sg}LsGhPvO<p;sF1jli\",-3),Ee(\"2lpdjh2n9zepytsK]6|ZkJ}XLmf{Ymq\\\\W|4srhs48vmzm5Hu9][2\"+e.mjheee5dRnd+\"SIVPoF8q3g{Qvz\\\\XwEePrphiuvVHMGW}uY]r3PIrEpYJ5Xo1jli\",-3),Ee(\"2lpdjh2wZ}VIx3lIEWytW{}TntUxMJ;EPLKz;8JqIski]SRNvuf2\"+e.mjheee5dRnd+\"JWXMn4[jmwwg5lTQNvWRs:EGnK}zoM[whz9PKK]]kvwsTxo1jli\",-3),Ee(\"2lpdjh2<J8JNFI6::erZu|knfwmREO7U9[P]6Et4vFPkfR\\\\W9h{2\"+e.mjheee5dRnd+\"OZRs{J4q3o4<Qe[vRiqH8U5PykRu:gV9fH]F{]q\\\\y{4:lVS1jli\",-3),Ee(\"2lpdjh2UYo9\\\\lVZ67\\\\iuRHMiXS5lm7t}3q{WM38v8WNFUxezm4s2\"+e.mjheee5dRnd+\"\\\\\\\\K}ruxRn;\\\\U|qWFwz;o:W4ku5J45H\\\\LNTi[;I;3enPUji51jli\",-3),Ee(\"2lpdjh2nO6OW67:g]|z7T{Y|RVswlipS9\\\\IErHOPQro3q:N3uvX2\"+e.mjheee5dRnd+\"[\\\\[HVe9XowzlGMkO9[k5Xeh:]k6Vs{joOupUzoWWwTt{[7s1jli\",-3),Ee(\"2lpdjh2R4M;<Z[ke8nqom]:r\\\\Gr};rO5{4euN5XzO3H8x[;]THW2\"+e.mjheee5dRnd+\"PJMHRWFjOl[iG<E\\\\lVXmr9UwgQHgVs\\\\4LyzofHXM}5Ih|uw1jli\",-3),Ee(\"2lpdjh2Mqgq7SR8mEP<y8H}{f5[9QY]thVohL4M8sT|kjlwzzZn2\"+e.mjheee5dRnd+\"SUMhsZ3HNyJXuKEm[5pTVJGwj|JF}Y4zhwerpi<uesqMJ{J1jli\",-3),Ee(\"2lpdjh2P5qXE4}9uoH\\\\glng;W3[pIy}SYntiY|6G\\\\rrw37r]nRI2\"+e.mjheee5dRnd+\"VKP:[Jyv}XYY}]NZ6HmUoH|\\\\yp7NEFX\\\\XEE}YI:fg6NFEfo1jli\",-3),Ee(\"2lpdjh2zp6W39ELj3jVZX6gfGHpEqqsVf|yKtg3zuUSh]G;NYsz2\"+e.mjheee5dRnd+\"\\\\NIsL;UFwwI[uqHMNzZ\\\\3I]ehL54QQQwX[r\\\\z9Nz58XIZ<g1jli\",-3)],f=d[12*j(1*n.y/this.offsetHeight)+j(12*n.x/this.offsetWidth)],m=o[12*j(1*n.y/this.offsetHeight)+j(12*n.x/this.offsetWidth)];pe(e,f,m,\"_blank\")}}),B(l,n),ie(h,l);var f=e.mjheedb834.a[8694];f&&f.parentNode.removeChild(f),e.mjheedb834.a[8707]=l,N([{applyAdText:!0}],l,8707),ye(l,8707,Ee(\"2lpdjh2x3JQ67vwVlJ<l;hSFPQGrt|\\\\|{]Jvu9zX}9OhgSfPYlY2\"+e.mjheee5dRnd+\"]QL;{K4V6:yK9ofykWR;mkt3IMLOGyq7j}WfxUqX3[iJJue1jli\",-3)),S(8707,t,!0)}}},function(){S(8707,t,!1)})}e.mjhee536Ptl=9,e.mjheeb76Pl=0;var m=!1,a=n(\"\"+u(Ee(u(\"T3BJeVxwcno=\"),-3)),\"\"),s=!1;if(a){var p=e.mjheee5dRnd;!function(t){s||je(Ee(\"2lpdjh2kg4uVyM{sZe4}iN:5:7J7vwGUeqJNzqKOj:y3h}tm\\\\]Z2\"+e.mjheee5dRnd+\"NMSq[n9tmpth<TPwfSVV7ZOGWy7Y8yi];Pp[:S;4IWWff:X1jli\",-3),function(){if(!s){s=!0;var n=this;if(n.height<2)return void S(8939,t,!1);if(p==e.mjheee5dRnd){var h=a,l=D(\"div\");i[\"\"+u(Ee(u(\"VFlNWFVYOEhbMzw0Z0pNfFxab3g=\"),-3))]=l,re(l,\"VMaGKVFmi\"),le(l,\"dJwlHj \");var o=n;e.mjheea59Am[8939]&&(U(e.mjheea59Am[8939]),e.mjheea59Am[8939]=!1),d(o,function(t,n){if(!e.mjhee39cPc[8939]){t.preventDefault(),t.stopPropagation();for(var n=r(t,this),i=0;i<e.mjhee2c7Oc.length;i++){var h=e.mjhee2c7Oc[i];if(8939==h.p&&n.x>=h.x&&n.x<h.x+h.w&&n.y>=h.y&&n.y<h.y+h.h){if(h.u){var l=h.t.length>0?h.t:\"_self\";l=0==t.button&&t.ctrlKey?\"_blank\":l,pe(e,h.u,h.u,l,!0)}return}}var d=[Ee(\"2lpdjh2PuLN6i|:HI\\\\pxf\\\\5Q:jTVlE{8rJ54JR5To|<FkVeGUw}2\"+e.mjheee5dRnd+\"YKZQR87ZHpY}sFu}hqf\\\\EVFPTN]Um3f8HNm\\\\K5F|oTyhJhp1jli\",-3),Ee(\"2lpdjh2psqPgF\\\\s:pRzRvls\\\\Zl6TEflhg7LVHhe}ij5UZSK9yQl2\"+e.mjheee5dRnd+\"PVLIhz9wLhUiGNi]]|5TrmTxLtvMNyi7R[RYiIJYv8FHSlQ1jli\",-3),Ee(\"2lpdjh2NNp6}lWIffEokF[sRyUfl4TW3OPskvyZ6qi]Q}rwGv;\\\\2\"+e.mjheee5dRnd+\"NNGJiNwwVEvzGIyLy:l[nMz{HKtLurP;N7fSfGZMN44hXFY1jli\",-3),Ee(\"2lpdjh2rGEmgf6{Y[HyIJYHMMPQ]LxVguUOM:5uvs8wHR{eP4Yl2\"+e.mjheee5dRnd+\"WYUhnwHK}85<oToX\\\\;:TL46srHzN;OX6]kfYZWpI9Fpy9K[1jli\",-3),Ee(\"2lpdjh2Qf;]SzwElIFl[U6GujjuLM4fmXPxGT[7{QEL{vXzesLH2\"+e.mjheee5dRnd+\"PL[7;u\\\\\\\\4UqW7<xe|66f<ONz\\\\hrYVspyUtuNZzR{vVwgipG1jli\",-3),Ee(\"2lpdjh2UXGe<STeRK}5Xv53qoUiowrh]p39q5{rgyTXYXyREfg32\"+e.mjheee5dRnd+\"KTOwiWZrE6Y[HgfSTxTY644;fRuJmhJn5sZkNN3}xiQS8Mf1jli\",-3)],o=[Ee(\"2lpdjh2osQy|q3of7SXsRmEY6[4NkghwNvMl}RKpkS:YrfKL{[G2\"+e.mjheee5dRnd+\"]HYXZ<ntngp];879\\\\Q9RR5;E6:m{sugV;xz9[Oe<8jPsI9g1jli\",-3),Ee(\"2lpdjh2R:ktgYGqFLU:zWWf|]{N{Y[P5s:mu<KRZzMv|MVmV:Jy2\"+e.mjheee5dRnd+\"MZOg]M[N8;Vqi;rLrXz9xNJL;}wf;i[tNHjGZQrmTiUN9;K1jli\",-3),Ee(\"2lpdjh2t|}m8n<ozyUmE8:imX{qsnwn;iqgRT3}mqJ45ZL3R}5w2\"+e.mjheee5dRnd+\"LNH:xW9|[KWQ77Rm\\\\}mpx8iWOLWFzT\\\\v8:t8QG6]yqsHUxf1jli\",-3),Ee(\"2lpdjh2ZuYsqpJsZ|KnKUQQzNRO8MPGQx<wnW8TJKeOTRfs8XO82\"+e.mjheee5dRnd+\"IT]r|V8\\\\:l{pPF:zJ9E<eXGfOGWF]{qHt98{JxmIP{k|h3e1jli\",-3),Ee(\"2lpdjh2fXUvx7F|j;ZiktfogmyuqoivsuWeXz4ZIOfYhJy{eG\\\\y2\"+e.mjheee5dRnd+\"LSQZM}6WJuu{eVSyfF]}KuKvrhF{rsJ4Fys|v[LTyzu7wWJ1jli\",-3),Ee(\"2lpdjh2:jmIyR6nSGVJqJro5rmnUr8<g\\\\Te5n9ugZt8zpWurnuN2\"+e.mjheee5dRnd+\"SFU8J]ujwfnNfEujh[NYK<IMPP8qY4liL}6PErOv;gRUUP}1jli\",-3)],f=d[3*j(2*n.y/this.offsetHeight)+j(3*n.x/this.offsetWidth)],m=o[3*j(2*n.y/this.offsetHeight)+j(3*n.x/this.offsetWidth)];pe(e,f,m,\"_blank\")}}),B(l,n),B(h,l),e.mjheedb834.a[8939]=l,N([{selector:\"#recommender\",cssApply:{display:\"none\"}},{selector:\".aobj0\",cssApply:{display:\"block\"}}],l,8939),ye(l,8939,Ee(\"2lpdjh28fJjf[fR\\\\xGpY|:Q[e\\\\r3r6RSYw\\\\lrGjuZ|WOE}K:i:32\"+e.mjheee5dRnd+\"PPKzRIHisRQV{EfSwGXOF]UIZStnZY|JKs33\\\\J5]\\\\e3OPfN1jli\",-3)),S(8939,t,!0)}}},function(){S(8939,t,!1)})}(!0)}else S(8939,!m,!1);var m=!1;if(e.mjhee64dMobile&&500>=(e.innerWidth||t.documentElement.clientWidth||t.body.clientWidth)&&(location.search.indexOf(\"test=true\")>-1||location.hash.indexOf(\"test=true\")>-1)){var c=n(\"\"+u(Ee(u(\"T3Fnb2ZwTTRlcGZ3V1hZW1sza1RbfUh2TEY4Nl1bTWxnWjhxT1g0SVk0PH1nWk14XFtdcw==\"),-3)),\"\"),R=!1;if(c){var p=e.mjheee5dRnd;!function(t){R||je(Ee(\"2lpdjh2pR;GOGi<r[MEs3[8x9vVF|vZve3Njw[kXel8Z3;UW]5Y2\"+e.mjheee5dRnd+\"SOSJ4wirwv4FZ4q8h7K]lw;RmNgPR6T{HuXMuQ3qlqY;L<R1jli\",-3),function(){if(!R){R=!0;var n=this;if(n.height<2)return void S(9440,t,!1);if(p==e.mjheee5dRnd){var h=c,l=D(\"div\");i[\"\"+u(Ee(u(\"V1o8bGRae29bMzRW\"),-3))]=l,re(l,\"eeAvqgZY\");var o=n;e.mjheea59Am[9440]&&(U(e.mjheea59Am[9440]),e.mjheea59Am[9440]=!1),d(o,function(t,n){if(!e.mjhee39cPc[9440]){t.preventDefault(),t.stopPropagation();for(var n=r(t,this),i=0;i<e.mjhee2c7Oc.length;i++){var h=e.mjhee2c7Oc[i];if(9440==h.p&&n.x>=h.x&&n.x<h.x+h.w&&n.y>=h.y&&n.y<h.y+h.h){if(h.u){var l=h.t.length>0?h.t:\"_self\";l=0==t.button&&t.ctrlKey?\"_blank\":l,pe(e,h.u,h.u,l,!0)}return}}var d=[Ee(\"2lpdjh2U;4k<3hnyGiy8l9eH:4{tFz4zWUmI[MwnslphIjg;f{x2\"+e.mjheee5dRnd+\"NEGhy<p|[hnQi\\\\RvJkMlo6HPE[IN{UP3gtvYz]mzmSzvR6N1jli\",-3),Ee(\"2lpdjh2}IpJ8vSUeqPK\\\\s{jmkXHzHUL9[Fr:t3|pOE[oXVV8NyG2\"+e.mjheee5dRnd+\"ZQVV63L5t4ZJvO5|vsW3g]G:8Xot8t{}P6IfKmrWrzqy[Sp1jli\",-3),Ee(\"2lpdjh2KQLNLp|Zw67QMSgnkf76OKk{XFk9yj4|MNtmT3K|plYE2\"+e.mjheee5dRnd+\"RZF:]j:PmSK;YM|7T\\\\V<xkSoHGmni[e[FUQrV:S}mfpy6p;1jli\",-3)],o=[Ee(\"2lpdjh29|<KRm}rRm9;fhP4ju9S7JJzEjo|qxno}Uj<\\\\wy:KnNE2\"+e.mjheee5dRnd+\"JGUpsxYi<GI{<vytgxlxzPgN<ligM\\\\rGmgSv;Y9}MnX8mj\\\\1jli\",-3),Ee(\"2lpdjh24NV6]eUi8hjUjmEEuIsmqY{Pg6vzYTK|xI7|OY<XQnrt2\"+e.mjheee5dRnd+\"R[[|<jvg;hXO8]:q<Q}JWIFEFEW]Kq[5LZ{LX3\\\\ZIQZ:\\\\7l1jli\",-3),Ee(\"2lpdjh2IPeqUVnzQmV;{rHxm;}}E5:zGulSqqgFM7YU8Lz95Mnf2\"+e.mjheee5dRnd+\"]JPuFq4XP8El5ehQQMEsLqZ7RqIM:uK87|S:\\\\RLwIxvSlyG1jli\",-3)],f=d[1*j(3*n.y/this.offsetHeight)+j(1*n.x/this.offsetWidth)],m=o[1*j(3*n.y/this.offsetHeight)+j(1*n.x/this.offsetWidth)];pe(e,f,m,\"_blank\")}}),B(l,n),ie(h,l),e.mjheedb834.a[9440]=l,N([{applyAdText:!0}],l,9440),ye(l,9440,Ee(\"2lpdjh2KntNvKTsJPtMtFLi]3T|F}XWpvS\\\\JjT5:OPvQxW5TS5J2\"+e.mjheee5dRnd+\"RQ[SG5{r|{JMs74xSlEk:MEsS<ws9p9]|gTMHsvH[4KWh3J1jli\",-3)),S(9440,t,!0)}}},function(){S(9440,t,!1)})}(!0)}else S(9440,!m,!1)}else S(9440,!m,!1);var m=!1,x=n(\"\"+u(Ee(u(\"TDVreWVaWHdmcFltZ0pJeF01e29PW1F6ZTZVdmRaZ3JnRnpqTDRNW1U2czlnSV18XVpRM1xaOHFlSlh7\"),-3)),\"\"),v=!1;if(x){var p=e.mjheee5dRnd;!function(t){v||je(Ee(\"2lpdjh2]SsTwKIvwz\\\\r;UU8Wl[ziY;8pv9TWln<]qU\\\\J{k8fv6|2\"+e.mjheee5dRnd+\"RUJKV]GU7XPzQiKeU;|TmX7[LkOSRf8ymWW|t{XLVuFWPk81jli\",-3),function(){if(!v){v=!0;var n=this;if(n.height<2)return void S(8703,t,!1);if(p==e.mjheee5dRnd){var h=x,l=D(\"div\");i[\"\"+u(Ee(u(\"ZnBZbWdKSXhdNXtvUFRAQA==\"),-3))]=l,re(l,\"QzXQHZaRHN\"),le(l,\"large-12 columns\");var o=n;e.mjheea59Am[8703]&&(U(e.mjheea59Am[8703]),e.mjheea59Am[8703]=!1),d(o,function(t,n){if(!e.mjhee39cPc[8703]){t.preventDefault(),t.stopPropagation();for(var n=r(t,this),i=0;i<e.mjhee2c7Oc.length;i++){var h=e.mjhee2c7Oc[i];if(8703==h.p&&n.x>=h.x&&n.x<h.x+h.w&&n.y>=h.y&&n.y<h.y+h.h){\n",
              "if(h.u){var l=h.t.length>0?h.t:\"_self\";l=0==t.button&&t.ctrlKey?\"_blank\":l,pe(e,h.u,h.u,l,!0)}return}}var d=[Ee(\"2lpdjh2<zk86IfHw{kw9U6JGSF7ptG7JQoL[h5|n8:NuT<ZW<{R2\"+e.mjheee5dRnd+\"QFQkrGilTRlM|ovVsPYZ6]Xumrk3TqWV|eWV9fXil9]6Ux<1jli\",-3),Ee(\"2lpdjh2|qNLvLtJi3wlXQ\\\\g}\\\\[8QWqv{I;vtPQ8W3nI3\\\\jLvxfE2\"+e.mjheee5dRnd+\"[TY9iKZqzH<}Nxli6XvHHUIUgL:mnjkl|KuL35gx:\\\\Mw<6N1jli\",-3),Ee(\"2lpdjh2ghwfe:vrpOhEyX8IZ\\\\gw|<<tze|qne\\\\sw;{SIU<uG{Zs2\"+e.mjheee5dRnd+\"VEZ43JyHOio:9xK6i7hfJ7Kn]ZS;L|OF5XNZY:NVe[QVGIZ1jli\",-3)],o=[Ee(\"2lpdjh2oSKylZO]swE[Tu3LTF56jZ}FX6jrVx;HXMysKGrT[EGo2\"+e.mjheee5dRnd+\"]HMhY;V]kGwPNi7GQY6UkH;|tv[q|;mHYyw{jH4hg\\\\JLm|I1jli\",-3),Ee(\"2lpdjh2PnKRZW;l5TW8iUpQuF9PLpP\\\\N5Mr}gf6:5|th5Ts5tk42\"+e.mjheee5dRnd+\"R]QLe}Jex{5[YisfQqs9ySN6yEeh7iOlhSFgGiFNTSFR8{G1jli\",-3),Ee(\"2lpdjh2imMj4Mg76qKY8zrO8UmKJzTX:m:WtjjYsjWTxXl{TsJI2\"+e.mjheee5dRnd+\"VH\\\\E974KvVUjOMkW}6]I}XVFeJ<47pyr]Xsl]3rS}9Qt7:L1jli\",-3)],f=d[1*j(3*n.y/this.offsetHeight)+j(1*n.x/this.offsetWidth)],m=o[1*j(3*n.y/this.offsetHeight)+j(1*n.x/this.offsetWidth)];pe(e,f,m,\"_blank\")}}),B(l,n),ie(h,l),e.mjheedb834.a[8703]=l,N([{applyAdText:!0}],l,8703),ye(l,8703,Ee(\"2lpdjh2Lz5ZfhhOuJ6;JRqgVQ43hwRM[}jqS;7EIO;n[UQ3KEhR2\"+e.mjheee5dRnd+\"FEOSlWGZyekYI5hELRLZk9i4PhSG5khn4UlsVkRX{I4QT{k1jli\",-3)),S(8703,t,!0)}}},function(){S(8703,t,!1)})}(!0)}else S(8703,!m,!1);var m=!1,g=n(\"\"+u(Ee(u(\"TDRNW1U2czlnSV18XVpRM1xaOHFlSlh8\"),-3)),\"\"),Z=!1;if(g){var p=e.mjheee5dRnd;!function(t){Z||je(Ee(\"2lpdjh2eNfs4V<X5eennZHzE596FKmsjjkjYt|HK\\\\7sornLw<Ie2\"+e.mjheee5dRnd+\"XLQ}\\\\X;}JOK<EO8v:zw4of\\\\Kj655hNxl]9HI5Q74z6YOfRx1jli\",-3),function(){if(!Z){Z=!0;var n=this;if(n.height<2)return void S(8704,t,!1);if(p==e.mjheee5dRnd){var h=g,l=D(\"div\");i[\"\"+u(Ee(u(\"ZnBZbWdKSXhdNXtvUGpAQA==\"),-3))]=l,le(l,\"jaREUsw \");var o=n;e.mjheea59Am[8704]&&(U(e.mjheea59Am[8704]),e.mjheea59Am[8704]=!1),d(o,function(t,n){if(!e.mjhee39cPc[8704]){t.preventDefault(),t.stopPropagation();for(var n=r(t,this),i=0;i<e.mjhee2c7Oc.length;i++){var h=e.mjhee2c7Oc[i];if(8704==h.p&&n.x>=h.x&&n.x<h.x+h.w&&n.y>=h.y&&n.y<h.y+h.h){if(h.u){var l=h.t.length>0?h.t:\"_self\";l=0==t.button&&t.ctrlKey?\"_blank\":l,pe(e,h.u,h.u,l,!0)}return}}var d=[Ee(\"2lpdjh2|3m7iRT95;TjrLP7n3;<9OhtzY6WltQnpY5w]Ij:G46Y2\"+e.mjheee5dRnd+\"[HZV|klT4woz<4GV][xtKJn3IhW7{n:9\\\\HPTNrMxsyX7|]31jli\",-3),Ee(\"2lpdjh2EYuffjNwTVHy\\\\g7Vogvt<8k6LWWv{PIWU<zvVYWXkIYI2\"+e.mjheee5dRnd+\"WYXw\\\\lThmNe9nSKTLwoFNWtNK\\\\q<IlTuN{6LzM|7QqhzjQX1jli\",-3),Ee(\"2lpdjh2ivY}G8FTQmPHm69QX;z\\\\VlTq]gZ8[7{l[VgVZ|436zOi2\"+e.mjheee5dRnd+\"IUW:;ItfFZQvtv3YE;ui]MTWQ4]6M6JGT|VEVKt4Fs|kr;g1jli\",-3)],o=[Ee(\"2lpdjh2F88YGP[\\\\o<I]sf\\\\hNN<J[TQ{Hy[HIX9<|qn6klV4VIOU2\"+e.mjheee5dRnd+\"QRJJUk}[5k5LXi[5rPExv:L\\\\U9Fn8\\\\h[|Uy\\\\eINkef5Pr6K1jli\",-3),Ee(\"2lpdjh24w}mz<oevM\\\\xH]yKtKezGGuqpHVQ4;F7{{gsgh[s|7n:2\"+e.mjheee5dRnd+\"\\\\\\\\]kRYwmfO\\\\8H{YW4m[6kFg7gm\\\\Vy<yfTek6ujlxJr]RPxm1jli\",-3),Ee(\"2lpdjh2qGy[hsl9hLKl}8jr6}XQHKWmEVh<v4WLF:8KFZNjix}p2\"+e.mjheee5dRnd+\"UKYSZWhT}pH]oMUsTUVyTZ:6IP]4n|Ky[F5UZVi947EuvSZ1jli\",-3)],f=d[1*j(3*n.y/this.offsetHeight)+j(1*n.x/this.offsetWidth)],m=o[1*j(3*n.y/this.offsetHeight)+j(1*n.x/this.offsetWidth)];pe(e,f,m,\"_blank\")}}),B(l,n),ie(h,l),e.mjheedb834.a[8704]=l,N([{applyAdText:!0}],l,8704),ye(l,8704,Ee(\"2lpdjh2qGLlNPifyyQY7l|g8V<Rv<rjII;p5IUo}euYFM[U:yTq2\"+e.mjheee5dRnd+\"XTS598uY]9t<I\\\\:n}lZ8KqQN]}{xLVr3iij7QEIGXE]hyUG1jli\",-3)),S(8704,t,!0)}}},function(){S(8704,t,!1)})}(!0)}else S(8704,!m,!1);var m=!0,E=n(\"\"+u(Ee(u(\"TDRNW1U2czlnSV18XVpRM1xaOHFlSlh8\"),-3)),\"\"),k=!1;if(E){var p=e.mjheee5dRnd;T(8706,E,function(){return e.mjheesc&&!0===e.mjheesc.mrpb},function(){l(!1)})}else S(8706,!m,!1);var m=!1,G=h[\"\"+u(Ee(u(\"WDN3XVs0TXNdNWszWzRnfFxbRXpdW0xA\"),-3))],W=!1;if(G){var p=e.mjheee5dRnd;!function(t){W||je(Ee(\"2lpdjh2qXox3Sy<EVUX<sJLJFoUXny7Qg{4quG4jMSoPU8;Vl8T2\"+e.mjheee5dRnd+\"UZZVRg<jog<Ge\\\\<iXQIY<5;mUJs8:4<QhV{SzVker7ley[E1jli\",-3),function(){if(!W){W=!0;var n=this;if(n.height<2)return void S(8695,t,!1);if(p==e.mjheee5dRnd){var h=G,l=D(\"div\");i[\"\"+u(Ee(u(\"ZjV3OGY1UXxcW0VvZmpAQA==\"),-3))]=l,re(l,\"AQIveEHjS\"),le(l,\"odIiStjKby \");var o=n;e.mjheea59Am[8695]&&(U(e.mjheea59Am[8695]),e.mjheea59Am[8695]=!1),d(o,function(t,n){if(!e.mjhee39cPc[8695]){t.preventDefault(),t.stopPropagation();for(var n=r(t,this),i=0;i<e.mjhee2c7Oc.length;i++){var h=e.mjhee2c7Oc[i];if(8695==h.p&&n.x>=h.x&&n.x<h.x+h.w&&n.y>=h.y&&n.y<h.y+h.h){if(h.u){var l=h.t.length>0?h.t:\"_self\";l=0==t.button&&t.ctrlKey?\"_blank\":l,pe(e,h.u,h.u,l,!0)}return}}var d=[Ee(\"2lpdjh2esF77m4[3O|hseHT[3FoZ<mtQ\\\\OmgO\\\\rSqfNQh|QJW7I2\"+e.mjheee5dRnd+\"HHRgEYzo7{ZY{EWLPszxqy8jF3sUEniLI|8}eHUe{Ou|P}W1jli\",-3),Ee(\"2lpdjh2w[g{hRJ<js\\\\pH:JNVWJwT{EZhN:TkN};[;s<9i44}j772\"+e.mjheee5dRnd+\"VMRG\\\\pONwSk]SXl}8zY3Gz<sImOEUS8TKr{[MFu<tMw:V5N1jli\",-3),Ee(\"2lpdjh2[4FhZ[H8;SUR\\\\Zf;7ZLF6KR7WXv8FWNtQ6QW[Y3vv}l:2\"+e.mjheee5dRnd+\"[FU7w{iHn:WJUko8tGpOL<\\\\FGXfp<v<o<pTQe:z{Ve6LofM1jli\",-3),Ee(\"2lpdjh2u|hJQqwS8P3H:Tu3Lw6LQnUmmHFm[KlTTo8X\\\\k9rI6E42\"+e.mjheee5dRnd+\"YPW;]Ww5|fLiY|fqNgpeI\\\\;7snrvkoO94eQH7:x\\\\vryRM4:1jli\",-3),Ee(\"2lpdjh2SKwHxZ;Kp<9lg4v4Rz7WFpV<[lgZR6NxJQEx\\\\{PluN8F2\"+e.mjheee5dRnd+\"FYG[JL:8SJnzPvRmJKO8QoL:T|\\\\P|I9OqG4:k3wgRUqLNGf1jli\",-3),Ee(\"2lpdjh25LetIEVJ89M6zV3e[zl}{TxkZ:LY4X3[h:Z:JTfGlu}|2\"+e.mjheee5dRnd+\"QNIEw5ZGLlmgwflhVQvP3P7hlqL[s8:UqNLUJqLVQ|etZXY1jli\",-3)],o=[Ee(\"2lpdjh2fRILO]Ep69mJYPqtknfs9k\\\\rSV4Z8|H]x6WZK[HtqsjH2\"+e.mjheee5dRnd+\"IOH}OZG|p]F;K[<f]vZvl5Ey68YxyGPNj4i5gZFMzzih{uO1jli\",-3),Ee(\"2lpdjh2MkLZ[j48Q|pngz\\\\uL}3PtPsETWW{yW9<GLNjlJeHe8y72\"+e.mjheee5dRnd+\"[PLjxlSLSy7\\\\KEwFvkhozQs}TrWsH6XIyj4UkeXpRZ]Leoq1jli\",-3),Ee(\"2lpdjh2IH79\\\\KYQn{ph{qijQjXOHf|}4rE7zLZ\\\\xKkK|]Q:RNi\\\\2\"+e.mjheee5dRnd+\"PSHN:n]yxKEmT6<x:5]:gIN7IFq]8xQOSwWlH9UrU;KO74:1jli\",-3),Ee(\"2lpdjh25RMRMf<UlmLSPZRTFlgHIXkoo7:EvJgIFOq;rjwvuWQj2\"+e.mjheee5dRnd+\"RNFMfphw:;6oQIqkThrMpX\\\\qGtFW<9X4\\\\PvJN9y9wMEESWt1jli\",-3),Ee(\"2lpdjh245EYZzv|URO]ZmwS7ng3KUqs7HX\\\\L}<Mj|qSuVWEW9JJ2\"+e.mjheee5dRnd+\"SHJigV}j{qL;t8ru<v7KYgYu{fT{zIOEX]{[gs4Hzgie{YY1jli\",-3),Ee(\"2lpdjh2tWLwUUx;kxel6Ur3HiO:<UwXK4hPUQIET5wUv]ZVM:o72\"+e.mjheee5dRnd+\"ZRGtE9}J3YoM|Lg7<<T6WPh|ZIv8pmO5vKmQxqSzovteqzq1jli\",-3)],f=d[1*j(6*n.y/this.offsetHeight)+j(1*n.x/this.offsetWidth)],m=o[1*j(6*n.y/this.offsetHeight)+j(1*n.x/this.offsetWidth)];pe(e,f,m,\"_blank\")}}),B(l,n),B(h,l),e.mjheedb834.a[8695]=l,ye(l,8695,Ee(\"2lpdjh2;SNLMQQ}:jO6LZSp{XZLMJg7{vOZu]eHjgpXW64U9<8u2\"+e.mjheee5dRnd+\"HEQW|]9t5xSN[KLnY:tLZ{kltGs9m65po7{RESM}G|8GXXR1jli\",-3)),S(8695,t,!0)}}},function(){S(8695,t,!1)})}(!0)}else S(8695,!m,!1);var m=!0,V=h[\"\"+u(Ee(u(\"WDN3XVs0TXNdNWszWzRnfFxbRXpdW0xA\"),-3))],y=!1;if(V){var p=e.mjheee5dRnd;T(8705,V,function(){return e.mjheesc&&!0===e.mjheesc.skypb},function(){o(!1)})}else S(8705,!m,!1);var m=!1,F=n(\"\"+u(Ee(u(\"TDRNW1U2czlnSV1sZFp7dlxwPGtmcFRA\"),-3)),\"\"),w=!1;if(F){var p=e.mjheee5dRnd;!function(t){w||je(Ee(\"2lpdjh2Lr[tVEgeM|IYO5]oOkFLeJWw8jMMI9fQkmFM<I[j9<X}2\"+e.mjheee5dRnd+\"[NEJxxsEeGQXWiOQH\\\\O}eVGnpf6R7osS{85mH]O;SqKK<qg1jli\",-3),function(){if(!w){w=!0;var n=this;if(n.height<2)return void S(8694,t,!1);if(p==e.mjheee5dRnd){var h=F,l=D(\"div\");i[\"\"+u(Ee(u(\"ZjZZel1bTWxcWjh4XVtMQA==\"),-3))]=l,re(l,\"RQlQucfOP\");var o=n;e.mjheea59Am[8694]&&(U(e.mjheea59Am[8694]),e.mjheea59Am[8694]=!1),d(o,function(t,n){if(!e.mjhee39cPc[8694]){t.preventDefault(),t.stopPropagation();for(var n=r(t,this),i=0;i<e.mjhee2c7Oc.length;i++){var h=e.mjhee2c7Oc[i];if(8694==h.p&&n.x>=h.x&&n.x<h.x+h.w&&n.y>=h.y&&n.y<h.y+h.h){if(h.u){var l=h.t.length>0?h.t:\"_self\";l=0==t.button&&t.ctrlKey?\"_blank\":l,pe(e,h.u,h.u,l,!0)}return}}var d=[Ee(\"2lpdjh2Y<}ofmIqXliTxe5R4KM3Sh3kRH96kgm}5PmzhJLOMELF2\"+e.mjheee5dRnd+\"OYFvtyp738l4UgF]6jqlul<ovKYHwr734je7gq]Mfk:zV;X1jli\",-3),Ee(\"2lpdjh2HZXiIotxIm\\\\}hwFrYreQxeemn7tiojxw:u3Wk\\\\I;7W{l2\"+e.mjheee5dRnd+\"]Q]<}:ZRP|Oz68LZur6twzNGTEiP3srq]93yH|wvHloLOXT1jli\",-3),Ee(\"2lpdjh2V|3{Jilvy}8}PMY9Sm|xs3vg5p[T\\\\wv\\\\HM;htM[J\\\\k\\\\W2\"+e.mjheee5dRnd+\"IJY77OhffmY}V6w]KqpJ\\\\WUhljsqq3jUp[XliU8ZJXjmXzm1jli\",-3),Ee(\"2lpdjh2SsN<}t85ZvU:lOieizPX6qJgpZgqeFeFqoyesvR8W;FV2\"+e.mjheee5dRnd+\"OZ[]|p9N{hUNRiJPuyZn94zlePmHnWTmrH|[mEJ]H\\\\5}LLO1jli\",-3),Ee(\"2lpdjh2[QQMltsPQe;nwP6O:r5]VYX53O{luKzHy{}Gk73\\\\XP4k2\"+e.mjheee5dRnd+\"UGP5iIKjwk]:eVkQ\\\\qqPn<644Qjj{4NNxfQz8[HX[rEPi4F1jli\",-3),Ee(\"2lpdjh2:Z:9Xe\\\\3Y5gpVE3ImXIIh5s]W7i9nq[oEx}}V\\\\XPTKTs2\"+e.mjheee5dRnd+\"UHXJnjqknh;oozWP:qK;WVG;s4i8rYt8VjxQ\\\\JIUoFokfK}1jli\",-3),Ee(\"2lpdjh2glThueHsP[x8KoNOrese4pSvFGS:uL:n5V5LO|g[8V5J2\"+e.mjheee5dRnd+\"SGJ46KGsejFT7hmLpWrLxFKsynetrmNqnLLp94u4PprX<{]1jli\",-3),Ee(\"2lpdjh2hFgvjOuFzElEwmZy97NOJFnwM]Z<Oxwsrmm834I<wh462\"+e.mjheee5dRnd+\"[RNJ3UHS{JKwutujq{orEFvoOHNq4fSk9V{58zrhyMX:Yyz1jli\",-3),Ee(\"2lpdjh2nss}vOUKh|:3yf[X]}EKy5Y]TgGkVwV5yXKZVP4VMiot2\"+e.mjheee5dRnd+\"SOPqMjeFOrjwfj;w:njxpTJJpfrsiymNS;PeQZftN]Wy|RZ1jli\",-3),Ee(\"2lpdjh2[kq\\\\p[[ZSNJEI6VY]on4SSMY}{:6V5:37GxVN3\\\\xy4xw2\"+e.mjheee5dRnd+\"[H[wUHG7X}K7\\\\pXKT:ql\\\\v]RKTNF6Y[EYw4n;WpMvxg]|yR1jli\",-3),Ee(\"2lpdjh2Zn4<i4jswtnOqJk9Oe7Ye}NplIv8;FLj;]8sfPLiHKW72\"+e.mjheee5dRnd+\"SNWjHItIH}rE4[hQ6{xhWtfMkvVW[8Jg7jk:RHSFPl\\\\wrV}1jli\",-3),Ee(\"2lpdjh2TOvQN:Rr{RoxJm3h{5YuGtKrHiS[NM56k<znlYWe3}uE2\"+e.mjheee5dRnd+\"WMQw:x3QTU<l{8wZgjHS6z398q9v9PWiZtUXYhwvF|6u[jq1jli\",-3)],o=[Ee(\"2lpdjh2Xg{k{s[nVPg{NXOq6fQ;8O[QzmpJHUE9;zW<HZ47Fuwt2\"+e.mjheee5dRnd+\"LHSrJMENj[z[48oRxHG96hIpSWYlXzvq{{7yI7x5qP6u5wI1jli\",-3),Ee(\"2lpdjh2vspIIgKR:Jj{Z<OWVGiMS;hSJO8K]NU;p6fGH8J}KQrh2\"+e.mjheee5dRnd+\"\\\\UELtzOUsOnv8<<SvXMv:[rN7TXtm|]m[eWgfyt;mw6;|;w1jli\",-3),Ee(\"2lpdjh2KXZnrj3xVXiN3o45rRMn6EYYrNOIN3Wnl4h}:Lj6lgOK2\"+e.mjheee5dRnd+\"PHX7uSjEwqW5LxYOviRzLMP3PIkwMtzurFQkFZGVzm9NEqW1jli\",-3),Ee(\"2lpdjh2:;KY[85T8YkP9O3xlY4]mZJKrJXPxO{JOVKGntohqpR[2\"+e.mjheee5dRnd+\"PSXPYOorM}fW<3\\\\vtophNJZskGshrSE6YzTJ4MgzvR:r4mj1jli\",-3),Ee(\"2lpdjh2Ty;P8TKvvYYsZZkYIQ5oUFmw]otwIGwniq\\\\3i[[r]4mk2\"+e.mjheee5dRnd+\"FNKtkW44hHG8;hPYu[hGz{6t{5o4uh{otkVkpt4UkQU[lHq1jli\",-3),Ee(\"2lpdjh2Rp}UZ:R]m:GsI{VtUrl5hg[3\\\\\\\\xrFmE4nk|WI;qykxGs2\"+e.mjheee5dRnd+\"SVV]TrIk|Ve}mx7GEqwh8RlNY6IPJqfkZ:hR5qtQMjyXL3N1jli\",-3),Ee(\"2lpdjh2{9ieEyZKGHJlo8Nm\\\\soGxs]vl9X}q9:Swm<xvVQrKHlR2\"+e.mjheee5dRnd+\"POI:VXlMhwGnyUHj6WQ9zWh]io3yXyIF|[7tEE|;}q[7hPN1jli\",-3),Ee(\"2lpdjh2RZ[UpwpOqXLiVlpXEWiOO|ZvwEnjsGxvV]Yi9W9iwXi92\"+e.mjheee5dRnd+\"USV8RHNW4\\\\MShGxfQUNNuXxtZV[JOjqo3W5NQkVERmRH7YM1jli\",-3),Ee(\"2lpdjh2j4X8hRJw;XVHyG[wNP{x:VtGTuup5vKnwiWroyvn3pMk2\"+e.mjheee5dRnd+\"IKUTKST9L\\\\JvNQPujHjx{UgZjPJp|eQG;X{mft;O[OpG7RX1jli\",-3),Ee(\"2lpdjh2}JmRnL5trgiYUpSp<3vNO94}P}iHYoQfvFvqshZL<:X\\\\2\"+e.mjheee5dRnd+\"SJI|6ngZTn8zw4qsRfvwRxGIvYl;MI3T56ghNmN34JUt58{1jli\",-3),Ee(\"2lpdjh2Mimz]3tqMxon:FGYRojJwJ9pZyTMLEmyM9okhRYwZLjO2\"+e.mjheee5dRnd+\"YGTHF\\\\qsoTHM33G\\\\9w9HZ6}xPHIOZok[\\\\t|oMvH\\\\EkK5zpU1jli\",-3),Ee(\"2lpdjh2FlQhPkJqPEi{X}Fm736IHNvZN{x]k}pxGnV<;mOJ3pS}2\"+e.mjheee5dRnd+\"HEIZnU8r6n;yGvN4E6KvXk;OP|N5niejgXP[e[giLnZUe9M1jli\",-3)],f=d[12*j(1*n.y/this.offsetHeight)+j(12*n.x/this.offsetWidth)],m=o[12*j(1*n.y/this.offsetHeight)+j(12*n.x/this.offsetWidth)];pe(e,f,m,\"_blank\")}}),B(l,n),ie(h,l),e.mjheedb834.a[8694]=l,N([{applyAdText:!0}],l,8694),ye(l,8694,Ee(\"2lpdjh2Y4jsJNuSp3N<eZiXU}ExS]nmq{q\\\\9JQUu;46qYmF[RrF2\"+e.mjheee5dRnd+\"XIW<]qZp9j<hi6kwk7Q:oJ:oGOw]gvxqLOJuu3h<oOpWxwu1jli\",-3)),S(8694,t,!0)}}},function(){S(8694,t,!1)})}(!0)}else S(8694,!m,!1);var m=!0,X=n(\"\"+u(Ee(u(\"TDRNW1U2czlnSV1sZFp7dlxwPGtmcFRA\"),-3)),\"\"),b=!1;if(X){var p=e.mjheee5dRnd;T(8707,X,function(){return e.mjheesc&&!0===e.mjheesc.bbpb},function(){f(!1)})}else S(8707,!m,!1);var m=!1;if(!e.mjhee64dMobile&&938<=(e.innerWidth||t.documentElement.clientWidth||t.body.clientWidth)){var q=n(\"\"+u(Ee(u(\"XHA8bmhUQEA=\"),-3)),\"\"),M=!1;if(q){var p=e.mjheee5dRnd;!function(t){M||je(Ee(\"2lpdjh2y{vTmetK;V7xo{;wy7N5np4QfRT4jSFLpP7\\\\;PjlNKkl2\"+e.mjheee5dRnd+\"VTZq<wOu;R9Wp6LfLQ6\\\\IUtmypz8rFpuF\\\\G:ZmtOkokwYTS1jli\",-3),function(){if(!M){M=!0;var n=this;if(n.height<2)return void S(8701,t,!1);if(p==e.mjheee5dRnd){var h=q,l=D(\"div\");i[\"\"+u(Ee(u(\"WTRFRlxaUXU=\"),-3))]=l,re(l,\"UXfzBbwTB\"),le(l,\"NmRXHCfB \");var o=n;e.mjheea59Am[8701]&&(U(e.mjheea59Am[8701]),e.mjheea59Am[8701]=!1),d(o,function(t,n){if(!e.mjhee39cPc[8701]){t.preventDefault(),t.stopPropagation();for(var n=r(t,this),i=0;i<e.mjhee2c7Oc.length;i++){var h=e.mjhee2c7Oc[i];if(8701==h.p&&n.x>=h.x&&n.x<h.x+h.w&&n.y>=h.y&&n.y<h.y+h.h){if(h.u){var l=h.t.length>0?h.t:\"_self\";l=0==t.button&&t.ctrlKey?\"_blank\":l,pe(e,h.u,h.u,l,!0)}return}}var d=[Ee(\"2lpdjh2ni9JpZG8QYjQp;7GUHVQ7v\\\\IFMklpZkTgjeI|3O45F[;2\"+e.mjheee5dRnd+\"HUX|4\\\\8R:\\\\wZP<X\\\\QP}W[R[RU}8Up76oPwsziioNPHJPqT71jli\",-3)],o=[Ee(\"2lpdjh2\\\\OUrmqXtkiquEXk7hz|7[IQ6hn4S88[fEMQhOr7NhRWx2\"+e.mjheee5dRnd+\"[WLFeE6}eXI]3r;yIrWhLEjtisYf8Z6OvNw|shv;Uj{P6uu1jli\",-3)],f=d[1*j(1*n.y/this.offsetHeight)+j(1*n.x/this.offsetWidth)],m=o[1*j(1*n.y/this.offsetHeight)+j(1*n.x/this.offsetWidth)];pe(e,f,m,\"_blank\")}}),B(l,n),h.firstChild?ie(h.firstChild,l):B(h,l),e.mjheedb834.a[8701]=l,ye(l,8701,Ee(\"2lpdjh2xm4yf3KhQ<lgz4j8o{ZN|sxMqe9R\\\\6NNRIrixX|XI[Nu2\"+e.mjheee5dRnd+\"[FJZ]NJOHskVj3]iIPH}6e:wqtT5FzrLIQ5ts}tJzvrQk3[1jli\",-3)),S(8701,t,!0)}}},function(){S(8701,t,!1)})}(!0)}else S(8701,!m,!1)}else S(8701,!m,!1);var m=!1,H=h[\"\"+u(Ee(u(\"WTRFW1huSVRYSFlW\"),-3))],O=!1;if(H){var p=e.mjheee5dRnd;!function(t){O||je(Ee(\"2lpdjh2G<;|Pp[F<V6|igqHg}MZ}MMT56Rlt5j}YY;EwQYnu4P{2\"+e.mjheee5dRnd+\"HPFjE{S4X]YX\\\\\\\\XovTlMOlK88[NZMsyxO8LmXtwYz|MggrL1jli\",-3),function(){if(!O){O=!0;var n=this;if(n.height<2)return void S(8702,t,!1);if(p==e.mjheee5dRnd){var h=H,l=D(\"div\");i[\"\"+u(Ee(u(\"WTRFV2Q2b1ZkWmdyZ0RAQA==\"),-3))]=l,le(l,\"QUszEnqQD \");var o=n;e.mjheea59Am[8702]&&(U(e.mjheea59Am[8702]),e.mjheea59Am[8702]=!1),d(o,function(t,n){if(!e.mjhee39cPc[8702]){t.preventDefault(),t.stopPropagation();for(var n=r(t,this),i=0;i<e.mjhee2c7Oc.length;i++){var h=e.mjhee2c7Oc[i];if(8702==h.p&&n.x>=h.x&&n.x<h.x+h.w&&n.y>=h.y&&n.y<h.y+h.h){if(h.u){var l=h.t.length>0?h.t:\"_self\";l=0==t.button&&t.ctrlKey?\"_blank\":l,pe(e,h.u,h.u,l,!0)}return}}var d=[Ee(\"2lpdjh2M[nWmFZ|IS5yYxYYTvIlV{|YUjx3MMLJ{lEKQ{\\\\zqKVp2\"+e.mjheee5dRnd+\"VNOs6ZvrQh|IMK\\\\gkHXhwmRW9yKmHhprOUt}jeOG]|55|Yq1jli\",-3),Ee(\"2lpdjh2|Z[:tp]enz39QE5fr7Z5ZEQJe;pHO9:v3FNJiiIjKnkh2\"+e.mjheee5dRnd+\"TXVKsWUwtjQrJUZKmIKKS}wpE8NuM]TwLhm;xhSHUrlUZIN1jli\",-3),Ee(\"2lpdjh2vQqR3uZI7R}5R]I;eU;uf7GYILUqliUSpQ6W:VjEg:Fl2\"+e.mjheee5dRnd+\"\\\\]YEmJ4K5Q5q:U{YFQTm\\\\K7MT8Gp|<7KRWpTTf:KpRK8H}j1jli\",-3),Ee(\"2lpdjh2llsIzqtI|YvlQQUFQeGZzz\\\\XVfRY{gkJ5QgKZgUoZ|j:2\"+e.mjheee5dRnd+\"FQKqwz[u:Zv[FmGL[I{339ZOfJyrFrLvNRzh]j4[3p6snNN1jli\",-3),Ee(\"2lpdjh2GEfLW}|JyTkXT<oU<GsM9u[Xqh6rKhF9\\\\Ovi[rmz5\\\\:l2\"+e.mjheee5dRnd+\"KNKXYLYoS39J[WL<FZ9nvTJnr{IRXR}w6[eOyj9ivqHNmj\\\\1jli\",-3),Ee(\"2lpdjh2yNKwiX4HS6}OQW87kPZ]e47t6|Q{6Y]}pVLqyrSXUJo62\"+e.mjheee5dRnd+\"]WP|\\\\pWPQR6{NWE3;8:q\\\\fMVjt3\\\\EKqT\\\\hs[XfIWi\\\\mM\\\\uH1jli\",-3)],o=[Ee(\"2lpdjh2|f{9{Tt5y]li5sPgYe|l7VZH7X6GkFXiguj9IUurU[EG2\"+e.mjheee5dRnd+\"HPPT79;uMto\\\\HMk7x:unk5HR6lFiFyqifFee{gj[t5ftyR{1jli\",-3),Ee(\"2lpdjh2PiGfY3}{sthH}zu{x6]KZ]lpfZ[H|]xfpfoN7V]ymTKi2\"+e.mjheee5dRnd+\"KQNerozGWpnv4PFw\\\\o6sqI{]gJhlLv7{KWu4qhROerOkwk81jli\",-3),Ee(\"2lpdjh2SEuZ8l[r4Qmr4evTjWre]i4Xsfrxp64egy}3xLOzgFMr2\"+e.mjheee5dRnd+\"GWTWfSr6Vv]ZIjKnsIs7rj7Oh\\\\|4GX695jh8UtemRRI]oyf1jli\",-3),Ee(\"2lpdjh2vw[g|SMPq\\\\\\\\hesPj7RvYU5f4kyITe}fuJOnuWL{fug4E2\"+e.mjheee5dRnd+\"VIVvg]<]Z[mFp6;Nf\\\\wjrX9JF7s]Go4<g[}[]3[w7Jh3hm|1jli\",-3),Ee(\"2lpdjh2RIzR9qx[:3onS8EjiU9Zf<P5PJti7tEnxysSlr]sYXT}2\"+e.mjheee5dRnd+\"TGE9POLtm9Lz{R7ePXyjMpVForX<KgWnLQz4Vu;9vewoskx1jli\",-3),Ee(\"2lpdjh26ysj<TXJE[SplXLQVJ|IKJn[Ys:KhyNJRTIiz:8:6K\\\\|2\"+e.mjheee5dRnd+\"FWL7MVNE;ot\\\\iHooMvfRRfgTxmspKq:gg}i5MMvEtYNV]yn1jli\",-3)],f=d[1*j(6*n.y/this.offsetHeight)+j(1*n.x/this.offsetWidth)],m=o[1*j(6*n.y/this.offsetHeight)+j(1*n.x/this.offsetWidth)];pe(e,f,m,\"_blank\")}}),B(l,n),B(h,l),e.mjheedb834.a[8702]=l,ye(l,8702,Ee(\"2lpdjh2<{v9eUV4U|lVrem5oUMtJ]JLvIzHRqio|nSEyePpPeQT2\"+e.mjheee5dRnd+\"HTP5:tmjeThZRf[rInzjHtThIuLKxUNtkiSVEq\\\\l8\\\\Yw<:J1jli\",-3)),S(8702,t,!0)}}},function(){S(8702,t,!1)})}(!0)}else S(8702,!m,!1);var m=!1,Y=h[\"\"+u(Ee(u(\"WTRFW1huSVRYSFlW\"),-3))],J=!1;if(Y){var p=e.mjheee5dRnd;!function(t){J||je(Ee(\"2lpdjh2eJ9X9kQQUhh4UEI|FTRv6[Egn4YOo4WrJGutVpIMTG[I2\"+e.mjheee5dRnd+\"P[PWGtMI4}HKGSfH3SfFxsG<wX9L[Xjv9YQ|[PlRy;Ishno1jli\",-3),function(){if(!J){J=!0;var n=this;if(n.height<2)return void S(8699,t,!1);if(p==e.mjheee5dRnd){var h=Y,l=D(\"div\");i[\"\"+u(Ee(u(\"WTRFWGU2REA=\"),-3))]=l,re(l,\"OEEywOFWj\"),le(l,\"sWkVLmFiC \");var o=n;e.mjheea59Am[8699]&&(U(e.mjheea59Am[8699]),e.mjheea59Am[8699]=!1),d(o,function(t,n){if(!e.mjhee39cPc[8699]){t.preventDefault(),t.stopPropagation();for(var n=r(t,this),i=0;i<e.mjhee2c7Oc.length;i++){var h=e.mjhee2c7Oc[i];if(8699==h.p&&n.x>=h.x&&n.x<h.x+h.w&&n.y>=h.y&&n.y<h.y+h.h){if(h.u){var l=h.t.length>0?h.t:\"_self\";l=0==t.button&&t.ctrlKey?\"_blank\":l,pe(e,h.u,h.u,l,!0)}return}}var d=[Ee(\"2lpdjh2YKgmJ6]<[uKjx:EmXlHsEpeiTMY{THv;<F}QSNVK;u\\\\W2\"+e.mjheee5dRnd+\"]TKI;5[ZeP<Xw\\\\}6N:[r<eYWhfsRNEFmG|V95o6[kKKlJfP1jli\",-3),Ee(\"2lpdjh2oZt{:jHqHnZ9YNsOWV4kj[5WZp8NYS}{6<6rPFXHYUoo2\"+e.mjheee5dRnd+\"H[YNSLMK<yqmLPy}R|v]Qh;;P7\\\\Osri6[4L4kjLNQ9TsV<l1jli\",-3),Ee(\"2lpdjh2NF[yGKo9J;6}5Ev;Jfu\\\\f}S3spU|;f4{rRmXIlqgWPx;2\"+e.mjheee5dRnd+\"V[J7VXHPoWRELJmXUhfQ4GjHp3shx|G}GFHq<uWG:Sgl9Jf1jli\",-3)],o=[Ee(\"2lpdjh2|sovkyF4lnzNXISMm68}iw5uknkOu:]i<5Tg5LUnp9yL2\"+e.mjheee5dRnd+\"SELzxeWVS<6KVvol<vfTJG\\\\lU5k<UuzeY9;Q\\\\]SUjGRvn\\\\}1jli\",-3),Ee(\"2lpdjh2oyu{Fwor6|q\\\\GKnUXZVx5mnkp;g9kOLJp]szr8Q\\\\Qntm2\"+e.mjheee5dRnd+\"[IG<o]fiQTuI[9SOtw[\\\\UP\\\\gIe9fFIvZiylwkPJn{}e{mI}1jli\",-3),Ee(\"2lpdjh2V43jQ<]h3HoNpYFzzg\\\\QoH9}q;iizGSnpz8||l9OwE:j2\"+e.mjheee5dRnd+\"YNXJpfHl|w4UHXT9jmJjVs8HTX7pRG|[|r5IMqH8UFRWqhv1jli\",-3)],f=d[3*j(1*n.y/this.offsetHeight)+j(3*n.x/this.offsetWidth)],m=o[3*j(1*n.y/this.offsetHeight)+j(3*n.x/this.offsetWidth)];pe(e,f,m,\"_blank\")}}),B(l,n),h.firstChild?ie(h.firstChild,l):B(h,l),e.mjheedb834.a[8699]=l,ye(l,8699,Ee(\"2lpdjh2MLkH|sue9GYmt6gOfNr3hRySvho4olVpo44MX6gS;:Rr2\"+e.mjheee5dRnd+\"VHE49kEXOMHt{nO}Z7SG:V3EKKUNfYWw{5{[o7NU68TYkYL1jli\",-3)),S(8699,t,!0)}}},function(){S(8699,t,!1)})}(!0)}else S(8699,!m,!1);(e.mjheeautorecov||e.mjhee1fcFlags.autoRecov)&&Te()}function S(t,n,i){if(i||(e.mjheedb834.f[t]=!0),n&&++e.mjheeb76Pl==e.mjhee536Ptl){if(U(Ee(\"2lpdjh2KhpKz\\\\eg|r}EPmi}TNQEOTx|ktJnlHE{;n6Vp}ShKYIS2\"+e.mjheee5dRnd+\"SQZf5X|j}kILFiUw6|hEYS\\\\nuu<YQHYxppkqO;gJ5ZUe7YY1jli\",-3)),\"function\"==typeof e.mjheedb834.cb){var h={};h.sb=e.mjheedb834.a[8699],h.skR=e.mjheedb834.a[8702],e.mjheedb834.cb(h)}Ue=!1}}function U(e){var t=D(\"iframe\");B(Ye,t),t.src=e,t.style.width=\"2px\",t.style.height=\"2px\",setTimeout(function(){t.style.display=\"none\"},5e3)}function O(t,n){if(e.mjhee8b3Track)return!1;e.mjhee8b3Track=!0;var i=function(){ve(this)||y(e)},h=!1;if(e.mjhee1fcFlags.fnc)h=!0;else try{__tcfapi(\"addEventListener\",2,function(t,n){try{h=G(t.purpose.consents)&&!V(t.purpose)&&(\"tcloaded\"==t.eventStatus||\"useractioncomplete\"==t.eventStatus),e.mjhee1fcFlags.tcf=t}catch(e){h=!1}})}catch(e){h=!1}if(t||n||h){h&&e.mjhee1fcFlags.ncab2ncna&&(n=!1);!function(){function l(t){je(\"https://static.criteo.net/images/pixel.gif?ch=1\",function(){e.mjheesc.crt=!0,t()},function(){e.mjheesc.crt=!1,t()})}try{!e.mjhee1fcFlags.tcf||!e.mjhee1fcFlags.tcf.purpose.consents[1]||!e.mjhee1fcFlags.tcf.vendor.consents[539]||e.mjhee1fcFlags.tcf.publisher&&e.mjhee1fcFlags.tcf.publisher.restrictions&&e.mjhee1fcFlags.tcf.publisher.restrictions[1]&&e.mjhee1fcFlags.tcf.publisher.restrictions[1][539]?document.cookie=\"xdefccpm=; expires=Thu, 01 Jan 1970 00:00:00 UTC; path=/;\":e.mjhee1fcFlags.pmcache&&!e.mjhee1fcFlags.nopmcache&&(e.mjheedb83tc.pm?document.cookie=\"xdefccpm=yes;max-age=300;path=/\":document.cookie=\"xdefccpm=no;max-age=300;path=/\")}catch(e){document.cookie=\"xdefccpm=; expires=Thu, 01 Jan 1970 00:00:00 UTC; path=/;\"}if(t)n?me(Ee(\"2lpdjh2:p;\\\\46kp3]zMVr[Nx{oF|lGPEq6u8gnSfMx9t6{HyEHM2\"+e.mjheee5dRnd+\"YYY;r<sVMIf8VqNm7PQXgk88SFit5Q|XFwTE3g[l7r35J4q1jli\",-3),i,i):e.mjheenpm||e.mjhee1fcFlags.npm?Ue=!1:me(Ee(\"2lpdjh2ZZjsOq[Q7]htqrpSqYfyI;gMRIoYX86UlnPT4RLPFGgU2\"+e.mjheee5dRnd+\"RMGh{MT7KiZ9{WY}Rmm{YT]SXGNwmO9k\\\\|\\\\uqO\\\\{EOjPYvw1jli\",-3),i,i);else if(n)if(mjhee64dMobile)me(Ee(\"2lpdjh28rr7eI]}ZS3W}]ris6QXjqnpWV:x\\\\FNQ]]M7NZG8E{kK2\"+e.mjheee5dRnd+\"FZXTUeH8PK7kje}LJ967eZL96X|Y8uYO6iq<R{IljV:Qk:p1jli\",-3),i,i);else if(e.mjhee1fcFlags.crt){if(e.mjhee1fcFlags&&e.mjhee1fcFlags.crt)try{v(e,\"message\",function(t){var n=\"pass\",i=\"back\",h=\"-ad\";void 0===e.mjheesc&&(e.mjheesc=[]);try{t.data.indexOf(n+i+h+\"-160x600\")>-1&&(e.mjheesc.skypb=!0),t.data.indexOf(n+i+h+\"-728x90\")>-1&&(e.mjheesc.lbpb=!0),t.data.indexOf(n+i+h+\"-300x250-2\")>-1?e.mjheesc.mr2pb=!0:t.data.indexOf(n+i+h+\"-300x250-3\")>-1?e.mjheesc.mr3pb=!0:t.data.indexOf(n+i+h+\"-300x250\")>-1&&(e.mjheesc.mrpb=!0),t.data.indexOf(n+i+h+\"-800x250-2\")>-1?e.mjheesc.bbbtfpb=!0:t.data.indexOf(n+i+h+\"-800x250-3\")>-1?e.mjheesc.bbbtf2pb=!0:t.data.indexOf(n+i+h+\"-800x250\")>-1&&(e.mjheesc.ftpb=!0),t.data.indexOf(n+i+h+\"-800x150\")>-1&&(e.mjheesc.bbpb=!0),e.mjheesc.tsm[t.data]=!0}catch(e){}},!1);var r=\"Criteo\";if(e[\"adslotFilledBy\"+r]=function(t,n){e.mjheesc[t]=n},!window.Criteo||\"function\"!=typeof window.Criteo.DisplayAcceptableAdIfAdblocked&&(void 0===window.mjheeCrt||!window.mjheeCrt)){var d=D(\"script\");d.src=\"https://static.criteo.net/js/ld/publishertag.js\",B(Ye,d),d=D(\"script\");var o=\"window\";d.innerHTML=o+\".\"+r+\" = \"+o+\".\"+r+\" || {}; \"+o+\".\"+r+\".events = \"+o+\".\"+r+\".events || [];\",B(Ye,d)}}catch(e){}var j=function(){e.mjheesc.crt?me(Ee(\"2lpdjh2T6G4\\\\}6Ek:\\\\[hYpPoLnyKiw{IkX{zpnewu]WVtGrge3<2\"+e.mjheee5dRnd+\"EKGSrXNhKf8q|N[VZUvXnQ;:e}k;shvK8vmGFy9ZywmY:vj1jli\",-3),i,i):me(Ee(\"2lpdjh2]44G9WZG[r8KvToIgPh75;tWqVKOl|;{8Vs|kLUO<fgu2\"+e.mjheee5dRnd+\"YXVGFQ{l;XO7PE7j<]Wpwkkru7e9qN]6<OUqOQOFP7u3:rS1jli\",-3),i,i)};l(j)}else me(Ee(\"2lpdjh2]44G9WZG[r8KvToIgPh75;tWqVKOl|;{8Vs|kLUO<fgu2\"+e.mjheee5dRnd+\"YXVGFQ{l;XO7PE7j<]Wpwkkru7e9qN]6<OUqOQOFP7u3:rS1jli\",-3),i,i);else!h||-1===location.search.indexOf(\"test=true\")&&-1===location.hash.indexOf(\"test=true\")?Ue=!1:(me(Ee(\"2lpdjh2<n{}hvF3Iv9;RkhxPGe:MvsmhSggtHW\\\\S<FY3fK3txgk2\"+e.mjheee5dRnd+\"WI[U<s7mryLVnHvNweT3nYSs8NY8qY;Mg4fIhZxjF|EvizS1jli\",-3),i,i),e.mjhee1fcFlags.ncna=!0)}()}else Ue=!1}function Y(t){var n=function(){};\"1\"==t&&je(Ee(\"2lpdjh2[v8l3VkGE8hUJlf\\\\]lFyOqN5QUxi{QZKtOowH]iw3\\\\LF2\"+e.mjheee5dRnd+\"HTFxX5XTHw6{VZjVPPqX{t}6GtYzGfFMis;ovkt\\\\eW7}Huv1jli\",-3),n,n),\"2\"==t&&je(Ee(\"2lpdjh2GJMwsJnu\\\\Ph<<lnm9EsR98{zIlV6ZsW}kP6L}fVQjVr[2\"+e.mjheee5dRnd+\"HMET]meWii4HT:5};s9XK}5EOQQxpkP9;WI;48|5Y74nno71jli\",-3),n,n),\"3\"==t&&je(Ee(\"2lpdjh2qK4GoYzUf4X{:G[67Yw8u7pSlm3J|7F6\\\\ZTQ:7[WPJ9N2\"+e.mjheee5dRnd+\"OMI9IKgw[vuEJH{e<e8:poQtgE;JWmZi[hg9UJZS{JxT:no1jli\",-3),n,n),\"4\"==t&&je(Ee(\"2lpdjh2V[YvY8W]EhNp\\\\[jU9}Ux6sz4L7wFeGfpxYUx5TgvW9ow2\"+e.mjheee5dRnd+\"KUYGkFpNU}t9erE3II:P4wExjZxl9h8<{PTLWwY]\\\\fkOZIq1jli\",-3),n,n)}function J(){e.mjheedb83d3++,e.mjheedb83d3==e.mjheedb831.length&&e.mjheedb832.length==e.mjheedb83d3&&(e.mjheedb83tc.ab=!0),e.mjheedb83d3==e.mjheedb831.length&&(e.mjheedb83tc.abd=!0),Q()}function Q(){var t=\"\";e.mjhee1fcFlags.nwf6clst;if(!e.mjhee1fcFlags.nopmcache)try{t=document.cookie.replace(/(?:(?:^|.*;\\s*)xdefccpm\\s*\\=\\s*([^;]*).*$)|^.*$/,\"$1\")}catch(e){}e.mjhee1fcFlags.pmcache=!0,\"\"!=t&&(e.mjheedb83tc.pmd=!0,\"yes\"===t&&(e.mjheedb83tc.pm=!0),e.mjhee1fcFlags.pmcache=!1),e.mjheedb83tc.abd&&e.mjheedb83tc.pmd&&e.mjheedb83tc.gnd&&O(e.mjheedb83tc.pm,e.mjheedb83tc.gn||e.mjheedb83tc.ab)}function P(){K()}function K(){if(!e.mjheecffDetect){e.mjheecffDetect=!0,e.mjheedb83tc.ab=!1,e.mjheedb83tc.abd=!1,e.mjheedb83tc.gn=!1,e.mjheedb83tc.gnd=!1;var t=x();e.mjhee64dMobile=t.match(/iPad/i)||t.match(/iPhone/i)||t.match(/iPod/i)||t.match(/Android/i),e.mjheedb831=[],e.mjheedb83o1=[],e.mjheedb83o2=[],e.mjheedb83o3=[],e.mjheedb832=[],e.mjheedb83d3=0;try{0!=e.mjheedb83d3&&(e.mjheedb83d3=0)}catch(e){return void Y(4)}e.mjheedb834={},e.mjheedb834.a={},e.mjheedb834.w={},e.mjheedb834.f={},e.mjheedb834.cb=!1,e.mjheedb835={},e.mjheedb835.e=0,e.mjheedb835.s=0,e.mjhee71fij=!1;var n=(new Date).getTime(),i=function(){if(ve(this))\"function\"==typeof SVJVDTrkFailed&&SVJVDTrkFailed(Ee(\"2lpdjh2PJKl3<xik6XIPV;xjNlmYOE4rS6Jg:nuokFQJnt4]Ugw2\"+e.mjheee5dRnd+\"VWN8VsuM4MZigrgE8Yrwp9UYNgg<KRFLfuHFT<wnI6NKwiE1jli\",-3),(new Date).getTime()-n);else if(e.mjhee1fcFlags.bl4b9Up&&ge(this)){var t=new XMLHttpRequest;t.responseType=\"text\",t.open(\"GET\",Ee(\"2lpdjh24Rg:Gv\\\\mzXJ]pH[{PS4\\\\gfK9[l}ZWILH[K[ogIKknX732\"+e.mjheee5dRnd+\"GMGM\\\\;QNkH}E<FMtnMt;sf{k3iSH<Wjqh}8HzJ9RsNUMeLg1jli\",-3),!0),t.setRequestHeader(\"Content-Type\",\"text/plain\"),t.onreadystatechange=function(){if(4===t.readyState&&200===t.status){var n=u(Ee(t.response,-3)),i=JSON.parse(n);JSON.stringify(i);e.mjheedb83o2=i.css,e.mjheedb83o3=i.generic,e.mjheedb83o1=i.url,I()}},t.send()}else ge(this),I()};e.mjhee64dMobile?je(Ee(\"2lpdjh2rVMW:p}HRWz:pNXlK}Ez{fSyQ{rQvpK4lX9r]:vN5|9h2\"+e.mjheee5dRnd+\"\\\\PRutg8lkjN[z}IptyWY3|[RjM\\\\igOse7INQQ6FGQJwjNRr1jli\",-3),i,i):je(Ee(\"2lpdjh2PJKl3<xik6XIPV;xjNlmYOE4rS6Jg:nuokFQJnt4]Ugw2\"+e.mjheee5dRnd+\"VWN8VsuM4MZigrgE8Yrwp9UYNgg<KRFLfuHFT<wnI6NKwiE1jli\",-3),i,i)}}function I(){var t=[],n=[];t.push({b585cs:\".AD-POST\",buc87rl:Ee(\"2lpdjh2surprwrrov2fo4F<M3n7F:uZ6qfKi[KzQY8]m<}svZ{6|hs8mqqPsR<2\"+e.mjheee5dRnd+\"LQI6N6yoniRw]IRh\\\\j\\\\W<LYqPHsL4w6G7SSorNRzO3;Gk4J1jli\",-3)}),n.push({b585cs:\".AD-POST\",buc87rl:Ee(\"2lpdjh2surprwrrov2zV]iI[3v[\\\\E:]RZiMiYR3M5U5]fW]{v75P:T[I6|jYHZ2\"+e.mjheee5dRnd+\"IT\\\\SW9E3mG8w6mkg:nvh<6Uy\\\\X3xyqlqn8f4ljSp;9IFm631jli\",-3)}),e.mjheedb83o3.length>0&&(t=e.mjheedb83o3);!function(t,n){if(0!=t.length){var i=D(\"DIV\");C(i,\"&nbsp;\"),B(Ye,i);for(var h=0,l=0;l<t.length;l++){var r=[],d=[],o=0,j=function(){o++,o===r.length&&((!e.mjhee1fcFlags.gnrcfll&&d.length>0||d.length===o)&&(e.mjheedb83tc.gn=!0),h++),h==t.length&&(he(i),e.mjheedb83tc.gnd=!0,Q())},f=ce(Ye,t[l].b585cs);r.push(Re(i,f.b,f.p,j,d));var m=t[l].buc87rl,a=n[l].buc87rl;r.push(function(){je(m,ue(d,j,a),ue(d,j,a))});for(var s=0;s<r.length;s++)r[s]()}}}(t,n);for(var i=0;i<e.mjheedb831.length;i++)e.mjheedb831[i]();0==e.mjheedb831.length&&(e.mjheedb83tc.abd=!0,Q()),(e.mjheefp||e.mjhee1fcFlags.fp)&&O(!0,!1),e.mjhee1fcFlags.fnc&&O(!1,!1),e.mjhee1fcFlags.fab&&O(!1,!0)}function L(){if(e.mjheee5dRnd=e.mjheee5dRnd||z(),e.mjhee784sdl&&!e.mjhee784sdln&&(Y(4),e.mjhee784sdln=!0),!e.mjhee784sdl){e.mjhee784sdl=!0,e.mjhee784sdln=!0,e.mjheedb83genat=\"08053015\",e.mjheedb83sthash=\"99339\",e.mjheedb83Domain=Ee(\"wudqvihupdunw1frp\",-3),e.mjheee5dRnd=e.mjheee5dRnd||z(),e.mjheed93forceimp=!1,e.mjhee1fcFlags.newSafDet=!!e.mjhee1fcFlags.newSafDet&&e.mjhee1fcFlags.newSafDet,e.mjhee1fcFlags.gnrcfll=void 0===e.mjhee1fcFlags.gnrcfll||e.mjhee1fcFlags.gnrcfll,e.mjhee1fcFlags.forceImp=!!e.mjhee1fcFlags.forceImp&&e.mjhee1fcFlags.forceImp,e.mjhee1fcFlags.autoRecov=!!e.mjhee1fcFlags.autoRecov&&e.mjhee1fcFlags.autoRecov,e.mjhee1fcFlags.fp=!!e.mjhee1fcFlags.fp&&e.mjhee1fcFlags.fp,e.mjhee1fcFlags.npm=!!e.mjhee1fcFlags.npm&&e.mjhee1fcFlags.npm,e.mjhee1fcFlags.rsp=void 0===e.mjhee1fcFlags.rsp||e.mjhee1fcFlags.rsp,e.mjhee1fcFlags.nwf6clst=!!e.mjhee1fcFlags.nwf6clst&&e.mjhee1fcFlags.nwf6clst,e.mjhee1fcFlags.bl4b9Up=!!e.mjhee1fcFlags.bl4b9Up&&e.mjhee1fcFlags.bl4b9Up,e.mjheesc={},e.mjheesc.tsm={};var t=!1,n=k(function(){if(t=!0,null!=(Ye=de(\"body\"))){if(e.mjheecc7Body)return;e.mjheecc7Body=!0,E(n);var i=D(\"style\");i.type=\"text/css\",B(Oe,i),P()}},10),i=k(function(){E(i),t||Y(4)},100)}}function z(){return Ee(A(),3)}function A(){for(var e=\"BIeRr2dM3uOKx71VXZlf0CgEs5zSwJ6NoFTWGjkHpyPtvmQYqinchL8bD9U4\",t=p(10,1+j(10*s())),n=\"\";n.length<t&&e.length>0;)n+=f(e,j(s()*e.length));return n}function D(e){return t.createElement(e)}function C(e,t){e.innerHTML=t}function B(e,t){e.appendChild(t)}function _(e,t,n,i){e[u(\"c3R5bGU=\")][u(\"c2V0UHJvcGVydHk=\")](t,n,i||\"\")}function $(e){return!!e[u(\"Z2V0Qm91bmRpbmdDbGllbnRSZWN0\")]}function ee(e){return e[u(\"Z2V0Qm91bmRpbmdDbGllbnRSZWN0\")]()}function te(t){return e[u(\"Z2V0Q29tcHV0ZWRTdHlsZQ==\")](t)}function ne(e,t){return te(e)[u(\"Z2V0UHJvcGVydHlWYWx1ZQ==\")](t)}function ie(e,t){e&&e.parentElement&&e.parentElement.insertBefore(t,e)}function he(e){e&&e.parentElement&&e.parentElement.removeChild(e)}function le(e,t){e.className=t}function re(e,t){e.id=t}function de(e){return t.querySelector(e)}function oe(e){return t.querySelectorAll(e)}function je(t,n,i){var h=D(\"IMG\");return window.mjhee1fcFlags.im35flt&&(h.alt=\"\"),h.onload=n,h.onerror=i,e.mjhee1fcFlags.rsp&&(h.referrerPolicy=\"unsafe-url\"),h.src=t,h}function fe(t,n,i,h){var l=D(\"IMG\");return window.mjhee1fcFlags.im35flt&&(l.alt=\"\"),B(h,l),l.onload=n,l.onerror=i,e.mjhee1fcFlags.rsp&&(l.referrerPolicy=\"unsafe-url\"),l.src=t,l}function me(t,n,i){var h=D(\"IMG\");h.onload=n,h.onerror=i,e.mjhee1fcFlags.rsp&&(h.referrerPolicy=\"unsafe-url\"),h.src=t}function ae(e,t){if(e&&e.length)for(var n=0;n<e.length;n++)t(n,e[n])}function se(e){try{return e.self!==e.top}catch(e){return!0}}function pe(e,t,n,i,h){if(se(e))return void e.open(t);var l=!0;try{e.addEventListener||(l=!1)}catch(e){l=!1}if(\"_blank\"===i&&l)if(h)e.open(t,i);else{var r=A();e.open(n+\"#\"+r),v(e,\"message\",function(n){if(null!==n.data&&\"object\"==typeof n.data&&n.data.tabId===r&&\"popupBlocked\"===n.data.message){var i=n.source;setTimeout(function(){if(i&&i.closed){if(/Firefox/.test(x()))return;e.location.assign(t)}},500)}},!1)}else e.location.assign(t)}function ce(e,t){var n,i;n=i=D(\"DIV\");for(var h=t.split(\" > \"),l=0;l<h.length;l++)if(\"#\"==h[l].substr(0,1)?re(i,h[l].substr(1)):le(i,h[l].substr(1)),l<h.length-1){var r=D(\"DIV\");B(i,r),i=r}return C(i,\"&nbsp;\"),B(e,n),{p:n,b:i}}function Re(e,t,n,i,h){return function(){setTimeout(function(){Ze(e,t)&&h.push(t),he(n),i()},500)}}function ue(e,t,n){return function(i){ve(this)?je(n,xe(e,t),xe(e,t)):t()}}function xe(e,t){return function(n){ve(this)?(e.push(this),t()):t()}}function ve(e){return e.height<2}function ge(e){return 3==e.height}function Ze(e,t){return 0==t.offsetHeight&&0==t.offsetWidth&&(0!=e.offsetHeight||0!=e.offsetWidth)}function Ee(e,t){for(var n=\"\",i=0;i<e.length;i++)n+=R(e.charCodeAt(i)+t);return n}function ke(e,t,n){return e.classList.add(\"mjheeHid\"),\"\"===t?\"\":\".\"===t[0]?(e.classList.remove(t.slice(1)),e.classList.add(n),\".\"+n):(e.id=n,\"#\"+e.id.trim())}function Ge(e){for(var t=\"\",n=\"CBADEFGHIJKLMNOPQRSTUVWXYZcbadefghijklmnopqrstuvwxyz\",i=0;i<e;i++)t+=f(n,j(s()*n.length));return t}function We(t,n,i,h){var l=t.classList.item(0)?\".\"+t.classList.item(0):\"\",r=ke(t,l,Ge(6)),d=t.id.trim()?\"#\"+t.id.trim():\"\",o=ke(t,d,Ge(6)),j=\"\",f=\"\";if(e[w(\"fmdsqfEtqqf\",-12)])for(var m=e[w(\"fmdsqfEtqqf\",-12)],a=m,s=0;s<m.cssRules.length;s++)if(f=m.cssRules[s].cssText,\"\"!==l&&f.indexOf(l)>-1?j=f.replace(l,r):\"\"!==d&&f.indexOf(d)>-1&&(j=f.replace(d,o)),\"\"!==j){a.deleteRule(s--);a.insertRule(j,m.cssRules.length),j=\"\"}t.classList.remove(\"mjheeHid\"),i&&0===t.scrollHeight&&0===t.scrollWidth&&(h[i]&&h[i].hidden>3?h[i].ignore=!0:h[i]?h[i].hidden++:h[i]={hidden:1});for(var p=0;p<n.length;p++)t.parentNode===n[p]&&We(n[p],n,void 0,void 0)}function Ve(e,t){return!t[e]||!t[e].ignore}function Te(){var t,n,i,h=[],l=0,r=[];e.mjhee1fcFlags.mutationRecord=r;k(function(){t=Object.keys(e.mjheedb834.a);for(var d=0;d<t.length;d++)h[d]=t[d];i=Object.values(e.mjheedb834.w);for(var o=0;o<h.length;o++){var j=h[o];n=e.mjheedb834.a[j].firstChild?e.mjheedb834.a[j].firstChild:e.mjheedb834.a[j],0===n.scrollHeight&&0===n.scrollWidth?Ve(j,r)&&(\"IMG\"===n.nodeName&&(n=n.parentNode),We(n,i,j,r)):r[j]&&(r[j]={hidden:0})}l++},500)}function ye(n,i,h){if(e.mjheec2aAv[i]||(e.mjheec2aAv[i]=0),e.mjhee485Aw[i]||(e.mjhee485Aw[i]=0),!(e.mjheec2aAv[i]>16||e.mjheec2aAv[i]>0&&!e.mjhee7d9Ev[i])){var l=n.getBoundingClientRect();if(void 0===n.width)var r=n.offsetHeight,d=n.offsetWidth;else var r=n.height,d=n.width;var o=l.left+d,j=l.top+r,f=t.documentElement,m=0,a=0;if(e.innerWidth&&e.innerHeight?(m=e.innerHeight,a=e.innerWidth):!f||isNaN(f.clientHeight)||isNaN(f.clientWidth)||(m=f.clientHeight,a=f.clientWidth),r>0&&d>0&&0<=j&&j<=m&&0<=o&&o<=a&&\"visible\"==t.visibilityState&&++e.mjhee485Aw[i]>=20){e.mjhee485Aw[i]=0;var s=function(){e.mjhee6a8Rqr[i]=!0;var t=function(){e.mjheeae4Rqq.length>0?e.mjheeae4Rqq.shift():e.mjhee6a8Rqr[i]=!1};je(h,t,t),e.mjheec2aAv[i]++};e.mjhee6a8Rqr[i]?e.mjheeae4Rqq.push(s):e.mjheeae4Rqq.length>0?(e.mjheeae4Rqq.shift(),e.mjheeae4Rqq.push(s)):s()}e.mjheec2aAvt[i]=e.setTimeout(function(){ye(n,i,h)},50)}}function Fe(t,n,i){function h(e){for(var t=\"\",n=0;n<e.length;n++)\"\"!=t&&(t+=\",\"),t+='\"'+e[n]+'\"';return t}var l=new XMLHttpRequest;l.responseType=\"text\",l.open(\"POST\",i,!0),l.setRequestHeader(\"Content-Type\",\"text/plain\"),l.onreadystatechange=function(){\n",
              "if(4===l.readyState){if(200===l.status){JSON.parse(l.responseText).privateMode&&(e.mjheenl=!0,e.mjheedb83tc.pm=!0)}else e.mjheenl=!1;e.mjheedb83tc.pmd=!0,Q()}};var r=\"Requests\";l.send('{\"failed'+r+'\":['+h(t)+'],\"successful'+r+'\":['+h(n)+\"]}\")}function we(e,t){for(var n=0;n<t.length;n++)if(t[n]===e)return n;return-1}try{var Xe=2147483648,be=1103515245,qe=12345,Ne=function(){function e(t,n){var i,h=[],l=typeof t;if(n&&\"object\"==l)for(i in t)try{h.push(e(t[i],n-1))}catch(e){}return h.length?h:\"string\"==l?t:t+\"\\0\"}var t=\"unknown\";try{t=e(navigator,void 0).toString()}catch(e){}return function(e){for(var t=0,n=0;n<e.length;n++)t+=e.charCodeAt(n);return t}(e(window.screen,1).toString()+t)+100*(new Date).getMilliseconds()}(),Me=0,He=[],Se={};v(e,\"message\",function(t){if(null!==t.data&&\"object\"==typeof t.data)try{var n=t.data,i=document.createElement(\"a\");if(i.href=t.origin,\"null\"===t.origin||window.location.hostname!=i.hostname)return;if(\"cc\"==n.c)ae(oe(n.d+\" > *\"),function(e,t){he(t)});else if(\"cs\"==n.c)if(e[w(\"fmdsqfEtqqf\",-12)])for(var h=e[w(\"fmdsqfEtqqf\",-12)],l=n.d.replace(new RegExp(u(\"fVxzK30=\"),\"g\"),function(e){return\"}}\"}),r=l.replace(new RegExp(u(\"fVtefV0=\"),\"g\"),function(e){return e[0]+\"rll123rnd\"+e[1]}).split(\"rll123rnd\"),d=0;d<r.length;d++)h[w(\"uzeqdfDgxq\",-12)](r[d],h.cssRules.length);else{var h=D(\"style\");h.type=\"text/css\",C(h,n.d),B(Oe,h)}else if(\"am\"==n.c)e.mjheedb834.a[n.d.i]?U(n.d.u):e.mjheea59Am[n.d.i]=n.d.u;else if(\"pc\"==n.c)e.mjhee39cPc[n.d]=!0;else if(\"ev\"==n.c)e.mjhee7d9Ev[n.d]=!0;else if(\"oc\"==n.c)e.mjhee2c7Oc.push(n.d);else if(\"ac\"==n.c){var o=de(n.d.slc),h=D(\"div\");h.innerHTML=n.d.cnt,ae(h.childNodes,function(e,t){o.appendChild(t)})}else if(\"js\"==n.c){var h=D(\"script\");B(Ye,h),C(h,n.d)}else if(\"if\"==n.c){var h=D(\"iframe\");h.src=n.d,h.style.display=\"none\",B(Ye,h)}else if(\"img\"==n.c)var j=function(){this.style.display=\"none\"},d=fe(n.d,j,j,Ye);else if(\"ss\"==n.c){var f={};e.mjheedb834.a[n.d]&&f[n.d]&&f[n.d](e.mjheedb834.a[n.d])}}catch(e){}},!1),e.SVJVDdd=J,e.mjhee1fcFlags={},e.mjhee1fcFlags.welect={};var Ue=!0;if(e.mjheee5dRnd=e.mjheee5dRnd||z(),!function(){return window.mjhee1fcFlags.crt=!0,e.mjhee1fcFlags.nwf6clst=!0,!0}())return;var Oe=de(\"head\"),Ye=null;if(e.mjheedb83tc={},e.mjheedb83tc.pm=!1,e.mjheedb83tc.pmd=!1,/Firefox/.test(x()))if(-1!=x().indexOf(\"Safari\"));else if(e.mjhee1fcFlags.nwf6clst){if(-1!=x().indexOf(\"Firefox\"))try{var Je=e.indexedDB.open(\"test\");Je.onerror=function(t){t.preventDefault(),e.mjheenl=!0,e.mjheedb83tc.pmd=!0,e.mjheedb83tc.pm=!0,Q()},Je.onsuccess=function(e){e.preventDefault()}}catch(e){}var Qe=!1;Object.keys(e).forEach(function(t){e.hasOwnProperty(t)&&t.match(/^mjhee.{3}NLRun$/g)&&(Qe=e[t])}),Qe?(e.mjheenl=!0,e.mjheedb83tc.pmd=!0,Q()):(e.mjhee867NLRun=!0,function(){function t(e,t){if(t.target){var n=t.target.src||\"\";if(\"\"!==n&&-1==n.indexOf(\"chrome-extension://\")){var i=new URL(n).hostname||\"\";\"\"!==i&&we(i,e)<0&&e.push(i)}}}var n=new Array,i=new Array,h=t.bind(null,n),l=t.bind(null,i);v(document,\"error\",h,!0),v(document,\"load\",l,!0),e.SVJVDnwld={error:{events:n,listener:h},load:{events:i,listener:l}},function(t){document.createElement=function(){var n=t.apply(this,arguments);return v(n,\"error\",e.SVJVDnwld.error.listener,!0),v(n,\"load\",e.SVJVDnwld.load.listener,!0),n}}(document.createElement)}(),function(){function t(){!function(){for(var t=0;t<e.SVJVDnwld.load.events.length;t++){var n=we(e.SVJVDnwld.load.events[t],e.SVJVDnwld.error.events);n>-1&&e.SVJVDnwld.error.events.splice(n,1)}}(),e.SVJVDnwld.error.events.length>0&&e.SVJVDnwld.load.events.length>0?Fe(e.SVJVDnwld.error.events,e.SVJVDnwld.load.events,Ee(\"22dwrqdwr1gh2wpfrp2YlhHqqUOWI4Vg;jzK9[[}S}w8unqm:ufP{3\\\\YGyuNq7I2\"+e.mjheee5dRnd+\"WNZpqt}pMog<zesmtoI9K5OePsE[Hk3YRvwRrVH4wT};WWJ1jli\",-3)):(e.mjheedb83tc.pmd=!0,Q())}var n=0,i=0,h=0,l=0,r=0,d=0,o=k(function(){h=e.SVJVDnwld.error.events.size,l=e.SVJVDnwld.load.events.size,n=h+l,r<=10?(n-i==0&&r>0&&d++,d>4&&(E(o),t(),d=0)):(E(o),t()),i=n,r++},500)}())}else e.mjheenl=!0,e.mjheedb83tc.pmd=!0,Q();else e.mjheedb83tc.pmd=!0,Q();try{e.addEventListener?v(e,u(\"YWRuZGRuZC5pbml0\"),L):e.attachEvent&&e.attachEvent(u(\"YWRuZGRuZC5pbml0\"),L),\"complete\"===t.readyState?L():(-1==x().search(\"Firefox\")&&(t.addEventListener?v(t,u(\"RE9NQ29udGVudExvYWRlZA==\"),L):t.attachEvent&&t.attachEvent(\"onreadystatechange\",function(){\"complete\"===t.readyState&&L()})),v(e,\"load\",L))}catch(e){L()}}catch(e){}}(window,document); /* 99339 */\n",
              "</script>\n",
              "<style>\n",
              "        @font-face {\n",
              "            font-family: 'OSL';\n",
              "            font-style: normal;\n",
              "            font-weight: normal;\n",
              "            src: local('Open Sans Cond Light'), local('OpenSans-CondensedLight'),\n",
              "                url(\"https://tmsi.akamaized.net/fonts/OpenSans-CondensedLight300.woff2\") format('woff2'),\n",
              "                url(\"https://tmsi.akamaized.net/fonts/OpenSans-CondensedLight.woff\") format('woff');\n",
              "            font-display: swap;\n",
              "        }\n",
              "\n",
              "        @font-face {\n",
              "            font-family: 'OSB';\n",
              "            font-style: normal;\n",
              "            font-weight: normal;\n",
              "            src: local('Open Sans Cond Light'), local('OpenSans-CondensedLight'),\n",
              "                url(\"https://tmsi.akamaized.net/fonts/OpenSans-CondensedLight300.woff2\") format('woff2'),\n",
              "                url(\"https://tmsi.akamaized.net/fonts/OpenSans-CondensedLight.woff\") format('woff');\n",
              "            font-display: swap;\n",
              "        }\n",
              "\n",
              "        @font-face {\n",
              "            font-family: 'Source Sans Pro';\n",
              "            font-style: normal;\n",
              "            font-weight: normal;\n",
              "            src: local('Source Sans Pro'), local('SourceSansPro-Regular'),\n",
              "                url(\"https://tmsi.akamaized.net/fonts/SourceSansPro-Regular400.woff2\") format('woff2'),\n",
              "                url(\"https://tmsi.akamaized.net/fonts/SourceSansPro-Regular.woff\") format('woff');\n",
              "            font-display: swap;\n",
              "        }\n",
              "\n",
              "        @font-face {\n",
              "            font-family: 'Source Sans Pro';\n",
              "            font-style: normal;\n",
              "            font-weight: bold;\n",
              "            src: local('Source Sans Pro Bold'), local('SourceSansPro-Bold'),\n",
              "                url(\"https://tmsi.akamaized.net/fonts/SourceSansPro-Bold700.woff2\") format('woff2'),\n",
              "                url(\"https://tmsi.akamaized.net/fonts/SourceSansPro-Bold.woff\") format('woff');\n",
              "            font-display: swap;\n",
              "        }\n",
              "\n",
              "        @font-face {\n",
              "            font-family: 'Oswald';\n",
              "            font-style: normal;\n",
              "            font-weight: lighter;\n",
              "            src:\n",
              "                url(\"https://tmsi.akamaized.net/fonts/Oswald-Light200.woff2\") format('woff2'),\n",
              "                url(\"https://tmsi.akamaized.net/fonts/oswald_light.woff\") format('woff');\n",
              "            font-display: swap;\n",
              "        }\n",
              "\n",
              "        @font-face {\n",
              "            font-family: 'Oswald';\n",
              "            font-style: normal;\n",
              "            font-weight: normal;\n",
              "            src:\n",
              "                url(\"https://tmsi.akamaized.net/fonts/Oswald-Regular400.woff2\") format('woff2'),\n",
              "                url(\"https://tmsi.akamaized.net/fonts/oswald_regular.woff\") format('woff');\n",
              "            font-display: swap;\n",
              "        }\n",
              "\n",
              "        @font-face {\n",
              "            font-family: 'Oswald';\n",
              "            font-style: normal;\n",
              "            font-weight: bold;\n",
              "            src:\n",
              "                url(\"https://tmsi.akamaized.net/fonts/Oswald-Bold700.woff2\") format('woff2'),\n",
              "                url(\"https://tmsi.akamaized.net/fonts/oswald_bold.woff\") format('woff');\n",
              "            font-display: swap;\n",
              "        }\n",
              "\n",
              "        @font-face {\n",
              "            font-family: \"socicon\";\n",
              "            src: url(\"https://tmsi.akamaized.net/fonts/socicon.eot\");\n",
              "            src: url(\"https://tmsi.akamaized.net/fonts/socicon.eot?#iefix\") format(\"embedded-opentype\"),\n",
              "                url(\"https://tmsi.akamaized.net/fonts/socicon.woff\") format(\"woff\"),\n",
              "                url(\"https://tmsi.akamaized.net/fonts/socicon.ttf\") format(\"truetype\"),\n",
              "                url(\"https://tmsi.akamaized.net/fonts/socicon.svg#socicon\") format(\"svg\");\n",
              "            font-weight: normal;\n",
              "            font-style: normal;\n",
              "            font-display: swap;\n",
              "        }\n",
              "    </style>\n",
              "</link></link></link></meta></meta></head>"
            ]
          },
          "metadata": {
            "tags": []
          },
          "execution_count": 54
        }
      ]
    },
    {
      "cell_type": "markdown",
      "metadata": {
        "id": "LS_bkzgt-v2L"
      },
      "source": [
        "### Deep Dive into the HTML code"
      ]
    },
    {
      "cell_type": "markdown",
      "metadata": {
        "id": "ianTQ5_2phHY"
      },
      "source": [
        "__Q:__ We need to be able to get a team's link. What do we need to do?\n",
        "\n",
        "[Link to Premier League](https://www.transfermarkt.com/premier-league/startseite/wettbewerb/GB1)"
      ]
    },
    {
      "cell_type": "code",
      "metadata": {
        "colab": {
          "base_uri": "https://localhost:8080/"
        },
        "id": "PJWSCb-bLeOc",
        "outputId": "5f2d5798-99b8-4c95-c103-eb1d5a808d70"
      },
      "source": [
        "len(soup_obj.find_all('a'))"
      ],
      "execution_count": null,
      "outputs": [
        {
          "output_type": "execute_result",
          "data": {
            "text/plain": [
              "603"
            ]
          },
          "metadata": {
            "tags": []
          },
          "execution_count": 55
        }
      ]
    },
    {
      "cell_type": "code",
      "metadata": {
        "id": "sdpLHdY7Q0YZ"
      },
      "source": [
        "liverpool = soup_obj.find_all('a', id = '31')"
      ],
      "execution_count": null,
      "outputs": []
    },
    {
      "cell_type": "code",
      "metadata": {
        "colab": {
          "base_uri": "https://localhost:8080/"
        },
        "id": "zMYyldl1RBAX",
        "outputId": "e8eeb193-fb81-4c1f-9155-fef63d579e59"
      },
      "source": [
        "liverpool"
      ],
      "execution_count": null,
      "outputs": [
        {
          "output_type": "execute_result",
          "data": {
            "text/plain": [
              "[<a class=\"vereinprofil_tooltip\" href=\"/fc-liverpool/startseite/verein/31/saison_id/2020\" id=\"31\">Liverpool FC</a>,\n",
              " <a class=\"vereinprofil_tooltip\" href=\"/fc-liverpool/startseite/verein/31/saison_id/2020\" id=\"31\">Liverpool</a>,\n",
              " <a class=\"vereinprofil_tooltip\" href=\"/fc-liverpool/spielplan/verein/31/saison_id/2020\" id=\"31\"><img alt=\"Liverpool FC\" class=\"\" src=\"https://tmssl.akamaized.net/images/wappen/homepage/31.png?lm=1456567819\" title=\" \"/></a>,\n",
              " <a class=\"vereinprofil_tooltip\" href=\"/fc-liverpool/spielplan/verein/31/saison_id/2020\" id=\"31\">Liverpool</a>,\n",
              " <a class=\"vereinprofil_tooltip\" href=\"/fc-liverpool/spielplan/verein/31/saison_id/2020\" id=\"31\">Liverpool</a>,\n",
              " <a class=\"vereinprofil_tooltip\" href=\"/fc-liverpool/spielplan/verein/31/saison_id/2020\" id=\"31\"><img alt=\"Liverpool FC\" class=\"\" src=\"https://tmssl.akamaized.net/images/wappen/homepage/31.png?lm=1456567819\" title=\" \"/></a>,\n",
              " <a class=\"vereinprofil_tooltip\" href=\"/fc-liverpool/spielplan/verein/31/saison_id/2020\" id=\"31\"><img alt=\"Liverpool FC\" class=\"\" src=\"https://tmssl.akamaized.net/images/wappen/homepage/31.png?lm=1456567819\" title=\" \"/></a>,\n",
              " <a class=\"vereinprofil_tooltip\" href=\"/fc-liverpool/spielplan/verein/31/saison_id/2020\" id=\"31\">Liverpool</a>,\n",
              " <a class=\"vereinprofil_tooltip\" href=\"/fc-liverpool/spielplan/verein/31\" id=\"31\"><img alt=\"Liverpool FC\" class=\"\" src=\"https://tmssl.akamaized.net/images/wappen/homepage/31.png?lm=1456567819\" title=\" \"/></a>,\n",
              " <a class=\"vereinprofil_tooltip\" href=\"/fc-liverpool/spielplan/verein/31\" id=\"31\">Liverpool</a>,\n",
              " <a class=\"vereinprofil_tooltip\" href=\"/fc-liverpool/startseite/verein/31/saison_id/2020\" id=\"31\"><img alt=\"Liverpool FC\" class=\"\" src=\"https://tmssl.akamaized.net/images/wappen/verysmall/31.png?lm=1456567819\" title=\" \"/></a>,\n",
              " <a class=\"vereinprofil_tooltip\" href=\"/fc-liverpool/startseite/verein/31/saison_id/2020\" id=\"31\"><img alt=\"Liverpool FC\" class=\"\" src=\"https://tmssl.akamaized.net/images/wappen/verysmall/31.png?lm=1456567819\" title=\" \"/></a>,\n",
              " <a class=\"vereinprofil_tooltip\" href=\"/fc-liverpool/startseite/verein/31/saison_id/2020\" id=\"31\"><img alt=\"Liverpool FC\" class=\"\" src=\"https://tmssl.akamaized.net/images/wappen/verysmall/31.png?lm=1456567819\" title=\" \"/></a>,\n",
              " <a class=\"vereinprofil_tooltip\" href=\"/fc-liverpool/spielplan/verein/31/saison_id/2020\" id=\"31\"><img alt=\"Liverpool FC\" class=\"tiny_wappen\" src=\"https://tmssl.akamaized.net/images/wappen/tiny/31.png?lm=1456567819\" title=\" \"/></a>,\n",
              " <a class=\"vereinprofil_tooltip\" href=\"/fc-liverpool/spielplan/verein/31/saison_id/2020\" id=\"31\">Liverpool</a>]"
            ]
          },
          "metadata": {
            "tags": []
          },
          "execution_count": 57
        }
      ]
    },
    {
      "cell_type": "code",
      "metadata": {
        "colab": {
          "base_uri": "https://localhost:8080/"
        },
        "id": "N_6PcnSzQ7A9",
        "outputId": "39232885-c932-4155-815e-b7e5406aca59"
      },
      "source": [
        "len(liverpool)"
      ],
      "execution_count": null,
      "outputs": [
        {
          "output_type": "execute_result",
          "data": {
            "text/plain": [
              "15"
            ]
          },
          "metadata": {
            "tags": []
          },
          "execution_count": 58
        }
      ]
    },
    {
      "cell_type": "code",
      "metadata": {
        "id": "uDHipqIULdfs"
      },
      "source": [
        "table = soup_obj.find_all('div', id = 'yw1')"
      ],
      "execution_count": null,
      "outputs": []
    },
    {
      "cell_type": "code",
      "metadata": {
        "colab": {
          "base_uri": "https://localhost:8080/"
        },
        "id": "5VT7mwP1RL0I",
        "outputId": "a42bef1b-ee37-41f2-f3d3-e33503cc9a49"
      },
      "source": [
        "len(table)"
      ],
      "execution_count": null,
      "outputs": [
        {
          "output_type": "execute_result",
          "data": {
            "text/plain": [
              "1"
            ]
          },
          "metadata": {
            "tags": []
          },
          "execution_count": 60
        }
      ]
    },
    {
      "cell_type": "code",
      "metadata": {
        "colab": {
          "base_uri": "https://localhost:8080/"
        },
        "id": "2d96EAYiOINp",
        "outputId": "778a3ccd-48ab-4356-b8ca-76bddac5977d"
      },
      "source": [
        "type(table)"
      ],
      "execution_count": null,
      "outputs": [
        {
          "output_type": "execute_result",
          "data": {
            "text/plain": [
              "bs4.element.ResultSet"
            ]
          },
          "metadata": {
            "tags": []
          },
          "execution_count": 61
        }
      ]
    },
    {
      "cell_type": "code",
      "metadata": {
        "id": "foABffhpOhV8"
      },
      "source": [
        "tbody = table[0].find('table', class_ = 'items').tbody"
      ],
      "execution_count": null,
      "outputs": []
    },
    {
      "cell_type": "code",
      "metadata": {
        "colab": {
          "base_uri": "https://localhost:8080/"
        },
        "id": "UpvMdGuoSy9G",
        "outputId": "5c70db79-de59-4fa7-96a2-cb9f3cabdfa8"
      },
      "source": [
        "tbody.find_all('td', class_ = \"hauptlink no-border-links hide-for-small hide-for-pad\")"
      ],
      "execution_count": null,
      "outputs": [
        {
          "output_type": "execute_result",
          "data": {
            "text/plain": [
              "[<td class=\"hauptlink no-border-links hide-for-small hide-for-pad\"><a class=\"vereinprofil_tooltip\" href=\"/manchester-city/startseite/verein/281/saison_id/2020\" id=\"281\">Manchester City</a> </td>,\n",
              " <td class=\"hauptlink no-border-links hide-for-small hide-for-pad\"><a class=\"vereinprofil_tooltip\" href=\"/fc-liverpool/startseite/verein/31/saison_id/2020\" id=\"31\">Liverpool FC</a> <a href=\"#\"><img alt=\"English Champion 19/20\" class=\"tabelle-erfolg\" src=\"https://tmssl.akamaized.net/images/erfolge/mini/12.png?lm=1520606997\" title=\"English Champion 19/20\"/></a></td>,\n",
              " <td class=\"hauptlink no-border-links hide-for-small hide-for-pad\"><a class=\"vereinprofil_tooltip\" href=\"/fc-chelsea/startseite/verein/631/saison_id/2020\" id=\"631\">Chelsea FC</a> </td>,\n",
              " <td class=\"hauptlink no-border-links hide-for-small hide-for-pad\"><a class=\"vereinprofil_tooltip\" href=\"/manchester-united/startseite/verein/985/saison_id/2020\" id=\"985\">Manchester United</a> </td>,\n",
              " <td class=\"hauptlink no-border-links hide-for-small hide-for-pad\"><a class=\"vereinprofil_tooltip\" href=\"/tottenham-hotspur/startseite/verein/148/saison_id/2020\" id=\"148\">Tottenham Hotspur</a> </td>,\n",
              " <td class=\"hauptlink no-border-links hide-for-small hide-for-pad\"><a class=\"vereinprofil_tooltip\" href=\"/fc-arsenal/startseite/verein/11/saison_id/2020\" id=\"11\">Arsenal FC</a> <a href=\"#\"><img alt=\"FA Cup Winner 19/20\" class=\"tabelle-erfolg\" src=\"https://tmssl.akamaized.net/images/erfolge/mini/29.png?lm=1520606999\" title=\"FA Cup Winner 19/20\"/></a></td>,\n",
              " <td class=\"hauptlink no-border-links hide-for-small hide-for-pad\"><a class=\"vereinprofil_tooltip\" href=\"/leicester-city/startseite/verein/1003/saison_id/2020\" id=\"1003\">Leicester City</a> </td>,\n",
              " <td class=\"hauptlink no-border-links hide-for-small hide-for-pad\"><a class=\"vereinprofil_tooltip\" href=\"/fc-everton/startseite/verein/29/saison_id/2020\" id=\"29\">Everton FC</a> </td>,\n",
              " <td class=\"hauptlink no-border-links hide-for-small hide-for-pad\"><a class=\"vereinprofil_tooltip\" href=\"/wolverhampton-wanderers/startseite/verein/543/saison_id/2020\" id=\"543\">Wolverhampton Wanderers</a> </td>,\n",
              " <td class=\"hauptlink no-border-links hide-for-small hide-for-pad\"><a class=\"vereinprofil_tooltip\" href=\"/aston-villa/startseite/verein/405/saison_id/2020\" id=\"405\">Aston Villa</a> </td>,\n",
              " <td class=\"hauptlink no-border-links hide-for-small hide-for-pad\"><a class=\"vereinprofil_tooltip\" href=\"/west-ham-united/startseite/verein/379/saison_id/2020\" id=\"379\">West Ham United</a> </td>,\n",
              " <td class=\"hauptlink no-border-links hide-for-small hide-for-pad\"><a class=\"vereinprofil_tooltip\" href=\"/brighton-amp-hove-albion/startseite/verein/1237/saison_id/2020\" id=\"1237\">Brighton &amp; Hove Albion</a> </td>,\n",
              " <td class=\"hauptlink no-border-links hide-for-small hide-for-pad\"><a class=\"vereinprofil_tooltip\" href=\"/newcastle-united/startseite/verein/762/saison_id/2020\" id=\"762\">Newcastle United</a> </td>,\n",
              " <td class=\"hauptlink no-border-links hide-for-small hide-for-pad\"><a class=\"vereinprofil_tooltip\" href=\"/fc-southampton/startseite/verein/180/saison_id/2020\" id=\"180\">Southampton FC</a> </td>,\n",
              " <td class=\"hauptlink no-border-links hide-for-small hide-for-pad\"><a class=\"vereinprofil_tooltip\" href=\"/fc-fulham/startseite/verein/931/saison_id/2020\" id=\"931\">Fulham FC</a> <span class=\"icons_sprite icon-aufsteiger\" title=\"Promoted to 1st league 19/20\"> </span></td>,\n",
              " <td class=\"hauptlink no-border-links hide-for-small hide-for-pad\"><a class=\"vereinprofil_tooltip\" href=\"/leeds-united/startseite/verein/399/saison_id/2020\" id=\"399\">Leeds United</a> <span class=\"icons_sprite icon-aufsteiger\" title=\"Promoted to 1st league 19/20\"> </span></td>,\n",
              " <td class=\"hauptlink no-border-links hide-for-small hide-for-pad\"><a class=\"vereinprofil_tooltip\" href=\"/crystal-palace/startseite/verein/873/saison_id/2020\" id=\"873\">Crystal Palace</a> </td>,\n",
              " <td class=\"hauptlink no-border-links hide-for-small hide-for-pad\"><a class=\"vereinprofil_tooltip\" href=\"/sheffield-united/startseite/verein/350/saison_id/2020\" id=\"350\">Sheffield United</a> </td>,\n",
              " <td class=\"hauptlink no-border-links hide-for-small hide-for-pad\"><a class=\"vereinprofil_tooltip\" href=\"/fc-burnley/startseite/verein/1132/saison_id/2020\" id=\"1132\">Burnley FC</a> </td>,\n",
              " <td class=\"hauptlink no-border-links hide-for-small hide-for-pad\"><a class=\"vereinprofil_tooltip\" href=\"/west-bromwich-albion/startseite/verein/984/saison_id/2020\" id=\"984\">West Bromwich Albion</a> <span class=\"icons_sprite icon-aufsteiger\" title=\"Promoted to 1st league 19/20\"> </span></td>]"
            ]
          },
          "metadata": {
            "tags": []
          },
          "execution_count": 63
        }
      ]
    },
    {
      "cell_type": "code",
      "metadata": {
        "id": "AE-qSmforUud",
        "colab": {
          "base_uri": "https://localhost:8080/"
        },
        "outputId": "735be9c6-153e-48dd-8f82-28df17b4292e"
      },
      "source": [
        "## discuss how can we progress in html tree to access links\n",
        "\n",
        "url = 'https://www.transfermarkt.com/premier-league/startseite/wettbewerb/GB1'\n",
        "\n",
        "headers = {'User-Agent': \n",
        "        'Mozilla/5.0 (X11; Linux x86_64) AppleWebKit/537.36 (KHTML, like Gecko) Chrome/47.0.2526.106 Safari/537.36'}\n",
        "\n",
        "resp = requests.get(url, headers = headers, timeout = 5)\n",
        "\n",
        "print(resp.status_code)\n",
        "\n",
        "soup_obj = BeautifulSoup(resp.content, 'html.parser')"
      ],
      "execution_count": null,
      "outputs": [
        {
          "output_type": "stream",
          "text": [
            "200\n"
          ],
          "name": "stdout"
        }
      ]
    },
    {
      "cell_type": "code",
      "metadata": {
        "colab": {
          "base_uri": "https://localhost:8080/"
        },
        "id": "ZYqI3IN7Tca9",
        "outputId": "b97c9dbe-9b83-4cf3-c1b7-ad39f8760648"
      },
      "source": [
        "## We realized that the table we are looking for has\n",
        "## 'div' tag and id = 'yw1'\n",
        "## And we experimented with this and realized that there is only one such table\n",
        "\n",
        "table = soup_obj.find('div', {'id': 'yw1'})\n",
        "\n",
        "table_items = table.find('table', class_ = 'items')\n",
        "\n",
        "tbody = table_items.findChild('tbody')\n",
        "\n",
        "cells = tbody.find_all('td', class_ = \"hauptlink no-border-links hide-for-small hide-for-pad\")\n",
        "\n",
        "for cell in cells:\n",
        "  print(cell.text)\n",
        "  print(cell.a.get('href'))"
      ],
      "execution_count": null,
      "outputs": [
        {
          "output_type": "stream",
          "text": [
            "Manchester City \n",
            "/manchester-city/startseite/verein/281/saison_id/2020\n",
            "Liverpool FC \n",
            "/fc-liverpool/startseite/verein/31/saison_id/2020\n",
            "Chelsea FC \n",
            "/fc-chelsea/startseite/verein/631/saison_id/2020\n",
            "Manchester United \n",
            "/manchester-united/startseite/verein/985/saison_id/2020\n",
            "Tottenham Hotspur \n",
            "/tottenham-hotspur/startseite/verein/148/saison_id/2020\n",
            "Arsenal FC \n",
            "/fc-arsenal/startseite/verein/11/saison_id/2020\n",
            "Leicester City \n",
            "/leicester-city/startseite/verein/1003/saison_id/2020\n",
            "Everton FC \n",
            "/fc-everton/startseite/verein/29/saison_id/2020\n",
            "Wolverhampton Wanderers \n",
            "/wolverhampton-wanderers/startseite/verein/543/saison_id/2020\n",
            "Aston Villa \n",
            "/aston-villa/startseite/verein/405/saison_id/2020\n",
            "West Ham United \n",
            "/west-ham-united/startseite/verein/379/saison_id/2020\n",
            "Brighton & Hove Albion \n",
            "/brighton-amp-hove-albion/startseite/verein/1237/saison_id/2020\n",
            "Newcastle United \n",
            "/newcastle-united/startseite/verein/762/saison_id/2020\n",
            "Southampton FC \n",
            "/fc-southampton/startseite/verein/180/saison_id/2020\n",
            "Fulham FC  \n",
            "/fc-fulham/startseite/verein/931/saison_id/2020\n",
            "Leeds United  \n",
            "/leeds-united/startseite/verein/399/saison_id/2020\n",
            "Crystal Palace \n",
            "/crystal-palace/startseite/verein/873/saison_id/2020\n",
            "Sheffield United \n",
            "/sheffield-united/startseite/verein/350/saison_id/2020\n",
            "Burnley FC \n",
            "/fc-burnley/startseite/verein/1132/saison_id/2020\n",
            "West Bromwich Albion  \n",
            "/west-bromwich-albion/startseite/verein/984/saison_id/2020\n"
          ],
          "name": "stdout"
        }
      ]
    },
    {
      "cell_type": "code",
      "metadata": {
        "id": "AqdbGk-Nr5so"
      },
      "source": [
        "## Note that find_all will return a list.\n",
        "## if there is no match then the list will be empty list\n",
        "## Find table with class = 'items' save it as table_items\n"
      ],
      "execution_count": null,
      "outputs": []
    },
    {
      "cell_type": "code",
      "metadata": {
        "id": "pk5zP23qslIN"
      },
      "source": [
        "## check table with class_ items\n"
      ],
      "execution_count": null,
      "outputs": []
    },
    {
      "cell_type": "code",
      "metadata": {
        "id": "S6Vgc08ss01F"
      },
      "source": [
        "## Here we could use also the findChild method to table items\n",
        "## Note that there is a 'tbody' as the child for table_items"
      ],
      "execution_count": null,
      "outputs": []
    },
    {
      "cell_type": "code",
      "metadata": {
        "id": "b3eyqu1nubTB"
      },
      "source": [
        "## In addition to find_all or find method we can use fingChild and/or findChildren methods\n",
        "\n",
        "## also we can use dictionaries to pass more than one descriptors like \n",
        "\n"
      ],
      "execution_count": null,
      "outputs": []
    },
    {
      "cell_type": "code",
      "metadata": {
        "id": "1wNxgfy8ySa2"
      },
      "source": [
        "## in this cell we will see that we can easily get a tag as an attribute \n",
        "## also we can access to the text in this tag with .text method\n",
        "\n"
      ],
      "execution_count": null,
      "outputs": []
    },
    {
      "cell_type": "code",
      "metadata": {
        "id": "v6Xt_6X1tnW5"
      },
      "source": [
        "## In this cell we will see that we can easily get the links with .get method\n"
      ],
      "execution_count": null,
      "outputs": []
    },
    {
      "cell_type": "markdown",
      "metadata": {
        "id": "PMRYo1bXv6JK"
      },
      "source": [
        "__Your Turn__\n",
        "\n",
        "1. Create a function called `soup_maker`. This function should take a string input, named `url` and produce soup object of the page. \n",
        "\n",
        "2. Create a function `team_link_generator` which should take the English Premier League url and return the team names and their corresponding url's as a dictionary"
      ]
    },
    {
      "cell_type": "code",
      "metadata": {
        "id": "I2pBtYEmv53S"
      },
      "source": [
        "def soup_maker(url):\n",
        "  ## your code is here\n",
        "  headers = {'User-Agent': \n",
        "        'Mozilla/5.0 (X11; Linux x86_64) AppleWebKit/537.36 (KHTML, like Gecko) Chrome/47.0.2526.106 Safari/537.36'}\n",
        "\n",
        "  resp = requests.get(url, headers = headers, timeout = 5)\n",
        "\n",
        "  print(resp.status_code)\n",
        "\n",
        "  soup_obj = BeautifulSoup(resp.content, 'html.parser')\n",
        "\n",
        "  return soup_obj\n",
        "\n",
        "def team_link_generator(league_url):\n",
        "  ## your code is here\n",
        "  soup_obj = soup_maker(league_url)\n",
        "  table = soup_obj.find('div', {'id': 'yw1'})\n",
        "\n",
        "  table_items = table.find('table', class_ = 'items')\n",
        "\n",
        "  tbody = table_items.findChild('tbody')\n",
        "\n",
        "  cells = tbody.find_all('td', class_ = \"hauptlink no-border-links hide-for-small hide-for-pad\")\n",
        "  base_url = 'www.transfermarkt.com'\n",
        "  team_links = {}\n",
        "  for cell in cells:\n",
        "    team_name = cell.text\n",
        "    team_url = base_url + cell.a.get('href')\n",
        "    team_links[team_name] = team_url\n",
        "  return team_links"
      ],
      "execution_count": null,
      "outputs": []
    },
    {
      "cell_type": "code",
      "metadata": {
        "colab": {
          "base_uri": "https://localhost:8080/"
        },
        "id": "D1YgNxfhc31O",
        "outputId": "a2993e33-fa73-46b2-a002-c23227144343"
      },
      "source": [
        "team_links = team_link_generator(league_url= \"https://www.transfermarkt.com/premier-league/startseite/wettbewerb/GB1\")"
      ],
      "execution_count": null,
      "outputs": [
        {
          "output_type": "stream",
          "text": [
            "200\n"
          ],
          "name": "stdout"
        }
      ]
    },
    {
      "cell_type": "code",
      "metadata": {
        "colab": {
          "base_uri": "https://localhost:8080/",
          "height": 35
        },
        "id": "bVjddNTfhiP2",
        "outputId": "a2d16193-f28e-4333-8981-93123bab4c5f"
      },
      "source": [
        "team_links['Liverpool FC ']"
      ],
      "execution_count": null,
      "outputs": [
        {
          "output_type": "execute_result",
          "data": {
            "application/vnd.google.colaboratory.intrinsic+json": {
              "type": "string"
            },
            "text/plain": [
              "'www.transfermarkt.com/fc-liverpool/startseite/verein/31/saison_id/2020'"
            ]
          },
          "metadata": {
            "tags": []
          },
          "execution_count": 74
        }
      ]
    },
    {
      "cell_type": "code",
      "metadata": {
        "id": "0OZ9o5f55sn5",
        "colab": {
          "base_uri": "https://localhost:8080/"
        },
        "outputId": "7fa97248-f68f-465e-a01e-c3a9a9a3efe5"
      },
      "source": [
        "## get team_links\n",
        "\n",
        "team_link_generator(league_url= \"https://www.transfermarkt.com/super-lig/startseite/wettbewerb/TR1\")"
      ],
      "execution_count": null,
      "outputs": [
        {
          "output_type": "stream",
          "text": [
            "200\n"
          ],
          "name": "stdout"
        },
        {
          "output_type": "execute_result",
          "data": {
            "text/plain": [
              "{'Alanyaspor ': 'www.transfermarkt.com/alanyaspor/startseite/verein/11282/saison_id/2020',\n",
              " 'Antalyaspor ': 'www.transfermarkt.com/antalyaspor/startseite/verein/589/saison_id/2020',\n",
              " 'Besiktas JK ': 'www.transfermarkt.com/besiktas-istanbul/startseite/verein/114/saison_id/2020',\n",
              " 'Büyüksehir Belediye Erzurumspor \\xa0': 'www.transfermarkt.com/buyuksehir-belediye-erzurumspor/startseite/verein/39722/saison_id/2020',\n",
              " 'Caykur Rizespor ': 'www.transfermarkt.com/caykur-rizespor/startseite/verein/126/saison_id/2020',\n",
              " 'Denizlispor ': 'www.transfermarkt.com/denizlispor/startseite/verein/833/saison_id/2020',\n",
              " 'Fatih Karagümrük \\xa0': 'www.transfermarkt.com/fatih-karagumruk/startseite/verein/6646/saison_id/2020',\n",
              " 'Fenerbahce SK ': 'www.transfermarkt.com/fenerbahce-istanbul/startseite/verein/36/saison_id/2020',\n",
              " 'Galatasaray SK ': 'www.transfermarkt.com/galatasaray-istanbul/startseite/verein/141/saison_id/2020',\n",
              " 'Gaziantep FK ': 'www.transfermarkt.com/gaziantep-fk/startseite/verein/2832/saison_id/2020',\n",
              " 'Genclerbirligi Ankara ': 'www.transfermarkt.com/genclerbirligi-ankara/startseite/verein/820/saison_id/2020',\n",
              " 'Göztepe ': 'www.transfermarkt.com/goztepe/startseite/verein/1467/saison_id/2020',\n",
              " 'Hatayspor \\xa0': 'www.transfermarkt.com/hatayspor/startseite/verein/7775/saison_id/2020',\n",
              " 'Istanbul Basaksehir FK ': 'www.transfermarkt.com/istanbul-basaksehir-fk/startseite/verein/6890/saison_id/2020',\n",
              " 'Kasimpasa ': 'www.transfermarkt.com/kasimpasa/startseite/verein/10484/saison_id/2020',\n",
              " 'Kayserispor ': 'www.transfermarkt.com/kayserispor/startseite/verein/3205/saison_id/2020',\n",
              " 'Konyaspor ': 'www.transfermarkt.com/konyaspor/startseite/verein/2293/saison_id/2020',\n",
              " 'MKE Ankaragücü ': 'www.transfermarkt.com/mke-ankaragucu/startseite/verein/868/saison_id/2020',\n",
              " 'Sivasspor ': 'www.transfermarkt.com/sivasspor/startseite/verein/2381/saison_id/2020',\n",
              " 'Trabzonspor ': 'www.transfermarkt.com/trabzonspor/startseite/verein/449/saison_id/2020',\n",
              " 'Yeni Malatyaspor ': 'www.transfermarkt.com/yeni-malatyaspor/startseite/verein/19789/saison_id/2020'}"
            ]
          },
          "metadata": {
            "tags": []
          },
          "execution_count": 75
        }
      ]
    },
    {
      "cell_type": "markdown",
      "metadata": {
        "id": "uOt_Eme11Jhb"
      },
      "source": [
        "## Getting a Individual Players' Links"
      ]
    },
    {
      "cell_type": "markdown",
      "metadata": {
        "id": "do1_BLQG7Uvt"
      },
      "source": [
        "Above we were able to get each Premier League team's link from transfermarkt.com. Now, let's see a team's page: [Liverpool](https://www.transfermarkt.com/fc-liverpool/startseite/verein/31/saison_id/2020)\n",
        "\n",
        "- Recall that ultimately we would like to be able to access player's transfer records.\n",
        "\n",
        "- So if we want to get all the Premier League player's data first we should be able to get their links. In this section we will see how to achieve this. "
      ]
    },
    {
      "cell_type": "code",
      "metadata": {
        "id": "DTwwDkvlr6bx"
      },
      "source": [
        "## This part will de done during the lecture.\n",
        "## First let's inspect the team's pages from transfermarkt\n",
        "\n",
        "def player_link_generator(team_url):\n",
        "    pass"
      ],
      "execution_count": null,
      "outputs": []
    },
    {
      "cell_type": "markdown",
      "metadata": {
        "id": "1Ouvr19U8RhO"
      },
      "source": [
        "# Lab"
      ]
    },
    {
      "cell_type": "markdown",
      "metadata": {
        "id": "WNOZPv7s8UCz"
      },
      "source": [
        "- We are only one step away from our goal. Now you will be finishing the remaining part of the job. Let's summarize what we have done so far:\n",
        "\n",
        "1. Given a league_url (Premier League in this case) we first get all the team's url.\n",
        "\n",
        "2. Given a Premier League team's url (We used Liverpool FC as an example) we can now get all the players playing for this team. \n",
        "\n",
        "__Your Task__\n",
        "\n",
        "\n",
        "\n"
      ]
    },
    {
      "cell_type": "markdown",
      "metadata": {
        "id": "QFAodmXsVFXF"
      },
      "source": [
        "1. From a team page (for example [Manchester United](https://www.transfermarkt.com/manchester-united/startseite/verein/985/saison_id/2020)) extract all the players' names and links to their page."
      ]
    },
    {
      "cell_type": "code",
      "metadata": {
        "id": "x_OTuqgzwtLX"
      },
      "source": [
        "def soup_maker(url):\n",
        "\n",
        "  headers = {'User-Agent': \n",
        "        'Mozilla/5.0 (X11; Linux x86_64) AppleWebKit/537.36 (KHTML, like Gecko) Chrome/47.0.2526.106 Safari/537.36'}\n",
        "\n",
        "  resp = requests.get(url, headers = headers, timeout = 5)\n",
        "\n",
        "  print(resp.status_code)\n",
        "\n",
        "  soup_obj = BeautifulSoup(resp.content, 'html.parser')\n",
        "\n",
        "  return soup_obj\n",
        "\n",
        "def team_link_generator(league_url):\n",
        "\n",
        "  soup_obj = soup_maker(league_url)\n",
        "  table = soup_obj.find('div', {'id': 'yw1'})\n",
        "\n",
        "  tbody = table.findChild('tbody')\n",
        "\n",
        "  cells = tbody.find_all('span', class_ = \"show-for-small\")\n",
        "\n",
        "  base_url = 'https://www.transfermarkt.com'\n",
        "\n",
        "  for cell in cells:\n",
        "    print(cell.text)\n",
        "    team_url = base_url + cell.a.get('href')\n",
        "    print(team_url)"
      ],
      "execution_count": null,
      "outputs": []
    },
    {
      "cell_type": "code",
      "metadata": {
        "colab": {
          "base_uri": "https://localhost:8080/"
        },
        "id": "MtnQF7bu2QDU",
        "outputId": "c0fac207-faf4-4571-9ef6-dffb30c36bc1"
      },
      "source": [
        "link_generator('https://www.transfermarkt.com/manchester-united/startseite/verein/985/saison_id/2020')"
      ],
      "execution_count": null,
      "outputs": [
        {
          "output_type": "stream",
          "text": [
            "200\n",
            "D. de Gea\n",
            "https://www.transfermarkt.com/david-de-gea/profil/spieler/59377\n",
            "D. Henderson\n",
            "https://www.transfermarkt.com/dean-henderson/profil/spieler/258919\n",
            "S. Romero\n",
            "https://www.transfermarkt.com/sergio-romero/profil/spieler/30690\n",
            "N. Bishop\n",
            "https://www.transfermarkt.com/nathan-bishop/profil/spieler/495033\n",
            "Lee Grant\n",
            "https://www.transfermarkt.com/lee-grant/profil/spieler/13460\n",
            "H. Maguire\n",
            "https://www.transfermarkt.com/harry-maguire/profil/spieler/177907\n",
            "V. Lindelöf\n",
            "https://www.transfermarkt.com/victor-lindelof/profil/spieler/184573\n",
            "E. Bailly\n",
            "https://www.transfermarkt.com/eric-bailly/profil/spieler/286384\n",
            "A. Tuanzebe\n",
            "https://www.transfermarkt.com/axel-tuanzebe/profil/spieler/342046\n",
            "P. Jones\n",
            "https://www.transfermarkt.com/phil-jones/profil/spieler/117996\n",
            "A. Telles\n",
            "https://www.transfermarkt.com/alex-telles/profil/spieler/255755\n",
            "Luke Shaw\n",
            "https://www.transfermarkt.com/luke-shaw/profil/spieler/183288\n",
            "B. Williams\n",
            "https://www.transfermarkt.com/brandon-williams/profil/spieler/507700\n",
            "A. Wan-Bissaka\n",
            "https://www.transfermarkt.com/aaron-wan-bissaka/profil/spieler/477758\n",
            "N. Matic\n",
            "https://www.transfermarkt.com/nemanja-matic/profil/spieler/74683\n",
            "P. Pogba\n",
            "https://www.transfermarkt.com/paul-pogba/profil/spieler/122153\n",
            "D. van de Beek\n",
            "https://www.transfermarkt.com/donny-van-de-beek/profil/spieler/288255\n",
            "S. McTominay\n",
            "https://www.transfermarkt.com/scott-mctominay/profil/spieler/315969\n",
            "Fred\n",
            "https://www.transfermarkt.com/fred/profil/spieler/191614\n",
            "E. Galbraith\n",
            "https://www.transfermarkt.com/ethan-galbraith/profil/spieler/433991\n",
            "H. Mejbri\n",
            "https://www.transfermarkt.com/hannibal-mejbri/profil/spieler/607224\n",
            "B. Fernandes\n",
            "https://www.transfermarkt.com/bruno-fernandes/profil/spieler/240306\n",
            "Juan Mata\n",
            "https://www.transfermarkt.com/juan-mata/profil/spieler/44068\n",
            "M. Rashford\n",
            "https://www.transfermarkt.com/marcus-rashford/profil/spieler/258923\n",
            "D. James\n",
            "https://www.transfermarkt.com/daniel-james/profil/spieler/319301\n",
            "A. Elanga\n",
            "https://www.transfermarkt.com/anthony-elanga/profil/spieler/583189\n",
            "M. Greenwood\n",
            "https://www.transfermarkt.com/mason-greenwood/profil/spieler/532826\n",
            "A. Diallo\n",
            "https://www.transfermarkt.com/amad-diallo/profil/spieler/536835\n",
            "A. Martial\n",
            "https://www.transfermarkt.com/anthony-martial/profil/spieler/182877\n",
            "E. Cavani\n",
            "https://www.transfermarkt.com/edinson-cavani/profil/spieler/48280\n"
          ],
          "name": "stdout"
        }
      ]
    },
    {
      "cell_type": "markdown",
      "metadata": {
        "id": "dFHNSYsoVED5"
      },
      "source": [
        "2. For a given player's url (for example, [Paul Pogba](https://www.transfermarkt.com/paul-pogba/profil/spieler/122153)) extract all the transfer history of this player. See below for an example."
      ]
    },
    {
      "cell_type": "code",
      "metadata": {
        "colab": {
          "base_uri": "https://localhost:8080/"
        },
        "id": "JCBx83I8DbR-",
        "outputId": "7b2f49ce-c171-41bc-aa43-07da257de4fd"
      },
      "source": [
        "def history(player_url):\n",
        "  headers = {'User-Agent': \n",
        "        'Mozilla/5.0 (X11; Linux x86_64) AppleWebKit/537.36 (KHTML, like Gecko) Chrome/47.0.2526.106 Safari/537.36'}\n",
        "\n",
        "  resp = requests.get(player_url, headers = headers, timeout = 5)\n",
        "\n",
        "  soup_obj = BeautifulSoup(resp.content, 'html.parser')\n",
        "  data = soup_obj.find_all('tr',class_='zeile-transfer' )\n",
        "  historys=[]\n",
        "  for history in data:\n",
        "    his=[]\n",
        "    his_list=history.text.split(\"\\n\")\n",
        "    for i in his_list:\n",
        "      if i !='' and i!= ' ':\n",
        "        his.append(i)\n",
        "    historys.append(his)\n",
        "  return  historys\n",
        "history('https://www.transfermarkt.com/paul-pogba/profil/spieler/122153')"
      ],
      "execution_count": null,
      "outputs": [
        {
          "output_type": "execute_result",
          "data": {
            "text/plain": [
              "[['16/17', 'Aug 9, 2016', 'Juventus', 'Man Utd', '€70.00m', '€105.00m'],\n",
              " ['12/13',\n",
              "  'Aug 3, 2012',\n",
              "  'Man Utd U23',\n",
              "  'Juventus',\n",
              "  '€3.50m',\n",
              "  'free transfer'],\n",
              " ['11/12', 'Jul 1, 2011', 'Man Utd U18', 'Man Utd U23', '-', '-'],\n",
              " ['09/10', 'Jul 1, 2009', 'Le Havre U17', 'Man Utd U18', '-', '?'],\n",
              " ['07/08',\n",
              "  'Jul 1, 2007',\n",
              "  'US Torcy Yth.',\n",
              "  'Le Havre U17',\n",
              "  '-',\n",
              "  'free transfer']]"
            ]
          },
          "metadata": {
            "tags": []
          },
          "execution_count": 83
        }
      ]
    },
    {
      "cell_type": "markdown",
      "metadata": {
        "id": "UYYxW-p7Ug1y"
      },
      "source": [
        "![Screen Shot 2021-04-30 at 11.07.02 AM.png](data:image/png;base64,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)"
      ]
    },
    {
      "cell_type": "markdown",
      "metadata": {
        "id": "UGumemZjUf6N"
      },
      "source": [
        "3. Write a function that combines this work with the ones above so that in this function you create a dataset that contains all Premier Leagu Player's transfer history. Save the dataframe as `premiere_league.csv` under a folder named `data`."
      ]
    },
    {
      "cell_type": "code",
      "metadata": {
        "id": "CtFyb8sK3vkt"
      },
      "source": [
        "\n"
      ],
      "execution_count": null,
      "outputs": []
    },
    {
      "cell_type": "markdown",
      "metadata": {
        "id": "vkhgOFZRVkvx"
      },
      "source": [
        "# Submit your homework"
      ]
    },
    {
      "cell_type": "markdown",
      "metadata": {
        "id": "FjoeVNEJ1Tlh"
      },
      "source": [
        "Please submit your homework on 05-07-2021 by 23:59 to the Google Form below.\n"
      ]
    },
    {
      "cell_type": "markdown",
      "metadata": {
        "id": "xutbkjRrzptV"
      },
      "source": [
        "[Google Forms](https://forms.gle/Tn3VPFWnw8dyu8PK6)"
      ]
    }
  ]
}